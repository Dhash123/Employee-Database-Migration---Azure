{
 "cells": [
  {
   "cell_type": "code",
   "execution_count": 1,
   "id": "ffc903b9",
   "metadata": {
    "_cell_guid": "b1076dfc-b9ad-4769-8c92-a6c4dae69d19",
    "_uuid": "8f2839f25d086af736a60e9eeb907d3b93b6e0e5",
    "execution": {
     "iopub.execute_input": "2023-05-11T20:17:59.152557Z",
     "iopub.status.busy": "2023-05-11T20:17:59.152022Z",
     "iopub.status.idle": "2023-05-11T20:17:59.173119Z",
     "shell.execute_reply": "2023-05-11T20:17:59.171597Z"
    },
    "papermill": {
     "duration": 0.05362,
     "end_time": "2023-05-11T20:17:59.175927",
     "exception": false,
     "start_time": "2023-05-11T20:17:59.122307",
     "status": "completed"
    },
    "tags": []
   },
   "outputs": [
    {
     "name": "stdout",
     "output_type": "stream",
     "text": [
      "/kaggle/input/employee/train.csv\n",
      "/kaggle/input/employee/test.csv\n"
     ]
    }
   ],
   "source": [
    "# This Python 3 environment comes with many helpful analytics libraries installed\n",
    "# It is defined by the kaggle/python Docker image: https://github.com/kaggle/docker-python\n",
    "# For example, here's several helpful packages to load\n",
    "\n",
    "import numpy as np # linear algebra\n",
    "import pandas as pd # data processing, CSV file I/O (e.g. pd.read_csv)\n",
    "\n",
    "# Input data files are available in the read-only \"../input/\" directory\n",
    "# For example, running this (by clicking run or pressing Shift+Enter) will list all files under the input directory\n",
    "\n",
    "import os\n",
    "for dirname, _, filenames in os.walk('/kaggle/input'):\n",
    "    for filename in filenames:\n",
    "        print(os.path.join(dirname, filename))\n",
    "\n",
    "# You can write up to 20GB to the current directory (/kaggle/working/) that gets preserved as output when you create a version using \"Save & Run All\" \n",
    "# You can also write temporary files to /kaggle/temp/, but they won't be saved outside of the current session"
   ]
  },
  {
   "cell_type": "markdown",
   "id": "65b698a5",
   "metadata": {
    "papermill": {
     "duration": 0.027889,
     "end_time": "2023-05-11T20:17:59.232930",
     "exception": false,
     "start_time": "2023-05-11T20:17:59.205041",
     "status": "completed"
    },
    "tags": []
   },
   "source": [
    "# Introduction"
   ]
  },
  {
   "cell_type": "markdown",
   "id": "0995be0d",
   "metadata": {
    "papermill": {
     "duration": 0.027395,
     "end_time": "2023-05-11T20:17:59.287613",
     "exception": false,
     "start_time": "2023-05-11T20:17:59.260218",
     "status": "completed"
    },
    "tags": []
   },
   "source": [
    "Attrition is a problem that impacts all businesses, irrespective of geography, industry and size of the company. Employee attrition leads to significant costs for a business, including the cost of business disruption, hiring new staff and training new staff. As such, there is great business interest in understanding the drivers of, and minimizing staff attrition. Let us therefore turn to our predictive modelling capabilities and see if we can predict employee attrition on this IBM dataset.\n",
    "\n",
    "* This intoduction from ROHIT SAHOO notebook"
   ]
  },
  {
   "cell_type": "markdown",
   "id": "1eba76d3",
   "metadata": {
    "papermill": {
     "duration": 0.028587,
     "end_time": "2023-05-11T20:17:59.343448",
     "exception": false,
     "start_time": "2023-05-11T20:17:59.314861",
     "status": "completed"
    },
    "tags": []
   },
   "source": [
    "**Inspiration**\n",
    "\n",
    "Predict the Attrition of an employee based on the various factor given"
   ]
  },
  {
   "cell_type": "markdown",
   "id": "b57f821f",
   "metadata": {
    "papermill": {
     "duration": 0.02693,
     "end_time": "2023-05-11T20:17:59.398460",
     "exception": false,
     "start_time": "2023-05-11T20:17:59.371530",
     "status": "completed"
    },
    "tags": []
   },
   "source": [
    "# Importing Libraries"
   ]
  },
  {
   "cell_type": "code",
   "execution_count": 2,
   "id": "aa6dda9b",
   "metadata": {
    "execution": {
     "iopub.execute_input": "2023-05-11T20:17:59.455207Z",
     "iopub.status.busy": "2023-05-11T20:17:59.454782Z",
     "iopub.status.idle": "2023-05-11T20:18:02.538344Z",
     "shell.execute_reply": "2023-05-11T20:18:02.537219Z"
    },
    "papermill": {
     "duration": 3.11509,
     "end_time": "2023-05-11T20:18:02.541231",
     "exception": false,
     "start_time": "2023-05-11T20:17:59.426141",
     "status": "completed"
    },
    "tags": []
   },
   "outputs": [
    {
     "name": "stderr",
     "output_type": "stream",
     "text": [
      "/opt/conda/lib/python3.10/site-packages/scipy/__init__.py:146: UserWarning: A NumPy version >=1.16.5 and <1.23.0 is required for this version of SciPy (detected version 1.23.5\n",
      "  warnings.warn(f\"A NumPy version >={np_minversion} and <{np_maxversion}\"\n"
     ]
    }
   ],
   "source": [
    "import numpy as np\n",
    "import pandas as pd\n",
    "import matplotlib.pyplot as plt\n",
    "import seaborn as sns\n",
    "import missingno as msno\n",
    "import plotly.express as px\n",
    "from sklearn.preprocessing import MinMaxScaler\n",
    "from sklearn.preprocessing import StandardScaler, normalize\n",
    "from sklearn.model_selection import train_test_split\n",
    "from sklearn.linear_model import LogisticRegression\n",
    "from sklearn.metrics import accuracy_score\n",
    "from sklearn.ensemble import RandomForestClassifier\n",
    "import warnings\n",
    "warnings.filterwarnings('ignore')"
   ]
  },
  {
   "cell_type": "markdown",
   "id": "53a4d59b",
   "metadata": {
    "papermill": {
     "duration": 0.028256,
     "end_time": "2023-05-11T20:18:02.598360",
     "exception": false,
     "start_time": "2023-05-11T20:18:02.570104",
     "status": "completed"
    },
    "tags": []
   },
   "source": [
    "# Loading & Inspecting Data"
   ]
  },
  {
   "cell_type": "code",
   "execution_count": 3,
   "id": "0c7cff1a",
   "metadata": {
    "execution": {
     "iopub.execute_input": "2023-05-11T20:18:02.658784Z",
     "iopub.status.busy": "2023-05-11T20:18:02.657802Z",
     "iopub.status.idle": "2023-05-11T20:18:02.737055Z",
     "shell.execute_reply": "2023-05-11T20:18:02.735885Z"
    },
    "papermill": {
     "duration": 0.112984,
     "end_time": "2023-05-11T20:18:02.739583",
     "exception": false,
     "start_time": "2023-05-11T20:18:02.626599",
     "status": "completed"
    },
    "tags": []
   },
   "outputs": [
    {
     "data": {
      "text/html": [
       "<div>\n",
       "<style scoped>\n",
       "    .dataframe tbody tr th:only-of-type {\n",
       "        vertical-align: middle;\n",
       "    }\n",
       "\n",
       "    .dataframe tbody tr th {\n",
       "        vertical-align: top;\n",
       "    }\n",
       "\n",
       "    .dataframe thead th {\n",
       "        text-align: right;\n",
       "    }\n",
       "</style>\n",
       "<table border=\"1\" class=\"dataframe\">\n",
       "  <thead>\n",
       "    <tr style=\"text-align: right;\">\n",
       "      <th></th>\n",
       "      <th>Age</th>\n",
       "      <th>Attrition</th>\n",
       "      <th>BusinessTravel</th>\n",
       "      <th>DailyRate</th>\n",
       "      <th>Department</th>\n",
       "      <th>DistanceFromHome</th>\n",
       "      <th>Education</th>\n",
       "      <th>EducationField</th>\n",
       "      <th>EmployeeCount</th>\n",
       "      <th>EmployeeNumber</th>\n",
       "      <th>...</th>\n",
       "      <th>RelationshipSatisfaction</th>\n",
       "      <th>StandardHours</th>\n",
       "      <th>StockOptionLevel</th>\n",
       "      <th>TotalWorkingYears</th>\n",
       "      <th>TrainingTimesLastYear</th>\n",
       "      <th>WorkLifeBalance</th>\n",
       "      <th>YearsAtCompany</th>\n",
       "      <th>YearsInCurrentRole</th>\n",
       "      <th>YearsSinceLastPromotion</th>\n",
       "      <th>YearsWithCurrManager</th>\n",
       "    </tr>\n",
       "  </thead>\n",
       "  <tbody>\n",
       "    <tr>\n",
       "      <th>0</th>\n",
       "      <td>41</td>\n",
       "      <td>1</td>\n",
       "      <td>Travel_Rarely</td>\n",
       "      <td>1102</td>\n",
       "      <td>Sales</td>\n",
       "      <td>1</td>\n",
       "      <td>2</td>\n",
       "      <td>Life Sciences</td>\n",
       "      <td>1</td>\n",
       "      <td>1</td>\n",
       "      <td>...</td>\n",
       "      <td>1</td>\n",
       "      <td>80</td>\n",
       "      <td>0</td>\n",
       "      <td>8</td>\n",
       "      <td>0</td>\n",
       "      <td>1</td>\n",
       "      <td>6</td>\n",
       "      <td>4</td>\n",
       "      <td>0</td>\n",
       "      <td>5</td>\n",
       "    </tr>\n",
       "    <tr>\n",
       "      <th>1</th>\n",
       "      <td>49</td>\n",
       "      <td>0</td>\n",
       "      <td>Travel_Frequently</td>\n",
       "      <td>279</td>\n",
       "      <td>Research &amp; Development</td>\n",
       "      <td>8</td>\n",
       "      <td>1</td>\n",
       "      <td>Life Sciences</td>\n",
       "      <td>1</td>\n",
       "      <td>2</td>\n",
       "      <td>...</td>\n",
       "      <td>4</td>\n",
       "      <td>80</td>\n",
       "      <td>1</td>\n",
       "      <td>10</td>\n",
       "      <td>3</td>\n",
       "      <td>3</td>\n",
       "      <td>10</td>\n",
       "      <td>7</td>\n",
       "      <td>1</td>\n",
       "      <td>7</td>\n",
       "    </tr>\n",
       "    <tr>\n",
       "      <th>2</th>\n",
       "      <td>37</td>\n",
       "      <td>1</td>\n",
       "      <td>Travel_Rarely</td>\n",
       "      <td>1373</td>\n",
       "      <td>Research &amp; Development</td>\n",
       "      <td>2</td>\n",
       "      <td>2</td>\n",
       "      <td>Other</td>\n",
       "      <td>1</td>\n",
       "      <td>4</td>\n",
       "      <td>...</td>\n",
       "      <td>2</td>\n",
       "      <td>80</td>\n",
       "      <td>0</td>\n",
       "      <td>7</td>\n",
       "      <td>3</td>\n",
       "      <td>3</td>\n",
       "      <td>0</td>\n",
       "      <td>0</td>\n",
       "      <td>0</td>\n",
       "      <td>0</td>\n",
       "    </tr>\n",
       "    <tr>\n",
       "      <th>3</th>\n",
       "      <td>33</td>\n",
       "      <td>0</td>\n",
       "      <td>Travel_Frequently</td>\n",
       "      <td>1392</td>\n",
       "      <td>Research &amp; Development</td>\n",
       "      <td>3</td>\n",
       "      <td>4</td>\n",
       "      <td>Life Sciences</td>\n",
       "      <td>1</td>\n",
       "      <td>5</td>\n",
       "      <td>...</td>\n",
       "      <td>3</td>\n",
       "      <td>80</td>\n",
       "      <td>0</td>\n",
       "      <td>8</td>\n",
       "      <td>3</td>\n",
       "      <td>3</td>\n",
       "      <td>8</td>\n",
       "      <td>7</td>\n",
       "      <td>3</td>\n",
       "      <td>0</td>\n",
       "    </tr>\n",
       "    <tr>\n",
       "      <th>4</th>\n",
       "      <td>27</td>\n",
       "      <td>0</td>\n",
       "      <td>Travel_Rarely</td>\n",
       "      <td>591</td>\n",
       "      <td>Research &amp; Development</td>\n",
       "      <td>2</td>\n",
       "      <td>1</td>\n",
       "      <td>Medical</td>\n",
       "      <td>1</td>\n",
       "      <td>7</td>\n",
       "      <td>...</td>\n",
       "      <td>4</td>\n",
       "      <td>80</td>\n",
       "      <td>1</td>\n",
       "      <td>6</td>\n",
       "      <td>3</td>\n",
       "      <td>3</td>\n",
       "      <td>2</td>\n",
       "      <td>2</td>\n",
       "      <td>2</td>\n",
       "      <td>2</td>\n",
       "    </tr>\n",
       "  </tbody>\n",
       "</table>\n",
       "<p>5 rows × 35 columns</p>\n",
       "</div>"
      ],
      "text/plain": [
       "   Age  Attrition     BusinessTravel  DailyRate              Department  \\\n",
       "0   41          1      Travel_Rarely       1102                   Sales   \n",
       "1   49          0  Travel_Frequently        279  Research & Development   \n",
       "2   37          1      Travel_Rarely       1373  Research & Development   \n",
       "3   33          0  Travel_Frequently       1392  Research & Development   \n",
       "4   27          0      Travel_Rarely        591  Research & Development   \n",
       "\n",
       "   DistanceFromHome  Education EducationField  EmployeeCount  EmployeeNumber  \\\n",
       "0                 1          2  Life Sciences              1               1   \n",
       "1                 8          1  Life Sciences              1               2   \n",
       "2                 2          2          Other              1               4   \n",
       "3                 3          4  Life Sciences              1               5   \n",
       "4                 2          1        Medical              1               7   \n",
       "\n",
       "   ...  RelationshipSatisfaction StandardHours  StockOptionLevel  \\\n",
       "0  ...                         1            80                 0   \n",
       "1  ...                         4            80                 1   \n",
       "2  ...                         2            80                 0   \n",
       "3  ...                         3            80                 0   \n",
       "4  ...                         4            80                 1   \n",
       "\n",
       "   TotalWorkingYears  TrainingTimesLastYear WorkLifeBalance  YearsAtCompany  \\\n",
       "0                  8                      0               1               6   \n",
       "1                 10                      3               3              10   \n",
       "2                  7                      3               3               0   \n",
       "3                  8                      3               3               8   \n",
       "4                  6                      3               3               2   \n",
       "\n",
       "  YearsInCurrentRole  YearsSinceLastPromotion  YearsWithCurrManager  \n",
       "0                  4                        0                     5  \n",
       "1                  7                        1                     7  \n",
       "2                  0                        0                     0  \n",
       "3                  7                        3                     0  \n",
       "4                  2                        2                     2  \n",
       "\n",
       "[5 rows x 35 columns]"
      ]
     },
     "execution_count": 3,
     "metadata": {},
     "output_type": "execute_result"
    }
   ],
   "source": [
    "train_data = pd.read_csv(r\"/kaggle/input/employee/train.csv\")\n",
    "train_data.head()"
   ]
  },
  {
   "cell_type": "code",
   "execution_count": 4,
   "id": "bb687a68",
   "metadata": {
    "execution": {
     "iopub.execute_input": "2023-05-11T20:18:02.797826Z",
     "iopub.status.busy": "2023-05-11T20:18:02.797333Z",
     "iopub.status.idle": "2023-05-11T20:18:02.829018Z",
     "shell.execute_reply": "2023-05-11T20:18:02.827661Z"
    },
    "papermill": {
     "duration": 0.06423,
     "end_time": "2023-05-11T20:18:02.831976",
     "exception": false,
     "start_time": "2023-05-11T20:18:02.767746",
     "status": "completed"
    },
    "tags": []
   },
   "outputs": [
    {
     "data": {
      "text/html": [
       "<div>\n",
       "<style scoped>\n",
       "    .dataframe tbody tr th:only-of-type {\n",
       "        vertical-align: middle;\n",
       "    }\n",
       "\n",
       "    .dataframe tbody tr th {\n",
       "        vertical-align: top;\n",
       "    }\n",
       "\n",
       "    .dataframe thead th {\n",
       "        text-align: right;\n",
       "    }\n",
       "</style>\n",
       "<table border=\"1\" class=\"dataframe\">\n",
       "  <thead>\n",
       "    <tr style=\"text-align: right;\">\n",
       "      <th></th>\n",
       "      <th>Age</th>\n",
       "      <th>BusinessTravel</th>\n",
       "      <th>DailyRate</th>\n",
       "      <th>Department</th>\n",
       "      <th>DistanceFromHome</th>\n",
       "      <th>Education</th>\n",
       "      <th>EducationField</th>\n",
       "      <th>EmployeeCount</th>\n",
       "      <th>EmployeeNumber</th>\n",
       "      <th>EnvironmentSatisfaction</th>\n",
       "      <th>...</th>\n",
       "      <th>RelationshipSatisfaction</th>\n",
       "      <th>StandardHours</th>\n",
       "      <th>StockOptionLevel</th>\n",
       "      <th>TotalWorkingYears</th>\n",
       "      <th>TrainingTimesLastYear</th>\n",
       "      <th>WorkLifeBalance</th>\n",
       "      <th>YearsAtCompany</th>\n",
       "      <th>YearsInCurrentRole</th>\n",
       "      <th>YearsSinceLastPromotion</th>\n",
       "      <th>YearsWithCurrManager</th>\n",
       "    </tr>\n",
       "  </thead>\n",
       "  <tbody>\n",
       "    <tr>\n",
       "      <th>0</th>\n",
       "      <td>34</td>\n",
       "      <td>Travel_Rarely</td>\n",
       "      <td>790</td>\n",
       "      <td>Sales</td>\n",
       "      <td>24</td>\n",
       "      <td>4</td>\n",
       "      <td>Medical</td>\n",
       "      <td>1</td>\n",
       "      <td>1489</td>\n",
       "      <td>1</td>\n",
       "      <td>...</td>\n",
       "      <td>3</td>\n",
       "      <td>80</td>\n",
       "      <td>0</td>\n",
       "      <td>16</td>\n",
       "      <td>2</td>\n",
       "      <td>4</td>\n",
       "      <td>15</td>\n",
       "      <td>9</td>\n",
       "      <td>10</td>\n",
       "      <td>10</td>\n",
       "    </tr>\n",
       "    <tr>\n",
       "      <th>1</th>\n",
       "      <td>35</td>\n",
       "      <td>Travel_Rarely</td>\n",
       "      <td>660</td>\n",
       "      <td>Sales</td>\n",
       "      <td>7</td>\n",
       "      <td>1</td>\n",
       "      <td>Life Sciences</td>\n",
       "      <td>1</td>\n",
       "      <td>1492</td>\n",
       "      <td>4</td>\n",
       "      <td>...</td>\n",
       "      <td>1</td>\n",
       "      <td>80</td>\n",
       "      <td>1</td>\n",
       "      <td>1</td>\n",
       "      <td>3</td>\n",
       "      <td>3</td>\n",
       "      <td>1</td>\n",
       "      <td>0</td>\n",
       "      <td>0</td>\n",
       "      <td>0</td>\n",
       "    </tr>\n",
       "    <tr>\n",
       "      <th>2</th>\n",
       "      <td>24</td>\n",
       "      <td>Travel_Frequently</td>\n",
       "      <td>381</td>\n",
       "      <td>Research &amp; Development</td>\n",
       "      <td>9</td>\n",
       "      <td>3</td>\n",
       "      <td>Medical</td>\n",
       "      <td>1</td>\n",
       "      <td>1494</td>\n",
       "      <td>2</td>\n",
       "      <td>...</td>\n",
       "      <td>3</td>\n",
       "      <td>80</td>\n",
       "      <td>0</td>\n",
       "      <td>4</td>\n",
       "      <td>2</td>\n",
       "      <td>2</td>\n",
       "      <td>0</td>\n",
       "      <td>0</td>\n",
       "      <td>0</td>\n",
       "      <td>0</td>\n",
       "    </tr>\n",
       "    <tr>\n",
       "      <th>3</th>\n",
       "      <td>24</td>\n",
       "      <td>Non-Travel</td>\n",
       "      <td>830</td>\n",
       "      <td>Sales</td>\n",
       "      <td>13</td>\n",
       "      <td>2</td>\n",
       "      <td>Life Sciences</td>\n",
       "      <td>1</td>\n",
       "      <td>1495</td>\n",
       "      <td>4</td>\n",
       "      <td>...</td>\n",
       "      <td>3</td>\n",
       "      <td>80</td>\n",
       "      <td>1</td>\n",
       "      <td>1</td>\n",
       "      <td>2</td>\n",
       "      <td>3</td>\n",
       "      <td>1</td>\n",
       "      <td>0</td>\n",
       "      <td>0</td>\n",
       "      <td>0</td>\n",
       "    </tr>\n",
       "    <tr>\n",
       "      <th>4</th>\n",
       "      <td>44</td>\n",
       "      <td>Travel_Frequently</td>\n",
       "      <td>1193</td>\n",
       "      <td>Research &amp; Development</td>\n",
       "      <td>2</td>\n",
       "      <td>1</td>\n",
       "      <td>Medical</td>\n",
       "      <td>1</td>\n",
       "      <td>1496</td>\n",
       "      <td>2</td>\n",
       "      <td>...</td>\n",
       "      <td>2</td>\n",
       "      <td>80</td>\n",
       "      <td>0</td>\n",
       "      <td>16</td>\n",
       "      <td>2</td>\n",
       "      <td>2</td>\n",
       "      <td>2</td>\n",
       "      <td>2</td>\n",
       "      <td>2</td>\n",
       "      <td>2</td>\n",
       "    </tr>\n",
       "  </tbody>\n",
       "</table>\n",
       "<p>5 rows × 34 columns</p>\n",
       "</div>"
      ],
      "text/plain": [
       "   Age     BusinessTravel  DailyRate              Department  \\\n",
       "0   34      Travel_Rarely        790                   Sales   \n",
       "1   35      Travel_Rarely        660                   Sales   \n",
       "2   24  Travel_Frequently        381  Research & Development   \n",
       "3   24         Non-Travel        830                   Sales   \n",
       "4   44  Travel_Frequently       1193  Research & Development   \n",
       "\n",
       "   DistanceFromHome  Education EducationField  EmployeeCount  EmployeeNumber  \\\n",
       "0                24          4        Medical              1            1489   \n",
       "1                 7          1  Life Sciences              1            1492   \n",
       "2                 9          3        Medical              1            1494   \n",
       "3                13          2  Life Sciences              1            1495   \n",
       "4                 2          1        Medical              1            1496   \n",
       "\n",
       "   EnvironmentSatisfaction  ... RelationshipSatisfaction  StandardHours  \\\n",
       "0                        1  ...                        3             80   \n",
       "1                        4  ...                        1             80   \n",
       "2                        2  ...                        3             80   \n",
       "3                        4  ...                        3             80   \n",
       "4                        2  ...                        2             80   \n",
       "\n",
       "   StockOptionLevel  TotalWorkingYears TrainingTimesLastYear  WorkLifeBalance  \\\n",
       "0                 0                 16                     2                4   \n",
       "1                 1                  1                     3                3   \n",
       "2                 0                  4                     2                2   \n",
       "3                 1                  1                     2                3   \n",
       "4                 0                 16                     2                2   \n",
       "\n",
       "  YearsAtCompany  YearsInCurrentRole  YearsSinceLastPromotion  \\\n",
       "0             15                   9                       10   \n",
       "1              1                   0                        0   \n",
       "2              0                   0                        0   \n",
       "3              1                   0                        0   \n",
       "4              2                   2                        2   \n",
       "\n",
       "   YearsWithCurrManager  \n",
       "0                    10  \n",
       "1                     0  \n",
       "2                     0  \n",
       "3                     0  \n",
       "4                     2  \n",
       "\n",
       "[5 rows x 34 columns]"
      ]
     },
     "execution_count": 4,
     "metadata": {},
     "output_type": "execute_result"
    }
   ],
   "source": [
    "test_data = pd.read_csv(r\"/kaggle/input/employee/test.csv\")\n",
    "test_data.head()"
   ]
  },
  {
   "cell_type": "code",
   "execution_count": 5,
   "id": "df8c4c65",
   "metadata": {
    "execution": {
     "iopub.execute_input": "2023-05-11T20:18:02.893763Z",
     "iopub.status.busy": "2023-05-11T20:18:02.893330Z",
     "iopub.status.idle": "2023-05-11T20:18:02.900092Z",
     "shell.execute_reply": "2023-05-11T20:18:02.898930Z"
    },
    "papermill": {
     "duration": 0.040688,
     "end_time": "2023-05-11T20:18:02.902941",
     "exception": false,
     "start_time": "2023-05-11T20:18:02.862253",
     "status": "completed"
    },
    "tags": []
   },
   "outputs": [],
   "source": [
    "train_data['train_test'] = 1\n",
    "test_data['train_test'] = 0"
   ]
  },
  {
   "cell_type": "markdown",
   "id": "f8ea6fb3",
   "metadata": {
    "papermill": {
     "duration": 0.02879,
     "end_time": "2023-05-11T20:18:02.960245",
     "exception": false,
     "start_time": "2023-05-11T20:18:02.931455",
     "status": "completed"
    },
    "tags": []
   },
   "source": [
    "#  Data understanding"
   ]
  },
  {
   "cell_type": "code",
   "execution_count": 6,
   "id": "f7a8ba82",
   "metadata": {
    "execution": {
     "iopub.execute_input": "2023-05-11T20:18:03.021072Z",
     "iopub.status.busy": "2023-05-11T20:18:03.020602Z",
     "iopub.status.idle": "2023-05-11T20:18:03.026747Z",
     "shell.execute_reply": "2023-05-11T20:18:03.025691Z"
    },
    "papermill": {
     "duration": 0.042659,
     "end_time": "2023-05-11T20:18:03.031509",
     "exception": false,
     "start_time": "2023-05-11T20:18:02.988850",
     "status": "completed"
    },
    "tags": []
   },
   "outputs": [
    {
     "name": "stdout",
     "output_type": "stream",
     "text": [
      "The given dataset contains 1058 rows and 36 columns\n"
     ]
    }
   ],
   "source": [
    "print(f\"The given dataset contains {train_data.shape[0]} rows and {train_data.shape[1]} columns\")"
   ]
  },
  {
   "cell_type": "code",
   "execution_count": 7,
   "id": "3d44d429",
   "metadata": {
    "execution": {
     "iopub.execute_input": "2023-05-11T20:18:03.092639Z",
     "iopub.status.busy": "2023-05-11T20:18:03.092198Z",
     "iopub.status.idle": "2023-05-11T20:18:03.123569Z",
     "shell.execute_reply": "2023-05-11T20:18:03.121949Z"
    },
    "papermill": {
     "duration": 0.06427,
     "end_time": "2023-05-11T20:18:03.126076",
     "exception": false,
     "start_time": "2023-05-11T20:18:03.061806",
     "status": "completed"
    },
    "tags": []
   },
   "outputs": [
    {
     "name": "stdout",
     "output_type": "stream",
     "text": [
      "<class 'pandas.core.frame.DataFrame'>\n",
      "RangeIndex: 1058 entries, 0 to 1057\n",
      "Data columns (total 36 columns):\n",
      " #   Column                    Non-Null Count  Dtype \n",
      "---  ------                    --------------  ----- \n",
      " 0   Age                       1058 non-null   int64 \n",
      " 1   Attrition                 1058 non-null   int64 \n",
      " 2   BusinessTravel            1058 non-null   object\n",
      " 3   DailyRate                 1058 non-null   int64 \n",
      " 4   Department                1058 non-null   object\n",
      " 5   DistanceFromHome          1058 non-null   int64 \n",
      " 6   Education                 1058 non-null   int64 \n",
      " 7   EducationField            1058 non-null   object\n",
      " 8   EmployeeCount             1058 non-null   int64 \n",
      " 9   EmployeeNumber            1058 non-null   int64 \n",
      " 10  EnvironmentSatisfaction   1058 non-null   int64 \n",
      " 11  Gender                    1058 non-null   object\n",
      " 12  HourlyRate                1058 non-null   int64 \n",
      " 13  JobInvolvement            1058 non-null   int64 \n",
      " 14  JobLevel                  1058 non-null   int64 \n",
      " 15  JobRole                   1058 non-null   object\n",
      " 16  JobSatisfaction           1058 non-null   int64 \n",
      " 17  MaritalStatus             1058 non-null   object\n",
      " 18  MonthlyIncome             1058 non-null   int64 \n",
      " 19  MonthlyRate               1058 non-null   int64 \n",
      " 20  NumCompaniesWorked        1058 non-null   int64 \n",
      " 21  Over18                    1058 non-null   object\n",
      " 22  OverTime                  1058 non-null   object\n",
      " 23  PercentSalaryHike         1058 non-null   int64 \n",
      " 24  PerformanceRating         1058 non-null   int64 \n",
      " 25  RelationshipSatisfaction  1058 non-null   int64 \n",
      " 26  StandardHours             1058 non-null   int64 \n",
      " 27  StockOptionLevel          1058 non-null   int64 \n",
      " 28  TotalWorkingYears         1058 non-null   int64 \n",
      " 29  TrainingTimesLastYear     1058 non-null   int64 \n",
      " 30  WorkLifeBalance           1058 non-null   int64 \n",
      " 31  YearsAtCompany            1058 non-null   int64 \n",
      " 32  YearsInCurrentRole        1058 non-null   int64 \n",
      " 33  YearsSinceLastPromotion   1058 non-null   int64 \n",
      " 34  YearsWithCurrManager      1058 non-null   int64 \n",
      " 35  train_test                1058 non-null   int64 \n",
      "dtypes: int64(28), object(8)\n",
      "memory usage: 297.7+ KB\n"
     ]
    }
   ],
   "source": [
    "train_data.info()"
   ]
  },
  {
   "cell_type": "code",
   "execution_count": 8,
   "id": "a1865c19",
   "metadata": {
    "execution": {
     "iopub.execute_input": "2023-05-11T20:18:03.186224Z",
     "iopub.status.busy": "2023-05-11T20:18:03.185823Z",
     "iopub.status.idle": "2023-05-11T20:18:03.289079Z",
     "shell.execute_reply": "2023-05-11T20:18:03.287882Z"
    },
    "papermill": {
     "duration": 0.13637,
     "end_time": "2023-05-11T20:18:03.291966",
     "exception": false,
     "start_time": "2023-05-11T20:18:03.155596",
     "status": "completed"
    },
    "tags": []
   },
   "outputs": [
    {
     "data": {
      "text/html": [
       "<div>\n",
       "<style scoped>\n",
       "    .dataframe tbody tr th:only-of-type {\n",
       "        vertical-align: middle;\n",
       "    }\n",
       "\n",
       "    .dataframe tbody tr th {\n",
       "        vertical-align: top;\n",
       "    }\n",
       "\n",
       "    .dataframe thead th {\n",
       "        text-align: right;\n",
       "    }\n",
       "</style>\n",
       "<table border=\"1\" class=\"dataframe\">\n",
       "  <thead>\n",
       "    <tr style=\"text-align: right;\">\n",
       "      <th></th>\n",
       "      <th>Age</th>\n",
       "      <th>Attrition</th>\n",
       "      <th>DailyRate</th>\n",
       "      <th>DistanceFromHome</th>\n",
       "      <th>Education</th>\n",
       "      <th>EmployeeCount</th>\n",
       "      <th>EmployeeNumber</th>\n",
       "      <th>EnvironmentSatisfaction</th>\n",
       "      <th>HourlyRate</th>\n",
       "      <th>JobInvolvement</th>\n",
       "      <th>...</th>\n",
       "      <th>StandardHours</th>\n",
       "      <th>StockOptionLevel</th>\n",
       "      <th>TotalWorkingYears</th>\n",
       "      <th>TrainingTimesLastYear</th>\n",
       "      <th>WorkLifeBalance</th>\n",
       "      <th>YearsAtCompany</th>\n",
       "      <th>YearsInCurrentRole</th>\n",
       "      <th>YearsSinceLastPromotion</th>\n",
       "      <th>YearsWithCurrManager</th>\n",
       "      <th>train_test</th>\n",
       "    </tr>\n",
       "  </thead>\n",
       "  <tbody>\n",
       "    <tr>\n",
       "      <th>count</th>\n",
       "      <td>1058.000000</td>\n",
       "      <td>1058.000000</td>\n",
       "      <td>1058.000000</td>\n",
       "      <td>1058.000000</td>\n",
       "      <td>1058.000000</td>\n",
       "      <td>1058.0</td>\n",
       "      <td>1058.000000</td>\n",
       "      <td>1058.000000</td>\n",
       "      <td>1058.000000</td>\n",
       "      <td>1058.00000</td>\n",
       "      <td>...</td>\n",
       "      <td>1058.0</td>\n",
       "      <td>1058.000000</td>\n",
       "      <td>1058.000000</td>\n",
       "      <td>1058.000000</td>\n",
       "      <td>1058.000000</td>\n",
       "      <td>1058.000000</td>\n",
       "      <td>1058.00000</td>\n",
       "      <td>1058.000000</td>\n",
       "      <td>1058.000000</td>\n",
       "      <td>1058.0</td>\n",
       "    </tr>\n",
       "    <tr>\n",
       "      <th>mean</th>\n",
       "      <td>37.055766</td>\n",
       "      <td>0.169187</td>\n",
       "      <td>809.542533</td>\n",
       "      <td>8.978261</td>\n",
       "      <td>2.879017</td>\n",
       "      <td>1.0</td>\n",
       "      <td>731.753308</td>\n",
       "      <td>2.712665</td>\n",
       "      <td>65.643667</td>\n",
       "      <td>2.73724</td>\n",
       "      <td>...</td>\n",
       "      <td>80.0</td>\n",
       "      <td>0.762760</td>\n",
       "      <td>11.435728</td>\n",
       "      <td>2.769376</td>\n",
       "      <td>2.763705</td>\n",
       "      <td>7.065217</td>\n",
       "      <td>4.26087</td>\n",
       "      <td>2.203214</td>\n",
       "      <td>4.142722</td>\n",
       "      <td>1.0</td>\n",
       "    </tr>\n",
       "    <tr>\n",
       "      <th>std</th>\n",
       "      <td>9.410421</td>\n",
       "      <td>0.375094</td>\n",
       "      <td>408.478049</td>\n",
       "      <td>8.040608</td>\n",
       "      <td>1.031442</td>\n",
       "      <td>0.0</td>\n",
       "      <td>431.418209</td>\n",
       "      <td>1.092959</td>\n",
       "      <td>20.324861</td>\n",
       "      <td>0.70473</td>\n",
       "      <td>...</td>\n",
       "      <td>0.0</td>\n",
       "      <td>0.837537</td>\n",
       "      <td>8.016429</td>\n",
       "      <td>1.302689</td>\n",
       "      <td>0.707392</td>\n",
       "      <td>6.265227</td>\n",
       "      <td>3.61747</td>\n",
       "      <td>3.266948</td>\n",
       "      <td>3.599044</td>\n",
       "      <td>0.0</td>\n",
       "    </tr>\n",
       "    <tr>\n",
       "      <th>min</th>\n",
       "      <td>18.000000</td>\n",
       "      <td>0.000000</td>\n",
       "      <td>102.000000</td>\n",
       "      <td>1.000000</td>\n",
       "      <td>1.000000</td>\n",
       "      <td>1.0</td>\n",
       "      <td>1.000000</td>\n",
       "      <td>1.000000</td>\n",
       "      <td>30.000000</td>\n",
       "      <td>1.00000</td>\n",
       "      <td>...</td>\n",
       "      <td>80.0</td>\n",
       "      <td>0.000000</td>\n",
       "      <td>0.000000</td>\n",
       "      <td>0.000000</td>\n",
       "      <td>1.000000</td>\n",
       "      <td>0.000000</td>\n",
       "      <td>0.00000</td>\n",
       "      <td>0.000000</td>\n",
       "      <td>0.000000</td>\n",
       "      <td>1.0</td>\n",
       "    </tr>\n",
       "    <tr>\n",
       "      <th>25%</th>\n",
       "      <td>30.000000</td>\n",
       "      <td>0.000000</td>\n",
       "      <td>465.250000</td>\n",
       "      <td>2.000000</td>\n",
       "      <td>2.000000</td>\n",
       "      <td>1.0</td>\n",
       "      <td>364.500000</td>\n",
       "      <td>2.000000</td>\n",
       "      <td>48.000000</td>\n",
       "      <td>2.00000</td>\n",
       "      <td>...</td>\n",
       "      <td>80.0</td>\n",
       "      <td>0.000000</td>\n",
       "      <td>6.000000</td>\n",
       "      <td>2.000000</td>\n",
       "      <td>2.000000</td>\n",
       "      <td>3.000000</td>\n",
       "      <td>2.00000</td>\n",
       "      <td>0.000000</td>\n",
       "      <td>2.000000</td>\n",
       "      <td>1.0</td>\n",
       "    </tr>\n",
       "    <tr>\n",
       "      <th>50%</th>\n",
       "      <td>36.000000</td>\n",
       "      <td>0.000000</td>\n",
       "      <td>817.500000</td>\n",
       "      <td>7.000000</td>\n",
       "      <td>3.000000</td>\n",
       "      <td>1.0</td>\n",
       "      <td>723.500000</td>\n",
       "      <td>3.000000</td>\n",
       "      <td>65.000000</td>\n",
       "      <td>3.00000</td>\n",
       "      <td>...</td>\n",
       "      <td>80.0</td>\n",
       "      <td>1.000000</td>\n",
       "      <td>10.000000</td>\n",
       "      <td>3.000000</td>\n",
       "      <td>3.000000</td>\n",
       "      <td>5.000000</td>\n",
       "      <td>3.00000</td>\n",
       "      <td>1.000000</td>\n",
       "      <td>3.000000</td>\n",
       "      <td>1.0</td>\n",
       "    </tr>\n",
       "    <tr>\n",
       "      <th>75%</th>\n",
       "      <td>43.000000</td>\n",
       "      <td>0.000000</td>\n",
       "      <td>1168.500000</td>\n",
       "      <td>13.000000</td>\n",
       "      <td>4.000000</td>\n",
       "      <td>1.0</td>\n",
       "      <td>1101.750000</td>\n",
       "      <td>4.000000</td>\n",
       "      <td>83.000000</td>\n",
       "      <td>3.00000</td>\n",
       "      <td>...</td>\n",
       "      <td>80.0</td>\n",
       "      <td>1.000000</td>\n",
       "      <td>16.000000</td>\n",
       "      <td>3.000000</td>\n",
       "      <td>3.000000</td>\n",
       "      <td>9.000000</td>\n",
       "      <td>7.00000</td>\n",
       "      <td>3.000000</td>\n",
       "      <td>7.000000</td>\n",
       "      <td>1.0</td>\n",
       "    </tr>\n",
       "    <tr>\n",
       "      <th>max</th>\n",
       "      <td>60.000000</td>\n",
       "      <td>1.000000</td>\n",
       "      <td>1499.000000</td>\n",
       "      <td>29.000000</td>\n",
       "      <td>5.000000</td>\n",
       "      <td>1.0</td>\n",
       "      <td>1487.000000</td>\n",
       "      <td>4.000000</td>\n",
       "      <td>100.000000</td>\n",
       "      <td>4.00000</td>\n",
       "      <td>...</td>\n",
       "      <td>80.0</td>\n",
       "      <td>3.000000</td>\n",
       "      <td>40.000000</td>\n",
       "      <td>6.000000</td>\n",
       "      <td>4.000000</td>\n",
       "      <td>40.000000</td>\n",
       "      <td>18.00000</td>\n",
       "      <td>15.000000</td>\n",
       "      <td>17.000000</td>\n",
       "      <td>1.0</td>\n",
       "    </tr>\n",
       "  </tbody>\n",
       "</table>\n",
       "<p>8 rows × 28 columns</p>\n",
       "</div>"
      ],
      "text/plain": [
       "               Age    Attrition    DailyRate  DistanceFromHome    Education  \\\n",
       "count  1058.000000  1058.000000  1058.000000       1058.000000  1058.000000   \n",
       "mean     37.055766     0.169187   809.542533          8.978261     2.879017   \n",
       "std       9.410421     0.375094   408.478049          8.040608     1.031442   \n",
       "min      18.000000     0.000000   102.000000          1.000000     1.000000   \n",
       "25%      30.000000     0.000000   465.250000          2.000000     2.000000   \n",
       "50%      36.000000     0.000000   817.500000          7.000000     3.000000   \n",
       "75%      43.000000     0.000000  1168.500000         13.000000     4.000000   \n",
       "max      60.000000     1.000000  1499.000000         29.000000     5.000000   \n",
       "\n",
       "       EmployeeCount  EmployeeNumber  EnvironmentSatisfaction   HourlyRate  \\\n",
       "count         1058.0     1058.000000              1058.000000  1058.000000   \n",
       "mean             1.0      731.753308                 2.712665    65.643667   \n",
       "std              0.0      431.418209                 1.092959    20.324861   \n",
       "min              1.0        1.000000                 1.000000    30.000000   \n",
       "25%              1.0      364.500000                 2.000000    48.000000   \n",
       "50%              1.0      723.500000                 3.000000    65.000000   \n",
       "75%              1.0     1101.750000                 4.000000    83.000000   \n",
       "max              1.0     1487.000000                 4.000000   100.000000   \n",
       "\n",
       "       JobInvolvement  ...  StandardHours  StockOptionLevel  \\\n",
       "count      1058.00000  ...         1058.0       1058.000000   \n",
       "mean          2.73724  ...           80.0          0.762760   \n",
       "std           0.70473  ...            0.0          0.837537   \n",
       "min           1.00000  ...           80.0          0.000000   \n",
       "25%           2.00000  ...           80.0          0.000000   \n",
       "50%           3.00000  ...           80.0          1.000000   \n",
       "75%           3.00000  ...           80.0          1.000000   \n",
       "max           4.00000  ...           80.0          3.000000   \n",
       "\n",
       "       TotalWorkingYears  TrainingTimesLastYear  WorkLifeBalance  \\\n",
       "count        1058.000000            1058.000000      1058.000000   \n",
       "mean           11.435728               2.769376         2.763705   \n",
       "std             8.016429               1.302689         0.707392   \n",
       "min             0.000000               0.000000         1.000000   \n",
       "25%             6.000000               2.000000         2.000000   \n",
       "50%            10.000000               3.000000         3.000000   \n",
       "75%            16.000000               3.000000         3.000000   \n",
       "max            40.000000               6.000000         4.000000   \n",
       "\n",
       "       YearsAtCompany  YearsInCurrentRole  YearsSinceLastPromotion  \\\n",
       "count     1058.000000          1058.00000              1058.000000   \n",
       "mean         7.065217             4.26087                 2.203214   \n",
       "std          6.265227             3.61747                 3.266948   \n",
       "min          0.000000             0.00000                 0.000000   \n",
       "25%          3.000000             2.00000                 0.000000   \n",
       "50%          5.000000             3.00000                 1.000000   \n",
       "75%          9.000000             7.00000                 3.000000   \n",
       "max         40.000000            18.00000                15.000000   \n",
       "\n",
       "       YearsWithCurrManager  train_test  \n",
       "count           1058.000000      1058.0  \n",
       "mean               4.142722         1.0  \n",
       "std                3.599044         0.0  \n",
       "min                0.000000         1.0  \n",
       "25%                2.000000         1.0  \n",
       "50%                3.000000         1.0  \n",
       "75%                7.000000         1.0  \n",
       "max               17.000000         1.0  \n",
       "\n",
       "[8 rows x 28 columns]"
      ]
     },
     "execution_count": 8,
     "metadata": {},
     "output_type": "execute_result"
    }
   ],
   "source": [
    "train_data.describe()"
   ]
  },
  {
   "cell_type": "markdown",
   "id": "0a856201",
   "metadata": {
    "papermill": {
     "duration": 0.029084,
     "end_time": "2023-05-11T20:18:03.351700",
     "exception": false,
     "start_time": "2023-05-11T20:18:03.322616",
     "status": "completed"
    },
    "tags": []
   },
   "source": [
    "# Exploratory Data Analysis"
   ]
  },
  {
   "cell_type": "markdown",
   "id": "83c1f6dd",
   "metadata": {
    "papermill": {
     "duration": 0.028944,
     "end_time": "2023-05-11T20:18:03.410059",
     "exception": false,
     "start_time": "2023-05-11T20:18:03.381115",
     "status": "completed"
    },
    "tags": []
   },
   "source": [
    "### Predict the Attrition of an employee based on the various factor given"
   ]
  },
  {
   "cell_type": "code",
   "execution_count": 9,
   "id": "1c431665",
   "metadata": {
    "execution": {
     "iopub.execute_input": "2023-05-11T20:18:03.470554Z",
     "iopub.status.busy": "2023-05-11T20:18:03.470102Z",
     "iopub.status.idle": "2023-05-11T20:18:03.877819Z",
     "shell.execute_reply": "2023-05-11T20:18:03.876464Z"
    },
    "papermill": {
     "duration": 0.441628,
     "end_time": "2023-05-11T20:18:03.880859",
     "exception": false,
     "start_time": "2023-05-11T20:18:03.439231",
     "status": "completed"
    },
    "tags": []
   },
   "outputs": [
    {
     "data": {
      "image/png": "[encoded data removed]",
      "text/plain": [
       "<Figure size 1500x600 with 1 Axes>"
      ]
     },
     "metadata": {},
     "output_type": "display_data"
    }
   ],
   "source": [
    "labels = 'Attrition NO','Attrition YES'\n",
    "train_data['Attrition'].astype(str).value_counts().plot(kind='pie',\n",
    "                            figsize=(15, 6),\n",
    "                            autopct='%1.1f%%', \n",
    "                            startangle=90,    \n",
    "                            shadow=True,       \n",
    "                            labels=None,                                \n",
    "                            )\n",
    "\n",
    "plt.title('Distribution of Employee Attrition in the Company ', y=1.12) \n",
    "plt.axis('equal') \n",
    "# add legend\n",
    "plt.legend(labels=labels, loc='upper left') \n",
    " # show plot\n",
    "plt.show()"
   ]
  },
  {
   "cell_type": "markdown",
   "id": "573f4594",
   "metadata": {
    "papermill": {
     "duration": 0.031037,
     "end_time": "2023-05-11T20:18:03.941923",
     "exception": false,
     "start_time": "2023-05-11T20:18:03.910886",
     "status": "completed"
    },
    "tags": []
   },
   "source": [
    "From the Pie Chart, we can infer that 16.9% of the employees left their job due to some reasons whereas other 83.1% of the employees preferred to continue their job at the company"
   ]
  },
  {
   "cell_type": "markdown",
   "id": "50a2340e",
   "metadata": {
    "papermill": {
     "duration": 0.02962,
     "end_time": "2023-05-11T20:18:04.001686",
     "exception": false,
     "start_time": "2023-05-11T20:18:03.972066",
     "status": "completed"
    },
    "tags": []
   },
   "source": [
    "## Analysis of the Rating Features\n",
    "* JobSatisfaction\n",
    "* EnvironmentSatisfaction\n",
    "* RelationshipSatisfaction\n",
    "* JobInvolvement\n",
    "* WorkLifeBalance\n",
    "* PerformanceRating"
   ]
  },
  {
   "cell_type": "code",
   "execution_count": 10,
   "id": "be30d63d",
   "metadata": {
    "execution": {
     "iopub.execute_input": "2023-05-11T20:18:04.064691Z",
     "iopub.status.busy": "2023-05-11T20:18:04.064247Z",
     "iopub.status.idle": "2023-05-11T20:18:04.073910Z",
     "shell.execute_reply": "2023-05-11T20:18:04.072656Z"
    },
    "papermill": {
     "duration": 0.044741,
     "end_time": "2023-05-11T20:18:04.076270",
     "exception": false,
     "start_time": "2023-05-11T20:18:04.031529",
     "status": "completed"
    },
    "tags": []
   },
   "outputs": [
    {
     "data": {
      "text/plain": [
       "4    340\n",
       "3    318\n",
       "1    205\n",
       "2    195\n",
       "Name: JobSatisfaction, dtype: int64"
      ]
     },
     "execution_count": 10,
     "metadata": {},
     "output_type": "execute_result"
    }
   ],
   "source": [
    "train_data['JobSatisfaction'].value_counts()"
   ]
  },
  {
   "cell_type": "code",
   "execution_count": 11,
   "id": "c9f6c370",
   "metadata": {
    "execution": {
     "iopub.execute_input": "2023-05-11T20:18:04.140372Z",
     "iopub.status.busy": "2023-05-11T20:18:04.139938Z",
     "iopub.status.idle": "2023-05-11T20:18:04.879476Z",
     "shell.execute_reply": "2023-05-11T20:18:04.878060Z"
    },
    "papermill": {
     "duration": 0.774921,
     "end_time": "2023-05-11T20:18:04.882446",
     "exception": false,
     "start_time": "2023-05-11T20:18:04.107525",
     "status": "completed"
    },
    "tags": []
   },
   "outputs": [
    {
     "data": {
      "image/png": "[encoded data removed]",
      "text/plain": [
       "<Figure size 1500x600 with 4 Axes>"
      ]
     },
     "metadata": {},
     "output_type": "display_data"
    }
   ],
   "source": [
    "fig = plt.figure() \n",
    "\n",
    "ax1 = fig.add_subplot(221) \n",
    "ax2 = fig.add_subplot(222)  \n",
    "ax3 = fig.add_subplot(223) \n",
    "ax4 = fig.add_subplot(224)  \n",
    "\n",
    "labels = 'Low','Medium','High','Very High'\n",
    "\n",
    "train_data['JobSatisfaction'].astype(str).value_counts().plot(kind='pie',\n",
    "                            figsize=(15, 6),\n",
    "                            autopct='%1.1f%%', \n",
    "                            startangle=90,    \n",
    "                            shadow=True,       \n",
    "                            labels=None,ax=ax1) # add to subplot 2\n",
    "ax1.set_title ('Rating of Job Satisfaction by Employees')\n",
    "fig.legend(labels=labels,loc='center')\n",
    "\n",
    "train_data['EnvironmentSatisfaction'].astype(str).value_counts().plot(kind='pie',\n",
    "                            figsize=(15, 6),\n",
    "                            autopct='%1.1f%%', \n",
    "                            startangle=90,    \n",
    "                            shadow=True,       \n",
    "                            labels=None,ax=ax2) \n",
    "ax2.set_title('Rating of Environmental Satisfaction by Employees')\n",
    "\n",
    "train_data['RelationshipSatisfaction'].astype(str).value_counts().plot(kind='pie',\n",
    "                            figsize=(15, 6),\n",
    "                            autopct='%1.1f%%', \n",
    "                            startangle=90,    \n",
    "                            shadow=True,       \n",
    "                            labels=None,ax=ax3)\n",
    "ax3.set_title('Rating of Relationship Satisfaction by Employees')\n",
    "\n",
    "train_data['JobInvolvement'].astype(str).value_counts().plot(kind='pie',\n",
    "                            figsize=(15, 6),\n",
    "                            autopct='%1.1f%%', \n",
    "                            startangle=90,    \n",
    "                            shadow=True,       \n",
    "                            labels=None,ax=ax4) \n",
    "ax4.set_title('Rating of Job Involvement by Employees')\n",
    "\n",
    "plt.show()"
   ]
  },
  {
   "cell_type": "markdown",
   "id": "1dee83d1",
   "metadata": {
    "papermill": {
     "duration": 0.033464,
     "end_time": "2023-05-11T20:18:04.950372",
     "exception": false,
     "start_time": "2023-05-11T20:18:04.916908",
     "status": "completed"
    },
    "tags": []
   },
   "source": [
    "From the subplot, we can infer that more than 60% of the employees are :\n",
    "\n",
    "* Not Satisfied in their Job\n",
    "* Not Satisfied with their Work Environmnet\n",
    "* Not Satisfied in their Relationship\n",
    "* Not Getting involved in their job"
   ]
  },
  {
   "cell_type": "code",
   "execution_count": 12,
   "id": "ae4f1d53",
   "metadata": {
    "execution": {
     "iopub.execute_input": "2023-05-11T20:18:05.016069Z",
     "iopub.status.busy": "2023-05-11T20:18:05.015198Z",
     "iopub.status.idle": "2023-05-11T20:18:05.636171Z",
     "shell.execute_reply": "2023-05-11T20:18:05.634962Z"
    },
    "papermill": {
     "duration": 0.657111,
     "end_time": "2023-05-11T20:18:05.638878",
     "exception": false,
     "start_time": "2023-05-11T20:18:04.981767",
     "status": "completed"
    },
    "tags": []
   },
   "outputs": [
    {
     "data": {
      "image/png": "[encoded data removed]",
      "text/plain": [
       "<Figure size 1500x600 with 2 Axes>"
      ]
     },
     "metadata": {},
     "output_type": "display_data"
    }
   ],
   "source": [
    "fig2 = plt.figure() \n",
    "\n",
    "ax5 = fig2.add_subplot(121) \n",
    "ax6 = fig2.add_subplot(122)  \n",
    "  \n",
    "labels_list1 = 'Bad','Good','Better','Best' \n",
    "labels_list2 = 'Low','Good','Excellent','Outstanding'\n",
    "\n",
    "train_data['WorkLifeBalance'].astype(str).value_counts().plot(kind='pie',\n",
    "                            figsize=(15, 6),\n",
    "                            autopct='%1.1f%%', \n",
    "                            startangle=90,    \n",
    "                            shadow=True,       \n",
    "                            labels=None,ax=ax5) # add to subplot 2\n",
    "ax5.set_title ('Rating of Work-Life Balance by Employees')\n",
    "ax5.legend(labels=labels_list1,loc='upper right')\n",
    "\n",
    "train_data['PerformanceRating'].astype(str).value_counts().plot(kind='pie',\n",
    "                            figsize=(15, 6),\n",
    "                            autopct='%1.1f%%', \n",
    "                            startangle=90,    \n",
    "                            shadow=True,       \n",
    "                            labels=None,ax=ax6) \n",
    "ax6.set_title('Performance Rating of the Employees')\n",
    "ax6.legend(labels=labels_list2,loc='upper right')\n",
    "\n",
    "plt.show()"
   ]
  },
  {
   "cell_type": "markdown",
   "id": "b0d4b8f0",
   "metadata": {
    "papermill": {
     "duration": 0.033314,
     "end_time": "2023-05-11T20:18:05.708315",
     "exception": false,
     "start_time": "2023-05-11T20:18:05.675001",
     "status": "completed"
    },
    "tags": []
   },
   "source": [
    "From the above piecharts, we can see that:\n",
    "\n",
    "* Almost 60% of the employees have rated their Work-life Balance as Bad\n",
    "* Almost 85% of the employees have a low performance rating"
   ]
  },
  {
   "cell_type": "markdown",
   "id": "d94ef225",
   "metadata": {
    "papermill": {
     "duration": 0.032802,
     "end_time": "2023-05-11T20:18:05.774214",
     "exception": false,
     "start_time": "2023-05-11T20:18:05.741412",
     "status": "completed"
    },
    "tags": []
   },
   "source": [
    "## Analysis of Business Travel Feature"
   ]
  },
  {
   "cell_type": "code",
   "execution_count": 13,
   "id": "a05d9fc3",
   "metadata": {
    "execution": {
     "iopub.execute_input": "2023-05-11T20:18:05.843553Z",
     "iopub.status.busy": "2023-05-11T20:18:05.843129Z",
     "iopub.status.idle": "2023-05-11T20:18:06.179805Z",
     "shell.execute_reply": "2023-05-11T20:18:06.178807Z"
    },
    "papermill": {
     "duration": 0.374975,
     "end_time": "2023-05-11T20:18:06.182470",
     "exception": false,
     "start_time": "2023-05-11T20:18:05.807495",
     "status": "completed"
    },
    "tags": []
   },
   "outputs": [
    {
     "data": {
      "image/png": "[encoded data removed]",
      "text/plain": [
       "<Figure size 640x480 with 1 Axes>"
      ]
     },
     "metadata": {},
     "output_type": "display_data"
    }
   ],
   "source": [
    "props = train_data.groupby(\"BusinessTravel\")['Attrition'].value_counts(normalize=False).unstack()\n",
    "\n",
    "props.plot(kind='bar', alpha=1, stacked='False')\n",
    "\n",
    "plt.title('Business Travel VS Attrition')\n",
    "plt.ylabel('Number of Employee')\n",
    "plt.show()"
   ]
  },
  {
   "cell_type": "markdown",
   "id": "0aaac650",
   "metadata": {
    "papermill": {
     "duration": 0.032834,
     "end_time": "2023-05-11T20:18:06.249792",
     "exception": false,
     "start_time": "2023-05-11T20:18:06.216958",
     "status": "completed"
    },
    "tags": []
   },
   "source": [
    "From the above data it is clear that Employees who travel rarely have more attrition rate followed by Employees who travel frequently\n",
    "\n",
    "* Best way to reduce this attrition is to conduct monthly survey and to assign travel according to the Employees' business travel interest"
   ]
  },
  {
   "cell_type": "markdown",
   "id": "8c1052d2",
   "metadata": {
    "papermill": {
     "duration": 0.032757,
     "end_time": "2023-05-11T20:18:06.317786",
     "exception": false,
     "start_time": "2023-05-11T20:18:06.285029",
     "status": "completed"
    },
    "tags": []
   },
   "source": [
    "## Analysis of Work Experience\n",
    "* YearsAtCompany\n",
    "* YearsInCurrentRole\n",
    "* YearsSinceLastPromotion\n",
    "* YearsWithCurrManager\n",
    "* TotalWorkingYears"
   ]
  },
  {
   "cell_type": "code",
   "execution_count": 14,
   "id": "88d6ec81",
   "metadata": {
    "execution": {
     "iopub.execute_input": "2023-05-11T20:18:06.387181Z",
     "iopub.status.busy": "2023-05-11T20:18:06.386068Z",
     "iopub.status.idle": "2023-05-11T20:18:06.401160Z",
     "shell.execute_reply": "2023-05-11T20:18:06.399981Z"
    },
    "papermill": {
     "duration": 0.052557,
     "end_time": "2023-05-11T20:18:06.403793",
     "exception": false,
     "start_time": "2023-05-11T20:18:06.351236",
     "status": "completed"
    },
    "tags": []
   },
   "outputs": [
    {
     "data": {
      "text/html": [
       "<div>\n",
       "<style scoped>\n",
       "    .dataframe tbody tr th:only-of-type {\n",
       "        vertical-align: middle;\n",
       "    }\n",
       "\n",
       "    .dataframe tbody tr th {\n",
       "        vertical-align: top;\n",
       "    }\n",
       "\n",
       "    .dataframe thead th {\n",
       "        text-align: right;\n",
       "    }\n",
       "</style>\n",
       "<table border=\"1\" class=\"dataframe\">\n",
       "  <thead>\n",
       "    <tr style=\"text-align: right;\">\n",
       "      <th></th>\n",
       "      <th>YearsAtCompany</th>\n",
       "      <th>YearsInCurrentRole</th>\n",
       "      <th>YearsSinceLastPromotion</th>\n",
       "      <th>YearsWithCurrManager</th>\n",
       "      <th>TotalWorkingYears</th>\n",
       "      <th>Attrition</th>\n",
       "    </tr>\n",
       "  </thead>\n",
       "  <tbody>\n",
       "    <tr>\n",
       "      <th>0</th>\n",
       "      <td>6</td>\n",
       "      <td>4</td>\n",
       "      <td>0</td>\n",
       "      <td>5</td>\n",
       "      <td>8</td>\n",
       "      <td>1</td>\n",
       "    </tr>\n",
       "    <tr>\n",
       "      <th>1</th>\n",
       "      <td>10</td>\n",
       "      <td>7</td>\n",
       "      <td>1</td>\n",
       "      <td>7</td>\n",
       "      <td>10</td>\n",
       "      <td>0</td>\n",
       "    </tr>\n",
       "    <tr>\n",
       "      <th>2</th>\n",
       "      <td>0</td>\n",
       "      <td>0</td>\n",
       "      <td>0</td>\n",
       "      <td>0</td>\n",
       "      <td>7</td>\n",
       "      <td>1</td>\n",
       "    </tr>\n",
       "    <tr>\n",
       "      <th>3</th>\n",
       "      <td>8</td>\n",
       "      <td>7</td>\n",
       "      <td>3</td>\n",
       "      <td>0</td>\n",
       "      <td>8</td>\n",
       "      <td>0</td>\n",
       "    </tr>\n",
       "    <tr>\n",
       "      <th>4</th>\n",
       "      <td>2</td>\n",
       "      <td>2</td>\n",
       "      <td>2</td>\n",
       "      <td>2</td>\n",
       "      <td>6</td>\n",
       "      <td>0</td>\n",
       "    </tr>\n",
       "  </tbody>\n",
       "</table>\n",
       "</div>"
      ],
      "text/plain": [
       "   YearsAtCompany  YearsInCurrentRole  YearsSinceLastPromotion  \\\n",
       "0               6                   4                        0   \n",
       "1              10                   7                        1   \n",
       "2               0                   0                        0   \n",
       "3               8                   7                        3   \n",
       "4               2                   2                        2   \n",
       "\n",
       "   YearsWithCurrManager  TotalWorkingYears  Attrition  \n",
       "0                     5                  8          1  \n",
       "1                     7                 10          0  \n",
       "2                     0                  7          1  \n",
       "3                     0                  8          0  \n",
       "4                     2                  6          0  "
      ]
     },
     "execution_count": 14,
     "metadata": {},
     "output_type": "execute_result"
    }
   ],
   "source": [
    "we = train_data[['YearsAtCompany', 'YearsInCurrentRole', 'YearsSinceLastPromotion', 'YearsWithCurrManager', 'TotalWorkingYears', 'Attrition']]\n",
    "we.head()"
   ]
  },
  {
   "cell_type": "code",
   "execution_count": 15,
   "id": "b884007c",
   "metadata": {
    "execution": {
     "iopub.execute_input": "2023-05-11T20:18:06.474058Z",
     "iopub.status.busy": "2023-05-11T20:18:06.472845Z",
     "iopub.status.idle": "2023-05-11T20:18:07.084799Z",
     "shell.execute_reply": "2023-05-11T20:18:07.083574Z"
    },
    "papermill": {
     "duration": 0.650114,
     "end_time": "2023-05-11T20:18:07.087487",
     "exception": false,
     "start_time": "2023-05-11T20:18:06.437373",
     "status": "completed"
    },
    "tags": []
   },
   "outputs": [
    {
     "data": {
      "image/png": "[encoded data removed]",
      "text/plain": [
       "<Figure size 1000x600 with 1 Axes>"
      ]
     },
     "metadata": {},
     "output_type": "display_data"
    }
   ],
   "source": [
    "yac = train_data.groupby(\"YearsAtCompany\")['Attrition'].value_counts(normalize=False).unstack()\n",
    "\n",
    "yac.plot(kind='bar', stacked='False',figsize=(10,6))\n",
    "\n",
    "plt.title('Years At Company of Employee')\n",
    "plt.ylabel('Number of Employees')\n",
    "plt.show()"
   ]
  },
  {
   "cell_type": "markdown",
   "id": "69833f8f",
   "metadata": {
    "papermill": {
     "duration": 0.036886,
     "end_time": "2023-05-11T20:18:07.160667",
     "exception": false,
     "start_time": "2023-05-11T20:18:07.123781",
     "status": "completed"
    },
    "tags": []
   },
   "source": [
    "**It is observed that the newly arriving employees quit their jobs most,so more concern should be given to the freshers and their cause of leaving the company should be figured out**"
   ]
  },
  {
   "cell_type": "code",
   "execution_count": 16,
   "id": "e18ee8e5",
   "metadata": {
    "execution": {
     "iopub.execute_input": "2023-05-11T20:18:07.235827Z",
     "iopub.status.busy": "2023-05-11T20:18:07.234538Z",
     "iopub.status.idle": "2023-05-11T20:18:08.023674Z",
     "shell.execute_reply": "2023-05-11T20:18:08.022320Z"
    },
    "papermill": {
     "duration": 0.828651,
     "end_time": "2023-05-11T20:18:08.026358",
     "exception": false,
     "start_time": "2023-05-11T20:18:07.197707",
     "status": "completed"
    },
    "tags": []
   },
   "outputs": [
    {
     "data": {
      "image/png": "[encoded data removed]",
      "text/plain": [
       "<Figure size 2000x600 with 2 Axes>"
      ]
     },
     "metadata": {},
     "output_type": "display_data"
    }
   ],
   "source": [
    "ycr = train_data.groupby(\"YearsInCurrentRole\")['Attrition'].value_counts(normalize=False).unstack()\n",
    "ysp = train_data.groupby(\"YearsSinceLastPromotion\")['Attrition'].value_counts(normalize=False).unstack()\n",
    "\n",
    "\n",
    "fig = plt.figure() # create figure\n",
    "\n",
    "ax0 = fig.add_subplot(121) # add subplot 1 (1 row, 2 columns, first plot)\n",
    "ax1 = fig.add_subplot(122) # add subplot 2 (1 row, 2 columns, second plot). See tip below**\n",
    "\n",
    "# Subplot 1: Box plot\n",
    "ycr.plot(kind='bar', stacked='False',figsize=(20,6), ax=ax0) # add to subplot 1\n",
    "ax0.set_title('Same Role')\n",
    "ax0.set_xlabel('Years In Current Role')\n",
    "ax0.set_ylabel('Number of Employees')\n",
    "\n",
    "# Subplot 2: Line plot\n",
    "ysp.plot(kind='bar', stacked='False',figsize=(20,6), ax=ax1) # add to subplot 2\n",
    "ax1.set_title ('Last Promotion')\n",
    "ax1.set_ylabel('Number of Employees')\n",
    "ax1.set_xlabel('Years Since Last Promotion')\n",
    "\n",
    "plt.show()\n"
   ]
  },
  {
   "cell_type": "markdown",
   "id": "0ca9c23e",
   "metadata": {
    "papermill": {
     "duration": 0.036472,
     "end_time": "2023-05-11T20:18:08.099578",
     "exception": false,
     "start_time": "2023-05-11T20:18:08.063106",
     "status": "completed"
    },
    "tags": []
   },
   "source": [
    "**From the above two plots, it is very clear that Employees who are in same post or not getting promoted tend to leave the company most. It is a major concern, since experienced Employees quiting their jobs would affect the company most**"
   ]
  },
  {
   "cell_type": "code",
   "execution_count": 17,
   "id": "85c22ffc",
   "metadata": {
    "execution": {
     "iopub.execute_input": "2023-05-11T20:18:08.172861Z",
     "iopub.status.busy": "2023-05-11T20:18:08.172445Z",
     "iopub.status.idle": "2023-05-11T20:18:08.592896Z",
     "shell.execute_reply": "2023-05-11T20:18:08.592034Z"
    },
    "papermill": {
     "duration": 0.460779,
     "end_time": "2023-05-11T20:18:08.595117",
     "exception": false,
     "start_time": "2023-05-11T20:18:08.134338",
     "status": "completed"
    },
    "tags": []
   },
   "outputs": [
    {
     "data": {
      "image/png": "[encoded data removed]",
      "text/plain": [
       "<Figure size 1000x600 with 1 Axes>"
      ]
     },
     "metadata": {},
     "output_type": "display_data"
    }
   ],
   "source": [
    "ycm = train_data.groupby(\"YearsWithCurrManager\")['Attrition'].value_counts(normalize=False).unstack()\n",
    "\n",
    "ycm.plot(kind='bar', stacked='False',figsize=(10,6))\n",
    "\n",
    "plt.title('Years with Current Manager')\n",
    "plt.ylabel('Number of Employee')\n",
    "plt.show()"
   ]
  },
  {
   "cell_type": "markdown",
   "id": "cff658dd",
   "metadata": {
    "papermill": {
     "duration": 0.036051,
     "end_time": "2023-05-11T20:18:08.666717",
     "exception": false,
     "start_time": "2023-05-11T20:18:08.630666",
     "status": "completed"
    },
    "tags": []
   },
   "source": [
    "**It is clear that in the starting of relation of Manager and Employee's are not so happy. It is important that the Manager communication with the employee from the starting itself trying to understand them soon to reduce the increase in Attrition**"
   ]
  },
  {
   "cell_type": "code",
   "execution_count": 18,
   "id": "fc3fd42e",
   "metadata": {
    "execution": {
     "iopub.execute_input": "2023-05-11T20:18:08.740234Z",
     "iopub.status.busy": "2023-05-11T20:18:08.739571Z",
     "iopub.status.idle": "2023-05-11T20:18:09.373318Z",
     "shell.execute_reply": "2023-05-11T20:18:09.371981Z"
    },
    "papermill": {
     "duration": 0.673983,
     "end_time": "2023-05-11T20:18:09.376072",
     "exception": false,
     "start_time": "2023-05-11T20:18:08.702089",
     "status": "completed"
    },
    "tags": []
   },
   "outputs": [
    {
     "data": {
      "image/png": "[encoded data removed]",
      "text/plain": [
       "<Figure size 800x500 with 1 Axes>"
      ]
     },
     "metadata": {},
     "output_type": "display_data"
    }
   ],
   "source": [
    "twy = train_data.groupby(\"TotalWorkingYears\")['Attrition'].value_counts(normalize=False).unstack()\n",
    "\n",
    "twy.plot(kind='bar', stacked='False',figsize=(8,5))\n",
    "\n",
    "plt.title('Total Working Years of Experience')\n",
    "plt.ylabel('Number of Employee')\n",
    "plt.show()\n"
   ]
  },
  {
   "cell_type": "markdown",
   "id": "9269d7b0",
   "metadata": {
    "papermill": {
     "duration": 0.036413,
     "end_time": "2023-05-11T20:18:09.449111",
     "exception": false,
     "start_time": "2023-05-11T20:18:09.412698",
     "status": "completed"
    },
    "tags": []
   },
   "source": [
    "**It is observed that freshers leave the company very likely so it's important that company creates a new policy to handle freshers so they don't leave the company from the start**"
   ]
  },
  {
   "cell_type": "markdown",
   "id": "50cb2d5e",
   "metadata": {
    "papermill": {
     "duration": 0.039179,
     "end_time": "2023-05-11T20:18:09.525362",
     "exception": false,
     "start_time": "2023-05-11T20:18:09.486183",
     "status": "completed"
    },
    "tags": []
   },
   "source": [
    "## Analysis on Department"
   ]
  },
  {
   "cell_type": "code",
   "execution_count": 19,
   "id": "42f42169",
   "metadata": {
    "execution": {
     "iopub.execute_input": "2023-05-11T20:18:09.600395Z",
     "iopub.status.busy": "2023-05-11T20:18:09.599958Z",
     "iopub.status.idle": "2023-05-11T20:18:09.611769Z",
     "shell.execute_reply": "2023-05-11T20:18:09.610896Z"
    },
    "papermill": {
     "duration": 0.051945,
     "end_time": "2023-05-11T20:18:09.613917",
     "exception": false,
     "start_time": "2023-05-11T20:18:09.561972",
     "status": "completed"
    },
    "tags": []
   },
   "outputs": [
    {
     "data": {
      "text/html": [
       "<div>\n",
       "<style scoped>\n",
       "    .dataframe tbody tr th:only-of-type {\n",
       "        vertical-align: middle;\n",
       "    }\n",
       "\n",
       "    .dataframe tbody tr th {\n",
       "        vertical-align: top;\n",
       "    }\n",
       "\n",
       "    .dataframe thead th {\n",
       "        text-align: right;\n",
       "    }\n",
       "</style>\n",
       "<table border=\"1\" class=\"dataframe\">\n",
       "  <thead>\n",
       "    <tr style=\"text-align: right;\">\n",
       "      <th></th>\n",
       "      <th>Department</th>\n",
       "      <th>Attrition</th>\n",
       "    </tr>\n",
       "  </thead>\n",
       "  <tbody>\n",
       "    <tr>\n",
       "      <th>0</th>\n",
       "      <td>Sales</td>\n",
       "      <td>1</td>\n",
       "    </tr>\n",
       "    <tr>\n",
       "      <th>1</th>\n",
       "      <td>Research &amp; Development</td>\n",
       "      <td>0</td>\n",
       "    </tr>\n",
       "    <tr>\n",
       "      <th>2</th>\n",
       "      <td>Research &amp; Development</td>\n",
       "      <td>1</td>\n",
       "    </tr>\n",
       "    <tr>\n",
       "      <th>3</th>\n",
       "      <td>Research &amp; Development</td>\n",
       "      <td>0</td>\n",
       "    </tr>\n",
       "    <tr>\n",
       "      <th>4</th>\n",
       "      <td>Research &amp; Development</td>\n",
       "      <td>0</td>\n",
       "    </tr>\n",
       "  </tbody>\n",
       "</table>\n",
       "</div>"
      ],
      "text/plain": [
       "               Department  Attrition\n",
       "0                   Sales          1\n",
       "1  Research & Development          0\n",
       "2  Research & Development          1\n",
       "3  Research & Development          0\n",
       "4  Research & Development          0"
      ]
     },
     "execution_count": 19,
     "metadata": {},
     "output_type": "execute_result"
    }
   ],
   "source": [
    "dpt = train_data[['Department','Attrition']]\n",
    "dpt.head()"
   ]
  },
  {
   "cell_type": "code",
   "execution_count": 20,
   "id": "7e38b781",
   "metadata": {
    "execution": {
     "iopub.execute_input": "2023-05-11T20:18:09.690799Z",
     "iopub.status.busy": "2023-05-11T20:18:09.689964Z",
     "iopub.status.idle": "2023-05-11T20:18:09.698955Z",
     "shell.execute_reply": "2023-05-11T20:18:09.697820Z"
    },
    "papermill": {
     "duration": 0.051663,
     "end_time": "2023-05-11T20:18:09.701523",
     "exception": false,
     "start_time": "2023-05-11T20:18:09.649860",
     "status": "completed"
    },
    "tags": []
   },
   "outputs": [
    {
     "data": {
      "text/plain": [
       "Research & Development    701\n",
       "Sales                     319\n",
       "Human Resources            38\n",
       "Name: Department, dtype: int64"
      ]
     },
     "execution_count": 20,
     "metadata": {},
     "output_type": "execute_result"
    }
   ],
   "source": [
    "dpt['Department'].value_counts()"
   ]
  },
  {
   "cell_type": "code",
   "execution_count": 21,
   "id": "7a4acf70",
   "metadata": {
    "execution": {
     "iopub.execute_input": "2023-05-11T20:18:09.780178Z",
     "iopub.status.busy": "2023-05-11T20:18:09.779305Z",
     "iopub.status.idle": "2023-05-11T20:18:10.089463Z",
     "shell.execute_reply": "2023-05-11T20:18:10.088151Z"
    },
    "papermill": {
     "duration": 0.353435,
     "end_time": "2023-05-11T20:18:10.092112",
     "exception": false,
     "start_time": "2023-05-11T20:18:09.738677",
     "status": "completed"
    },
    "tags": []
   },
   "outputs": [
    {
     "data": {
      "text/plain": [
       "<matplotlib.legend.Legend at 0x7845fe9df550>"
      ]
     },
     "execution_count": 21,
     "metadata": {},
     "output_type": "execute_result"
    },
    {
     "data": {
      "image/png": "[encoded data removed]",
      "text/plain": [
       "<Figure size 1500x600 with 1 Axes>"
      ]
     },
     "metadata": {},
     "output_type": "display_data"
    }
   ],
   "source": [
    "dpt['Department'].value_counts().plot(kind='pie',\n",
    "                            figsize=(15, 6),\n",
    "                            autopct='%1.1f%%', \n",
    "                            startangle=90,    \n",
    "                            shadow=True,       \n",
    "                            labels=None)   \n",
    "plt.axis('equal') \n",
    "plt.legend(labels=dpt['Department'].unique(), loc='upper left') "
   ]
  },
  {
   "cell_type": "code",
   "execution_count": 22,
   "id": "a41a9f67",
   "metadata": {
    "execution": {
     "iopub.execute_input": "2023-05-11T20:18:10.170014Z",
     "iopub.status.busy": "2023-05-11T20:18:10.169453Z",
     "iopub.status.idle": "2023-05-11T20:18:10.184236Z",
     "shell.execute_reply": "2023-05-11T20:18:10.183151Z"
    },
    "papermill": {
     "duration": 0.056743,
     "end_time": "2023-05-11T20:18:10.186811",
     "exception": false,
     "start_time": "2023-05-11T20:18:10.130068",
     "status": "completed"
    },
    "tags": []
   },
   "outputs": [
    {
     "data": {
      "text/html": [
       "<div>\n",
       "<style scoped>\n",
       "    .dataframe tbody tr th:only-of-type {\n",
       "        vertical-align: middle;\n",
       "    }\n",
       "\n",
       "    .dataframe tbody tr th {\n",
       "        vertical-align: top;\n",
       "    }\n",
       "\n",
       "    .dataframe thead th {\n",
       "        text-align: right;\n",
       "    }\n",
       "</style>\n",
       "<table border=\"1\" class=\"dataframe\">\n",
       "  <thead>\n",
       "    <tr style=\"text-align: right;\">\n",
       "      <th>Department</th>\n",
       "      <th>Human Resources</th>\n",
       "      <th>Research &amp; Development</th>\n",
       "      <th>Sales</th>\n",
       "    </tr>\n",
       "    <tr>\n",
       "      <th>Attrition</th>\n",
       "      <th></th>\n",
       "      <th></th>\n",
       "      <th></th>\n",
       "    </tr>\n",
       "  </thead>\n",
       "  <tbody>\n",
       "    <tr>\n",
       "      <th>0</th>\n",
       "      <td>32</td>\n",
       "      <td>594</td>\n",
       "      <td>253</td>\n",
       "    </tr>\n",
       "    <tr>\n",
       "      <th>1</th>\n",
       "      <td>6</td>\n",
       "      <td>107</td>\n",
       "      <td>66</td>\n",
       "    </tr>\n",
       "  </tbody>\n",
       "</table>\n",
       "</div>"
      ],
      "text/plain": [
       "Department  Human Resources  Research & Development  Sales\n",
       "Attrition                                                 \n",
       "0                        32                     594    253\n",
       "1                         6                     107     66"
      ]
     },
     "execution_count": 22,
     "metadata": {},
     "output_type": "execute_result"
    }
   ],
   "source": [
    "dpm = train_data.groupby(\"Department\")['Attrition'].value_counts(normalize=False).unstack()\n",
    "dpm = dpm.transpose()\n",
    "dpm"
   ]
  },
  {
   "cell_type": "code",
   "execution_count": 23,
   "id": "03c5fcc6",
   "metadata": {
    "execution": {
     "iopub.execute_input": "2023-05-11T20:18:10.264392Z",
     "iopub.status.busy": "2023-05-11T20:18:10.263683Z",
     "iopub.status.idle": "2023-05-11T20:18:10.608640Z",
     "shell.execute_reply": "2023-05-11T20:18:10.607059Z"
    },
    "papermill": {
     "duration": 0.388415,
     "end_time": "2023-05-11T20:18:10.612871",
     "exception": false,
     "start_time": "2023-05-11T20:18:10.224456",
     "status": "completed"
    },
    "tags": []
   },
   "outputs": [
    {
     "data": {
      "image/png": "[encoded data removed]",
      "text/plain": [
       "<Figure size 640x480 with 1 Axes>"
      ]
     },
     "metadata": {},
     "output_type": "display_data"
    }
   ],
   "source": [
    "labels = ['Human Resources', 'Research & Development', 'Sales',]\n",
    "sizes = [63, 961, 446]\n",
    "labels_attrition = ['Yes','No','Yes','No','Yes','No']\n",
    "sizes_attrition = [12,51,133,828,92,354]\n",
    "colors = ['#ff6666', '#ffcc99', '#99ff99']\n",
    "\n",
    "colors_attrition = ['#0a0e77','#9e0723', '#0a0e77','#9e0723', '#0a0e77','#9e0723', '#0a0e77','#9e0723']\n",
    " \n",
    "# Plot\n",
    "plt.pie(sizes, autopct='%1.1f%%', pctdistance=.87, labels=labels, colors=colors, startangle=90,frame=True)\n",
    "plt.pie(sizes_attrition,colors=colors_attrition,radius=0.75,startangle=90)\n",
    "centre_circle = plt.Circle((0,0),0.5,color='black', fc='white',linewidth=0.5)\n",
    "fig6 = plt.gcf()\n",
    "fig6.gca().add_artist(centre_circle)\n",
    "\n",
    "#legend\n",
    "import matplotlib.patches as mpatches\n",
    "pur = mpatches.Patch(color='#0a0e77', label='Yes')\n",
    "pin = mpatches.Patch(color='#9e0723', label='No')\n",
    "plt.legend(handles=[pur, pin], loc='upper left')\n",
    "\n",
    "plt.axis('equal')\n",
    "plt.tight_layout()\n",
    "plt.show()\n"
   ]
  },
  {
   "cell_type": "markdown",
   "id": "dc5e3bb1",
   "metadata": {
    "papermill": {
     "duration": 0.04023,
     "end_time": "2023-05-11T20:18:10.698167",
     "exception": false,
     "start_time": "2023-05-11T20:18:10.657937",
     "status": "completed"
    },
    "tags": []
   },
   "source": [
    "## Analysis Gender"
   ]
  },
  {
   "cell_type": "code",
   "execution_count": 24,
   "id": "7d91c5c2",
   "metadata": {
    "execution": {
     "iopub.execute_input": "2023-05-11T20:18:10.779473Z",
     "iopub.status.busy": "2023-05-11T20:18:10.778733Z",
     "iopub.status.idle": "2023-05-11T20:18:10.790839Z",
     "shell.execute_reply": "2023-05-11T20:18:10.789713Z"
    },
    "papermill": {
     "duration": 0.056209,
     "end_time": "2023-05-11T20:18:10.793121",
     "exception": false,
     "start_time": "2023-05-11T20:18:10.736912",
     "status": "completed"
    },
    "tags": []
   },
   "outputs": [
    {
     "data": {
      "text/html": [
       "<div>\n",
       "<style scoped>\n",
       "    .dataframe tbody tr th:only-of-type {\n",
       "        vertical-align: middle;\n",
       "    }\n",
       "\n",
       "    .dataframe tbody tr th {\n",
       "        vertical-align: top;\n",
       "    }\n",
       "\n",
       "    .dataframe thead th {\n",
       "        text-align: right;\n",
       "    }\n",
       "</style>\n",
       "<table border=\"1\" class=\"dataframe\">\n",
       "  <thead>\n",
       "    <tr style=\"text-align: right;\">\n",
       "      <th></th>\n",
       "      <th>Gender</th>\n",
       "      <th>DistanceFromHome</th>\n",
       "      <th>Attrition</th>\n",
       "    </tr>\n",
       "  </thead>\n",
       "  <tbody>\n",
       "    <tr>\n",
       "      <th>0</th>\n",
       "      <td>Female</td>\n",
       "      <td>1</td>\n",
       "      <td>1</td>\n",
       "    </tr>\n",
       "    <tr>\n",
       "      <th>1</th>\n",
       "      <td>Male</td>\n",
       "      <td>8</td>\n",
       "      <td>0</td>\n",
       "    </tr>\n",
       "    <tr>\n",
       "      <th>2</th>\n",
       "      <td>Male</td>\n",
       "      <td>2</td>\n",
       "      <td>1</td>\n",
       "    </tr>\n",
       "    <tr>\n",
       "      <th>3</th>\n",
       "      <td>Female</td>\n",
       "      <td>3</td>\n",
       "      <td>0</td>\n",
       "    </tr>\n",
       "    <tr>\n",
       "      <th>4</th>\n",
       "      <td>Male</td>\n",
       "      <td>2</td>\n",
       "      <td>0</td>\n",
       "    </tr>\n",
       "  </tbody>\n",
       "</table>\n",
       "</div>"
      ],
      "text/plain": [
       "   Gender  DistanceFromHome  Attrition\n",
       "0  Female                 1          1\n",
       "1    Male                 8          0\n",
       "2    Male                 2          1\n",
       "3  Female                 3          0\n",
       "4    Male                 2          0"
      ]
     },
     "execution_count": 24,
     "metadata": {},
     "output_type": "execute_result"
    }
   ],
   "source": [
    "gda = train_data[['Gender', 'DistanceFromHome', 'Attrition']]\n",
    "gda.head()"
   ]
  },
  {
   "cell_type": "code",
   "execution_count": 25,
   "id": "69f11c1e",
   "metadata": {
    "execution": {
     "iopub.execute_input": "2023-05-11T20:18:10.873490Z",
     "iopub.status.busy": "2023-05-11T20:18:10.872778Z",
     "iopub.status.idle": "2023-05-11T20:18:10.882204Z",
     "shell.execute_reply": "2023-05-11T20:18:10.880921Z"
    },
    "papermill": {
     "duration": 0.052838,
     "end_time": "2023-05-11T20:18:10.884982",
     "exception": false,
     "start_time": "2023-05-11T20:18:10.832144",
     "status": "completed"
    },
    "tags": []
   },
   "outputs": [
    {
     "data": {
      "text/plain": [
       "Male      620\n",
       "Female    438\n",
       "Name: Gender, dtype: int64"
      ]
     },
     "execution_count": 25,
     "metadata": {},
     "output_type": "execute_result"
    }
   ],
   "source": [
    "gda['Gender'].value_counts()"
   ]
  },
  {
   "cell_type": "code",
   "execution_count": 26,
   "id": "e0395691",
   "metadata": {
    "execution": {
     "iopub.execute_input": "2023-05-11T20:18:10.966542Z",
     "iopub.status.busy": "2023-05-11T20:18:10.965280Z",
     "iopub.status.idle": "2023-05-11T20:18:11.239970Z",
     "shell.execute_reply": "2023-05-11T20:18:11.238724Z"
    },
    "papermill": {
     "duration": 0.318227,
     "end_time": "2023-05-11T20:18:11.242751",
     "exception": false,
     "start_time": "2023-05-11T20:18:10.924524",
     "status": "completed"
    },
    "tags": []
   },
   "outputs": [
    {
     "data": {
      "text/plain": [
       "<matplotlib.legend.Legend at 0x7845fe87e680>"
      ]
     },
     "execution_count": 26,
     "metadata": {},
     "output_type": "execute_result"
    },
    {
     "data": {
      "image/png": "[encoded data removed]",
      "text/plain": [
       "<Figure size 1500x600 with 1 Axes>"
      ]
     },
     "metadata": {},
     "output_type": "display_data"
    }
   ],
   "source": [
    "gda['Gender'].value_counts().plot(kind='pie',\n",
    "                            figsize=(15, 6),\n",
    "                            autopct='%1.1f%%', \n",
    "                            startangle=90,    \n",
    "                            shadow=True,       \n",
    "                            labels=None)   \n",
    "plt.axis('equal') \n",
    "plt.legend(labels=['Male', 'Female'], loc='upper left') "
   ]
  },
  {
   "cell_type": "code",
   "execution_count": 27,
   "id": "52892e32",
   "metadata": {
    "execution": {
     "iopub.execute_input": "2023-05-11T20:18:11.326271Z",
     "iopub.status.busy": "2023-05-11T20:18:11.325317Z",
     "iopub.status.idle": "2023-05-11T20:18:11.342182Z",
     "shell.execute_reply": "2023-05-11T20:18:11.340800Z"
    },
    "papermill": {
     "duration": 0.062835,
     "end_time": "2023-05-11T20:18:11.344869",
     "exception": false,
     "start_time": "2023-05-11T20:18:11.282034",
     "status": "completed"
    },
    "tags": []
   },
   "outputs": [
    {
     "data": {
      "text/html": [
       "<div>\n",
       "<style scoped>\n",
       "    .dataframe tbody tr th:only-of-type {\n",
       "        vertical-align: middle;\n",
       "    }\n",
       "\n",
       "    .dataframe tbody tr th {\n",
       "        vertical-align: top;\n",
       "    }\n",
       "\n",
       "    .dataframe thead th {\n",
       "        text-align: right;\n",
       "    }\n",
       "</style>\n",
       "<table border=\"1\" class=\"dataframe\">\n",
       "  <thead>\n",
       "    <tr style=\"text-align: right;\">\n",
       "      <th>Gender</th>\n",
       "      <th>Female</th>\n",
       "      <th>Male</th>\n",
       "    </tr>\n",
       "    <tr>\n",
       "      <th>Attrition</th>\n",
       "      <th></th>\n",
       "      <th></th>\n",
       "    </tr>\n",
       "  </thead>\n",
       "  <tbody>\n",
       "    <tr>\n",
       "      <th>0</th>\n",
       "      <td>367</td>\n",
       "      <td>512</td>\n",
       "    </tr>\n",
       "    <tr>\n",
       "      <th>1</th>\n",
       "      <td>71</td>\n",
       "      <td>108</td>\n",
       "    </tr>\n",
       "  </tbody>\n",
       "</table>\n",
       "</div>"
      ],
      "text/plain": [
       "Gender     Female  Male\n",
       "Attrition              \n",
       "0             367   512\n",
       "1              71   108"
      ]
     },
     "execution_count": 27,
     "metadata": {},
     "output_type": "execute_result"
    }
   ],
   "source": [
    "fma = gda.groupby(\"Gender\")['Attrition'].value_counts(normalize=False).unstack()\n",
    "fma = fma.transpose()\n",
    "fma"
   ]
  },
  {
   "cell_type": "code",
   "execution_count": 28,
   "id": "2893e2f9",
   "metadata": {
    "execution": {
     "iopub.execute_input": "2023-05-11T20:18:11.427042Z",
     "iopub.status.busy": "2023-05-11T20:18:11.426328Z",
     "iopub.status.idle": "2023-05-11T20:18:11.720971Z",
     "shell.execute_reply": "2023-05-11T20:18:11.719397Z"
    },
    "papermill": {
     "duration": 0.340884,
     "end_time": "2023-05-11T20:18:11.725447",
     "exception": false,
     "start_time": "2023-05-11T20:18:11.384563",
     "status": "completed"
    },
    "tags": []
   },
   "outputs": [
    {
     "data": {
      "image/png": "[encoded data removed]",
      "text/plain": [
       "<Figure size 640x480 with 1 Axes>"
      ]
     },
     "metadata": {},
     "output_type": "display_data"
    }
   ],
   "source": [
    "labels = ['Male', 'Female']\n",
    "sizes = [882,588]\n",
    "labels_attrition = ['Yes','No','Yes','No']\n",
    "sizes_attrition = [150,732,87,501]\n",
    "colors = ['#ff6666', '#ffcc99']\n",
    "\n",
    "colors_attrition = ['#c2c2f0','#ffb3e6', '#c2c2f0','#ffb3e6']\n",
    " \n",
    "# Plot\n",
    "plt.pie(sizes, labels=labels, colors=colors, startangle=90,frame=True)\n",
    "plt.pie(sizes_attrition,colors=colors_attrition,radius=0.75,startangle=90)\n",
    "centre_circle = plt.Circle((0,0),0.5,color='black', fc='white',linewidth=0.5)\n",
    "fig6 = plt.gcf()\n",
    "fig6.gca().add_artist(centre_circle)\n",
    "\n",
    "#legend\n",
    "import matplotlib.patches as mpatches\n",
    "pur = mpatches.Patch(color='#c2c2f0', label='Yes')\n",
    "pin = mpatches.Patch(color='#ffb3e6', label='No')\n",
    "plt.legend(handles=[pur, pin], loc='center')\n",
    "\n",
    "plt.axis('equal')\n",
    "plt.tight_layout()\n",
    "plt.show()\n"
   ]
  },
  {
   "cell_type": "markdown",
   "id": "22152215",
   "metadata": {
    "papermill": {
     "duration": 0.039903,
     "end_time": "2023-05-11T20:18:11.815434",
     "exception": false,
     "start_time": "2023-05-11T20:18:11.775531",
     "status": "completed"
    },
    "tags": []
   },
   "source": [
    "## Analysis of Marital Status"
   ]
  },
  {
   "cell_type": "code",
   "execution_count": 29,
   "id": "f8a0ceca",
   "metadata": {
    "execution": {
     "iopub.execute_input": "2023-05-11T20:18:11.897690Z",
     "iopub.status.busy": "2023-05-11T20:18:11.896545Z",
     "iopub.status.idle": "2023-05-11T20:18:11.909513Z",
     "shell.execute_reply": "2023-05-11T20:18:11.908373Z"
    },
    "papermill": {
     "duration": 0.057094,
     "end_time": "2023-05-11T20:18:11.912281",
     "exception": false,
     "start_time": "2023-05-11T20:18:11.855187",
     "status": "completed"
    },
    "tags": []
   },
   "outputs": [
    {
     "data": {
      "text/html": [
       "<div>\n",
       "<style scoped>\n",
       "    .dataframe tbody tr th:only-of-type {\n",
       "        vertical-align: middle;\n",
       "    }\n",
       "\n",
       "    .dataframe tbody tr th {\n",
       "        vertical-align: top;\n",
       "    }\n",
       "\n",
       "    .dataframe thead th {\n",
       "        text-align: right;\n",
       "    }\n",
       "</style>\n",
       "<table border=\"1\" class=\"dataframe\">\n",
       "  <thead>\n",
       "    <tr style=\"text-align: right;\">\n",
       "      <th></th>\n",
       "      <th>MaritalStatus</th>\n",
       "      <th>Attrition</th>\n",
       "    </tr>\n",
       "  </thead>\n",
       "  <tbody>\n",
       "    <tr>\n",
       "      <th>0</th>\n",
       "      <td>Single</td>\n",
       "      <td>1</td>\n",
       "    </tr>\n",
       "    <tr>\n",
       "      <th>1</th>\n",
       "      <td>Married</td>\n",
       "      <td>0</td>\n",
       "    </tr>\n",
       "    <tr>\n",
       "      <th>2</th>\n",
       "      <td>Single</td>\n",
       "      <td>1</td>\n",
       "    </tr>\n",
       "    <tr>\n",
       "      <th>3</th>\n",
       "      <td>Married</td>\n",
       "      <td>0</td>\n",
       "    </tr>\n",
       "    <tr>\n",
       "      <th>4</th>\n",
       "      <td>Married</td>\n",
       "      <td>0</td>\n",
       "    </tr>\n",
       "  </tbody>\n",
       "</table>\n",
       "</div>"
      ],
      "text/plain": [
       "  MaritalStatus  Attrition\n",
       "0        Single          1\n",
       "1       Married          0\n",
       "2        Single          1\n",
       "3       Married          0\n",
       "4       Married          0"
      ]
     },
     "execution_count": 29,
     "metadata": {},
     "output_type": "execute_result"
    }
   ],
   "source": [
    "ms = train_data[['MaritalStatus', 'Attrition']]\n",
    "ms.head()"
   ]
  },
  {
   "cell_type": "code",
   "execution_count": 30,
   "id": "12185e21",
   "metadata": {
    "execution": {
     "iopub.execute_input": "2023-05-11T20:18:11.996365Z",
     "iopub.status.busy": "2023-05-11T20:18:11.995252Z",
     "iopub.status.idle": "2023-05-11T20:18:12.006012Z",
     "shell.execute_reply": "2023-05-11T20:18:12.004700Z"
    },
    "papermill": {
     "duration": 0.056225,
     "end_time": "2023-05-11T20:18:12.008796",
     "exception": false,
     "start_time": "2023-05-11T20:18:11.952571",
     "status": "completed"
    },
    "tags": []
   },
   "outputs": [
    {
     "data": {
      "text/plain": [
       "Married     464\n",
       "Single      352\n",
       "Divorced    242\n",
       "Name: MaritalStatus, dtype: int64"
      ]
     },
     "execution_count": 30,
     "metadata": {},
     "output_type": "execute_result"
    }
   ],
   "source": [
    "ms['MaritalStatus'].value_counts()"
   ]
  },
  {
   "cell_type": "code",
   "execution_count": 31,
   "id": "1ebbd6b8",
   "metadata": {
    "execution": {
     "iopub.execute_input": "2023-05-11T20:18:12.095557Z",
     "iopub.status.busy": "2023-05-11T20:18:12.094782Z",
     "iopub.status.idle": "2023-05-11T20:18:12.378975Z",
     "shell.execute_reply": "2023-05-11T20:18:12.377436Z"
    },
    "papermill": {
     "duration": 0.330844,
     "end_time": "2023-05-11T20:18:12.381811",
     "exception": false,
     "start_time": "2023-05-11T20:18:12.050967",
     "status": "completed"
    },
    "tags": []
   },
   "outputs": [
    {
     "data": {
      "text/plain": [
       "<matplotlib.legend.Legend at 0x7845fe749f30>"
      ]
     },
     "execution_count": 31,
     "metadata": {},
     "output_type": "execute_result"
    },
    {
     "data": {
      "image/png": "[encoded data removed]",
      "text/plain": [
       "<Figure size 1500x600 with 1 Axes>"
      ]
     },
     "metadata": {},
     "output_type": "display_data"
    }
   ],
   "source": [
    "ms['MaritalStatus'].value_counts().plot(kind='pie',\n",
    "                            figsize=(15, 6),\n",
    "                            autopct='%1.1f%%', \n",
    "                            startangle=90,    \n",
    "                            shadow=True,       \n",
    "                            labels=None)   \n",
    "plt.axis('equal') \n",
    "plt.legend(labels=['Married', 'Single', 'Divorced'], loc='upper left') "
   ]
  },
  {
   "cell_type": "code",
   "execution_count": 32,
   "id": "22b38f24",
   "metadata": {
    "execution": {
     "iopub.execute_input": "2023-05-11T20:18:12.467745Z",
     "iopub.status.busy": "2023-05-11T20:18:12.467267Z",
     "iopub.status.idle": "2023-05-11T20:18:12.481874Z",
     "shell.execute_reply": "2023-05-11T20:18:12.480737Z"
    },
    "papermill": {
     "duration": 0.06032,
     "end_time": "2023-05-11T20:18:12.484384",
     "exception": false,
     "start_time": "2023-05-11T20:18:12.424064",
     "status": "completed"
    },
    "tags": []
   },
   "outputs": [
    {
     "data": {
      "text/html": [
       "<div>\n",
       "<style scoped>\n",
       "    .dataframe tbody tr th:only-of-type {\n",
       "        vertical-align: middle;\n",
       "    }\n",
       "\n",
       "    .dataframe tbody tr th {\n",
       "        vertical-align: top;\n",
       "    }\n",
       "\n",
       "    .dataframe thead th {\n",
       "        text-align: right;\n",
       "    }\n",
       "</style>\n",
       "<table border=\"1\" class=\"dataframe\">\n",
       "  <thead>\n",
       "    <tr style=\"text-align: right;\">\n",
       "      <th>MaritalStatus</th>\n",
       "      <th>Divorced</th>\n",
       "      <th>Married</th>\n",
       "      <th>Single</th>\n",
       "    </tr>\n",
       "    <tr>\n",
       "      <th>Attrition</th>\n",
       "      <th></th>\n",
       "      <th></th>\n",
       "      <th></th>\n",
       "    </tr>\n",
       "  </thead>\n",
       "  <tbody>\n",
       "    <tr>\n",
       "      <th>0</th>\n",
       "      <td>219</td>\n",
       "      <td>402</td>\n",
       "      <td>258</td>\n",
       "    </tr>\n",
       "    <tr>\n",
       "      <th>1</th>\n",
       "      <td>23</td>\n",
       "      <td>62</td>\n",
       "      <td>94</td>\n",
       "    </tr>\n",
       "  </tbody>\n",
       "</table>\n",
       "</div>"
      ],
      "text/plain": [
       "MaritalStatus  Divorced  Married  Single\n",
       "Attrition                               \n",
       "0                   219      402     258\n",
       "1                    23       62      94"
      ]
     },
     "execution_count": 32,
     "metadata": {},
     "output_type": "execute_result"
    }
   ],
   "source": [
    "msa = ms.groupby(\"MaritalStatus\")['Attrition'].value_counts(normalize=False).unstack()\n",
    "msa = msa.transpose()\n",
    "msa"
   ]
  },
  {
   "cell_type": "code",
   "execution_count": 33,
   "id": "692e0e73",
   "metadata": {
    "execution": {
     "iopub.execute_input": "2023-05-11T20:18:12.571817Z",
     "iopub.status.busy": "2023-05-11T20:18:12.570589Z",
     "iopub.status.idle": "2023-05-11T20:18:12.881011Z",
     "shell.execute_reply": "2023-05-11T20:18:12.879227Z"
    },
    "papermill": {
     "duration": 0.359313,
     "end_time": "2023-05-11T20:18:12.885461",
     "exception": false,
     "start_time": "2023-05-11T20:18:12.526148",
     "status": "completed"
    },
    "tags": []
   },
   "outputs": [
    {
     "data": {
      "image/png": "[encoded data removed]",
      "text/plain": [
       "<Figure size 640x480 with 1 Axes>"
      ]
     },
     "metadata": {},
     "output_type": "display_data"
    }
   ],
   "source": [
    "labels = ['Married', 'Single', 'Divorced']\n",
    "sizes = [673, 470, 327]\n",
    "labels_attrition = ['Yes','No','Yes','No','Yes','No']\n",
    "sizes_attrition = [84,589,120,350,33,294]\n",
    "colors = ['#ff6666', '#ffcc99', '#99ff99']\n",
    "\n",
    "colors_attrition = ['#c2c2f0','#ffb3e6', '#c2c2f0','#ffb3e6', '#c2c2f0','#ffb3e6']\n",
    " \n",
    "# Plot\n",
    "plt.pie(sizes, labels=labels, colors=colors, startangle=90,frame=True)\n",
    "plt.pie(sizes_attrition,colors=colors_attrition,radius=0.75,startangle=90)\n",
    "centre_circle = plt.Circle((0,0),0.5,color='black', fc='white',linewidth=0.5)\n",
    "fig6 = plt.gcf()\n",
    "fig6.gca().add_artist(centre_circle)\n",
    "\n",
    "#legend\n",
    "import matplotlib.patches as mpatches\n",
    "pur = mpatches.Patch(color='#c2c2f0', label='Yes')\n",
    "pin = mpatches.Patch(color='#ffb3e6', label='No')\n",
    "plt.legend(handles=[pur, pin], loc='center')\n",
    "\n",
    "plt.axis('equal')\n",
    "plt.tight_layout()\n",
    "plt.show()\n"
   ]
  },
  {
   "cell_type": "markdown",
   "id": "40324ac7",
   "metadata": {
    "papermill": {
     "duration": 0.042008,
     "end_time": "2023-05-11T20:18:12.978830",
     "exception": false,
     "start_time": "2023-05-11T20:18:12.936822",
     "status": "completed"
    },
    "tags": []
   },
   "source": [
    "# Data preprocessing"
   ]
  },
  {
   "cell_type": "markdown",
   "id": "ee3980f1",
   "metadata": {
    "papermill": {
     "duration": 0.04223,
     "end_time": "2023-05-11T20:18:13.065456",
     "exception": false,
     "start_time": "2023-05-11T20:18:13.023226",
     "status": "completed"
    },
    "tags": []
   },
   "source": [
    "### Combine train and test dataframes in one dataframe"
   ]
  },
  {
   "cell_type": "code",
   "execution_count": 34,
   "id": "a715f787",
   "metadata": {
    "execution": {
     "iopub.execute_input": "2023-05-11T20:18:13.153289Z",
     "iopub.status.busy": "2023-05-11T20:18:13.152045Z",
     "iopub.status.idle": "2023-05-11T20:18:13.163233Z",
     "shell.execute_reply": "2023-05-11T20:18:13.162234Z"
    },
    "papermill": {
     "duration": 0.058046,
     "end_time": "2023-05-11T20:18:13.165844",
     "exception": false,
     "start_time": "2023-05-11T20:18:13.107798",
     "status": "completed"
    },
    "tags": []
   },
   "outputs": [],
   "source": [
    "data = pd.concat([train_data, test_data], axis = 0)\n",
    "data = data.reset_index()"
   ]
  },
  {
   "cell_type": "code",
   "execution_count": 35,
   "id": "34c0b9a1",
   "metadata": {
    "execution": {
     "iopub.execute_input": "2023-05-11T20:18:13.253578Z",
     "iopub.status.busy": "2023-05-11T20:18:13.252533Z",
     "iopub.status.idle": "2023-05-11T20:18:13.275649Z",
     "shell.execute_reply": "2023-05-11T20:18:13.274392Z"
    },
    "papermill": {
     "duration": 0.069515,
     "end_time": "2023-05-11T20:18:13.278352",
     "exception": false,
     "start_time": "2023-05-11T20:18:13.208837",
     "status": "completed"
    },
    "tags": []
   },
   "outputs": [
    {
     "data": {
      "text/html": [
       "<div>\n",
       "<style scoped>\n",
       "    .dataframe tbody tr th:only-of-type {\n",
       "        vertical-align: middle;\n",
       "    }\n",
       "\n",
       "    .dataframe tbody tr th {\n",
       "        vertical-align: top;\n",
       "    }\n",
       "\n",
       "    .dataframe thead th {\n",
       "        text-align: right;\n",
       "    }\n",
       "</style>\n",
       "<table border=\"1\" class=\"dataframe\">\n",
       "  <thead>\n",
       "    <tr style=\"text-align: right;\">\n",
       "      <th></th>\n",
       "      <th>index</th>\n",
       "      <th>Age</th>\n",
       "      <th>Attrition</th>\n",
       "      <th>BusinessTravel</th>\n",
       "      <th>DailyRate</th>\n",
       "      <th>Department</th>\n",
       "      <th>DistanceFromHome</th>\n",
       "      <th>Education</th>\n",
       "      <th>EducationField</th>\n",
       "      <th>EmployeeCount</th>\n",
       "      <th>...</th>\n",
       "      <th>StandardHours</th>\n",
       "      <th>StockOptionLevel</th>\n",
       "      <th>TotalWorkingYears</th>\n",
       "      <th>TrainingTimesLastYear</th>\n",
       "      <th>WorkLifeBalance</th>\n",
       "      <th>YearsAtCompany</th>\n",
       "      <th>YearsInCurrentRole</th>\n",
       "      <th>YearsSinceLastPromotion</th>\n",
       "      <th>YearsWithCurrManager</th>\n",
       "      <th>train_test</th>\n",
       "    </tr>\n",
       "  </thead>\n",
       "  <tbody>\n",
       "    <tr>\n",
       "      <th>0</th>\n",
       "      <td>0</td>\n",
       "      <td>41</td>\n",
       "      <td>1.0</td>\n",
       "      <td>Travel_Rarely</td>\n",
       "      <td>1102</td>\n",
       "      <td>Sales</td>\n",
       "      <td>1</td>\n",
       "      <td>2</td>\n",
       "      <td>Life Sciences</td>\n",
       "      <td>1</td>\n",
       "      <td>...</td>\n",
       "      <td>80</td>\n",
       "      <td>0</td>\n",
       "      <td>8</td>\n",
       "      <td>0</td>\n",
       "      <td>1</td>\n",
       "      <td>6</td>\n",
       "      <td>4</td>\n",
       "      <td>0</td>\n",
       "      <td>5</td>\n",
       "      <td>1</td>\n",
       "    </tr>\n",
       "    <tr>\n",
       "      <th>1</th>\n",
       "      <td>1</td>\n",
       "      <td>49</td>\n",
       "      <td>0.0</td>\n",
       "      <td>Travel_Frequently</td>\n",
       "      <td>279</td>\n",
       "      <td>Research &amp; Development</td>\n",
       "      <td>8</td>\n",
       "      <td>1</td>\n",
       "      <td>Life Sciences</td>\n",
       "      <td>1</td>\n",
       "      <td>...</td>\n",
       "      <td>80</td>\n",
       "      <td>1</td>\n",
       "      <td>10</td>\n",
       "      <td>3</td>\n",
       "      <td>3</td>\n",
       "      <td>10</td>\n",
       "      <td>7</td>\n",
       "      <td>1</td>\n",
       "      <td>7</td>\n",
       "      <td>1</td>\n",
       "    </tr>\n",
       "    <tr>\n",
       "      <th>2</th>\n",
       "      <td>2</td>\n",
       "      <td>37</td>\n",
       "      <td>1.0</td>\n",
       "      <td>Travel_Rarely</td>\n",
       "      <td>1373</td>\n",
       "      <td>Research &amp; Development</td>\n",
       "      <td>2</td>\n",
       "      <td>2</td>\n",
       "      <td>Other</td>\n",
       "      <td>1</td>\n",
       "      <td>...</td>\n",
       "      <td>80</td>\n",
       "      <td>0</td>\n",
       "      <td>7</td>\n",
       "      <td>3</td>\n",
       "      <td>3</td>\n",
       "      <td>0</td>\n",
       "      <td>0</td>\n",
       "      <td>0</td>\n",
       "      <td>0</td>\n",
       "      <td>1</td>\n",
       "    </tr>\n",
       "    <tr>\n",
       "      <th>3</th>\n",
       "      <td>3</td>\n",
       "      <td>33</td>\n",
       "      <td>0.0</td>\n",
       "      <td>Travel_Frequently</td>\n",
       "      <td>1392</td>\n",
       "      <td>Research &amp; Development</td>\n",
       "      <td>3</td>\n",
       "      <td>4</td>\n",
       "      <td>Life Sciences</td>\n",
       "      <td>1</td>\n",
       "      <td>...</td>\n",
       "      <td>80</td>\n",
       "      <td>0</td>\n",
       "      <td>8</td>\n",
       "      <td>3</td>\n",
       "      <td>3</td>\n",
       "      <td>8</td>\n",
       "      <td>7</td>\n",
       "      <td>3</td>\n",
       "      <td>0</td>\n",
       "      <td>1</td>\n",
       "    </tr>\n",
       "    <tr>\n",
       "      <th>4</th>\n",
       "      <td>4</td>\n",
       "      <td>27</td>\n",
       "      <td>0.0</td>\n",
       "      <td>Travel_Rarely</td>\n",
       "      <td>591</td>\n",
       "      <td>Research &amp; Development</td>\n",
       "      <td>2</td>\n",
       "      <td>1</td>\n",
       "      <td>Medical</td>\n",
       "      <td>1</td>\n",
       "      <td>...</td>\n",
       "      <td>80</td>\n",
       "      <td>1</td>\n",
       "      <td>6</td>\n",
       "      <td>3</td>\n",
       "      <td>3</td>\n",
       "      <td>2</td>\n",
       "      <td>2</td>\n",
       "      <td>2</td>\n",
       "      <td>2</td>\n",
       "      <td>1</td>\n",
       "    </tr>\n",
       "  </tbody>\n",
       "</table>\n",
       "<p>5 rows × 37 columns</p>\n",
       "</div>"
      ],
      "text/plain": [
       "   index  Age  Attrition     BusinessTravel  DailyRate  \\\n",
       "0      0   41        1.0      Travel_Rarely       1102   \n",
       "1      1   49        0.0  Travel_Frequently        279   \n",
       "2      2   37        1.0      Travel_Rarely       1373   \n",
       "3      3   33        0.0  Travel_Frequently       1392   \n",
       "4      4   27        0.0      Travel_Rarely        591   \n",
       "\n",
       "               Department  DistanceFromHome  Education EducationField  \\\n",
       "0                   Sales                 1          2  Life Sciences   \n",
       "1  Research & Development                 8          1  Life Sciences   \n",
       "2  Research & Development                 2          2          Other   \n",
       "3  Research & Development                 3          4  Life Sciences   \n",
       "4  Research & Development                 2          1        Medical   \n",
       "\n",
       "   EmployeeCount  ...  StandardHours  StockOptionLevel TotalWorkingYears  \\\n",
       "0              1  ...             80                 0                 8   \n",
       "1              1  ...             80                 1                10   \n",
       "2              1  ...             80                 0                 7   \n",
       "3              1  ...             80                 0                 8   \n",
       "4              1  ...             80                 1                 6   \n",
       "\n",
       "   TrainingTimesLastYear  WorkLifeBalance  YearsAtCompany YearsInCurrentRole  \\\n",
       "0                      0                1               6                  4   \n",
       "1                      3                3              10                  7   \n",
       "2                      3                3               0                  0   \n",
       "3                      3                3               8                  7   \n",
       "4                      3                3               2                  2   \n",
       "\n",
       "   YearsSinceLastPromotion YearsWithCurrManager  train_test  \n",
       "0                        0                    5           1  \n",
       "1                        1                    7           1  \n",
       "2                        0                    0           1  \n",
       "3                        3                    0           1  \n",
       "4                        2                    2           1  \n",
       "\n",
       "[5 rows x 37 columns]"
      ]
     },
     "execution_count": 35,
     "metadata": {},
     "output_type": "execute_result"
    }
   ],
   "source": [
    "data.head()"
   ]
  },
  {
   "cell_type": "markdown",
   "id": "5a3b8f1e",
   "metadata": {
    "papermill": {
     "duration": 0.04201,
     "end_time": "2023-05-11T20:18:13.363741",
     "exception": false,
     "start_time": "2023-05-11T20:18:13.321731",
     "status": "completed"
    },
    "tags": []
   },
   "source": [
    "## Duplicated rows"
   ]
  },
  {
   "cell_type": "code",
   "execution_count": 36,
   "id": "5457de11",
   "metadata": {
    "execution": {
     "iopub.execute_input": "2023-05-11T20:18:13.450490Z",
     "iopub.status.busy": "2023-05-11T20:18:13.450090Z",
     "iopub.status.idle": "2023-05-11T20:18:13.467508Z",
     "shell.execute_reply": "2023-05-11T20:18:13.466684Z"
    },
    "papermill": {
     "duration": 0.063869,
     "end_time": "2023-05-11T20:18:13.469889",
     "exception": false,
     "start_time": "2023-05-11T20:18:13.406020",
     "status": "completed"
    },
    "tags": []
   },
   "outputs": [
    {
     "data": {
      "text/plain": [
       "0"
      ]
     },
     "execution_count": 36,
     "metadata": {},
     "output_type": "execute_result"
    }
   ],
   "source": [
    "data.duplicated().sum()"
   ]
  },
  {
   "cell_type": "markdown",
   "id": "86804510",
   "metadata": {
    "papermill": {
     "duration": 0.042298,
     "end_time": "2023-05-11T20:18:13.554960",
     "exception": false,
     "start_time": "2023-05-11T20:18:13.512662",
     "status": "completed"
    },
    "tags": []
   },
   "source": [
    "## Null values"
   ]
  },
  {
   "cell_type": "code",
   "execution_count": 37,
   "id": "7ace2607",
   "metadata": {
    "execution": {
     "iopub.execute_input": "2023-05-11T20:18:13.642942Z",
     "iopub.status.busy": "2023-05-11T20:18:13.641730Z",
     "iopub.status.idle": "2023-05-11T20:18:14.018098Z",
     "shell.execute_reply": "2023-05-11T20:18:14.016878Z"
    },
    "papermill": {
     "duration": 0.423239,
     "end_time": "2023-05-11T20:18:14.020827",
     "exception": false,
     "start_time": "2023-05-11T20:18:13.597588",
     "status": "completed"
    },
    "tags": []
   },
   "outputs": [
    {
     "data": {
      "image/png": "[encoded data removed]",
      "text/plain": [
       "<Figure size 640x480 with 1 Axes>"
      ]
     },
     "metadata": {},
     "output_type": "display_data"
    }
   ],
   "source": [
    "ax = sns.heatmap(data.isnull(), yticklabels=False, cbar=False, cmap='viridis')\n",
    "# Display the plot\n",
    "plt.title(\"visualizing null values\")\n",
    "plt.show()"
   ]
  },
  {
   "cell_type": "code",
   "execution_count": 38,
   "id": "e1b2ad5b",
   "metadata": {
    "execution": {
     "iopub.execute_input": "2023-05-11T20:18:14.110095Z",
     "iopub.status.busy": "2023-05-11T20:18:14.109602Z",
     "iopub.status.idle": "2023-05-11T20:18:14.123612Z",
     "shell.execute_reply": "2023-05-11T20:18:14.122715Z"
    },
    "papermill": {
     "duration": 0.061229,
     "end_time": "2023-05-11T20:18:14.125593",
     "exception": false,
     "start_time": "2023-05-11T20:18:14.064364",
     "status": "completed"
    },
    "tags": []
   },
   "outputs": [
    {
     "data": {
      "text/plain": [
       "index                         0\n",
       "Age                           0\n",
       "Attrition                   412\n",
       "BusinessTravel                0\n",
       "DailyRate                     0\n",
       "Department                    0\n",
       "DistanceFromHome              0\n",
       "Education                     0\n",
       "EducationField                0\n",
       "EmployeeCount                 0\n",
       "EmployeeNumber                0\n",
       "EnvironmentSatisfaction       0\n",
       "Gender                        0\n",
       "HourlyRate                    0\n",
       "JobInvolvement                0\n",
       "JobLevel                      0\n",
       "JobRole                       0\n",
       "JobSatisfaction               0\n",
       "MaritalStatus                 0\n",
       "MonthlyIncome                 0\n",
       "MonthlyRate                   0\n",
       "NumCompaniesWorked            0\n",
       "Over18                        0\n",
       "OverTime                      0\n",
       "PercentSalaryHike             0\n",
       "PerformanceRating             0\n",
       "RelationshipSatisfaction      0\n",
       "StandardHours                 0\n",
       "StockOptionLevel              0\n",
       "TotalWorkingYears             0\n",
       "TrainingTimesLastYear         0\n",
       "WorkLifeBalance               0\n",
       "YearsAtCompany                0\n",
       "YearsInCurrentRole            0\n",
       "YearsSinceLastPromotion       0\n",
       "YearsWithCurrManager          0\n",
       "train_test                    0\n",
       "dtype: int64"
      ]
     },
     "execution_count": 38,
     "metadata": {},
     "output_type": "execute_result"
    }
   ],
   "source": [
    "data.isnull().sum()"
   ]
  },
  {
   "cell_type": "code",
   "execution_count": 39,
   "id": "2828c9e3",
   "metadata": {
    "execution": {
     "iopub.execute_input": "2023-05-11T20:18:14.217552Z",
     "iopub.status.busy": "2023-05-11T20:18:14.216808Z",
     "iopub.status.idle": "2023-05-11T20:18:14.232580Z",
     "shell.execute_reply": "2023-05-11T20:18:14.231328Z"
    },
    "papermill": {
     "duration": 0.064346,
     "end_time": "2023-05-11T20:18:14.235178",
     "exception": false,
     "start_time": "2023-05-11T20:18:14.170832",
     "status": "completed"
    },
    "tags": []
   },
   "outputs": [
    {
     "data": {
      "text/plain": [
       "index                        0.00\n",
       "Age                          0.00\n",
       "Attrition                   28.03\n",
       "BusinessTravel               0.00\n",
       "DailyRate                    0.00\n",
       "Department                   0.00\n",
       "DistanceFromHome             0.00\n",
       "Education                    0.00\n",
       "EducationField               0.00\n",
       "EmployeeCount                0.00\n",
       "EmployeeNumber               0.00\n",
       "EnvironmentSatisfaction      0.00\n",
       "Gender                       0.00\n",
       "HourlyRate                   0.00\n",
       "JobInvolvement               0.00\n",
       "JobLevel                     0.00\n",
       "JobRole                      0.00\n",
       "JobSatisfaction              0.00\n",
       "MaritalStatus                0.00\n",
       "MonthlyIncome                0.00\n",
       "MonthlyRate                  0.00\n",
       "NumCompaniesWorked           0.00\n",
       "Over18                       0.00\n",
       "OverTime                     0.00\n",
       "PercentSalaryHike            0.00\n",
       "PerformanceRating            0.00\n",
       "RelationshipSatisfaction     0.00\n",
       "StandardHours                0.00\n",
       "StockOptionLevel             0.00\n",
       "TotalWorkingYears            0.00\n",
       "TrainingTimesLastYear        0.00\n",
       "WorkLifeBalance              0.00\n",
       "YearsAtCompany               0.00\n",
       "YearsInCurrentRole           0.00\n",
       "YearsSinceLastPromotion      0.00\n",
       "YearsWithCurrManager         0.00\n",
       "train_test                   0.00\n",
       "dtype: float64"
      ]
     },
     "execution_count": 39,
     "metadata": {},
     "output_type": "execute_result"
    }
   ],
   "source": [
    "round(data.isna().mean() * 100, 2)"
   ]
  },
  {
   "cell_type": "markdown",
   "id": "451cbd82",
   "metadata": {
    "papermill": {
     "duration": 0.045158,
     "end_time": "2023-05-11T20:18:14.324015",
     "exception": false,
     "start_time": "2023-05-11T20:18:14.278857",
     "status": "completed"
    },
    "tags": []
   },
   "source": [
    "# Handling null values"
   ]
  },
  {
   "cell_type": "markdown",
   "id": "89207097",
   "metadata": {
    "papermill": {
     "duration": 0.045895,
     "end_time": "2023-05-11T20:18:14.413643",
     "exception": false,
     "start_time": "2023-05-11T20:18:14.367748",
     "status": "completed"
    },
    "tags": []
   },
   "source": [
    "* Missing values in Attrition column is 28.03%, so we can impute missing values using mode."
   ]
  },
  {
   "cell_type": "code",
   "execution_count": 40,
   "id": "50b6e8da",
   "metadata": {
    "execution": {
     "iopub.execute_input": "2023-05-11T20:18:14.506663Z",
     "iopub.status.busy": "2023-05-11T20:18:14.505675Z",
     "iopub.status.idle": "2023-05-11T20:18:14.513737Z",
     "shell.execute_reply": "2023-05-11T20:18:14.512786Z"
    },
    "papermill": {
     "duration": 0.056584,
     "end_time": "2023-05-11T20:18:14.516281",
     "exception": false,
     "start_time": "2023-05-11T20:18:14.459697",
     "status": "completed"
    },
    "tags": []
   },
   "outputs": [],
   "source": [
    "# Calculate the mode of the 'Attrition' column\n",
    "mode_value = data['Attrition'].mode()[0]\n",
    "\n",
    "# Replace missing values with the mode\n",
    "data['Attrition'].fillna(mode_value, inplace=True)"
   ]
  },
  {
   "cell_type": "markdown",
   "id": "ec6340d7",
   "metadata": {
    "papermill": {
     "duration": 0.043888,
     "end_time": "2023-05-11T20:18:14.604002",
     "exception": false,
     "start_time": "2023-05-11T20:18:14.560114",
     "status": "completed"
    },
    "tags": []
   },
   "source": [
    "## Drop columns"
   ]
  },
  {
   "cell_type": "markdown",
   "id": "d236cba6",
   "metadata": {
    "papermill": {
     "duration": 0.045778,
     "end_time": "2023-05-11T20:18:14.693817",
     "exception": false,
     "start_time": "2023-05-11T20:18:14.648039",
     "status": "completed"
    },
    "tags": []
   },
   "source": [
    "**Removing Useless Features**\n",
    "\n",
    "1. StandardHours\n",
    "1. EmployeeCount\n",
    "1. Over18\n",
    "1. StockOptionLevel"
   ]
  },
  {
   "cell_type": "code",
   "execution_count": 41,
   "id": "3512d13a",
   "metadata": {
    "execution": {
     "iopub.execute_input": "2023-05-11T20:18:14.786144Z",
     "iopub.status.busy": "2023-05-11T20:18:14.785324Z",
     "iopub.status.idle": "2023-05-11T20:18:14.810329Z",
     "shell.execute_reply": "2023-05-11T20:18:14.809208Z"
    },
    "papermill": {
     "duration": 0.074102,
     "end_time": "2023-05-11T20:18:14.813102",
     "exception": false,
     "start_time": "2023-05-11T20:18:14.739000",
     "status": "completed"
    },
    "tags": []
   },
   "outputs": [
    {
     "data": {
      "text/html": [
       "<div>\n",
       "<style scoped>\n",
       "    .dataframe tbody tr th:only-of-type {\n",
       "        vertical-align: middle;\n",
       "    }\n",
       "\n",
       "    .dataframe tbody tr th {\n",
       "        vertical-align: top;\n",
       "    }\n",
       "\n",
       "    .dataframe thead th {\n",
       "        text-align: right;\n",
       "    }\n",
       "</style>\n",
       "<table border=\"1\" class=\"dataframe\">\n",
       "  <thead>\n",
       "    <tr style=\"text-align: right;\">\n",
       "      <th></th>\n",
       "      <th>index</th>\n",
       "      <th>Age</th>\n",
       "      <th>Attrition</th>\n",
       "      <th>BusinessTravel</th>\n",
       "      <th>DailyRate</th>\n",
       "      <th>Department</th>\n",
       "      <th>DistanceFromHome</th>\n",
       "      <th>Education</th>\n",
       "      <th>EducationField</th>\n",
       "      <th>EmployeeNumber</th>\n",
       "      <th>...</th>\n",
       "      <th>PerformanceRating</th>\n",
       "      <th>RelationshipSatisfaction</th>\n",
       "      <th>TotalWorkingYears</th>\n",
       "      <th>TrainingTimesLastYear</th>\n",
       "      <th>WorkLifeBalance</th>\n",
       "      <th>YearsAtCompany</th>\n",
       "      <th>YearsInCurrentRole</th>\n",
       "      <th>YearsSinceLastPromotion</th>\n",
       "      <th>YearsWithCurrManager</th>\n",
       "      <th>train_test</th>\n",
       "    </tr>\n",
       "  </thead>\n",
       "  <tbody>\n",
       "    <tr>\n",
       "      <th>0</th>\n",
       "      <td>0</td>\n",
       "      <td>41</td>\n",
       "      <td>1.0</td>\n",
       "      <td>Travel_Rarely</td>\n",
       "      <td>1102</td>\n",
       "      <td>Sales</td>\n",
       "      <td>1</td>\n",
       "      <td>2</td>\n",
       "      <td>Life Sciences</td>\n",
       "      <td>1</td>\n",
       "      <td>...</td>\n",
       "      <td>3</td>\n",
       "      <td>1</td>\n",
       "      <td>8</td>\n",
       "      <td>0</td>\n",
       "      <td>1</td>\n",
       "      <td>6</td>\n",
       "      <td>4</td>\n",
       "      <td>0</td>\n",
       "      <td>5</td>\n",
       "      <td>1</td>\n",
       "    </tr>\n",
       "    <tr>\n",
       "      <th>1</th>\n",
       "      <td>1</td>\n",
       "      <td>49</td>\n",
       "      <td>0.0</td>\n",
       "      <td>Travel_Frequently</td>\n",
       "      <td>279</td>\n",
       "      <td>Research &amp; Development</td>\n",
       "      <td>8</td>\n",
       "      <td>1</td>\n",
       "      <td>Life Sciences</td>\n",
       "      <td>2</td>\n",
       "      <td>...</td>\n",
       "      <td>4</td>\n",
       "      <td>4</td>\n",
       "      <td>10</td>\n",
       "      <td>3</td>\n",
       "      <td>3</td>\n",
       "      <td>10</td>\n",
       "      <td>7</td>\n",
       "      <td>1</td>\n",
       "      <td>7</td>\n",
       "      <td>1</td>\n",
       "    </tr>\n",
       "    <tr>\n",
       "      <th>2</th>\n",
       "      <td>2</td>\n",
       "      <td>37</td>\n",
       "      <td>1.0</td>\n",
       "      <td>Travel_Rarely</td>\n",
       "      <td>1373</td>\n",
       "      <td>Research &amp; Development</td>\n",
       "      <td>2</td>\n",
       "      <td>2</td>\n",
       "      <td>Other</td>\n",
       "      <td>4</td>\n",
       "      <td>...</td>\n",
       "      <td>3</td>\n",
       "      <td>2</td>\n",
       "      <td>7</td>\n",
       "      <td>3</td>\n",
       "      <td>3</td>\n",
       "      <td>0</td>\n",
       "      <td>0</td>\n",
       "      <td>0</td>\n",
       "      <td>0</td>\n",
       "      <td>1</td>\n",
       "    </tr>\n",
       "    <tr>\n",
       "      <th>3</th>\n",
       "      <td>3</td>\n",
       "      <td>33</td>\n",
       "      <td>0.0</td>\n",
       "      <td>Travel_Frequently</td>\n",
       "      <td>1392</td>\n",
       "      <td>Research &amp; Development</td>\n",
       "      <td>3</td>\n",
       "      <td>4</td>\n",
       "      <td>Life Sciences</td>\n",
       "      <td>5</td>\n",
       "      <td>...</td>\n",
       "      <td>3</td>\n",
       "      <td>3</td>\n",
       "      <td>8</td>\n",
       "      <td>3</td>\n",
       "      <td>3</td>\n",
       "      <td>8</td>\n",
       "      <td>7</td>\n",
       "      <td>3</td>\n",
       "      <td>0</td>\n",
       "      <td>1</td>\n",
       "    </tr>\n",
       "    <tr>\n",
       "      <th>4</th>\n",
       "      <td>4</td>\n",
       "      <td>27</td>\n",
       "      <td>0.0</td>\n",
       "      <td>Travel_Rarely</td>\n",
       "      <td>591</td>\n",
       "      <td>Research &amp; Development</td>\n",
       "      <td>2</td>\n",
       "      <td>1</td>\n",
       "      <td>Medical</td>\n",
       "      <td>7</td>\n",
       "      <td>...</td>\n",
       "      <td>3</td>\n",
       "      <td>4</td>\n",
       "      <td>6</td>\n",
       "      <td>3</td>\n",
       "      <td>3</td>\n",
       "      <td>2</td>\n",
       "      <td>2</td>\n",
       "      <td>2</td>\n",
       "      <td>2</td>\n",
       "      <td>1</td>\n",
       "    </tr>\n",
       "  </tbody>\n",
       "</table>\n",
       "<p>5 rows × 33 columns</p>\n",
       "</div>"
      ],
      "text/plain": [
       "   index  Age  Attrition     BusinessTravel  DailyRate  \\\n",
       "0      0   41        1.0      Travel_Rarely       1102   \n",
       "1      1   49        0.0  Travel_Frequently        279   \n",
       "2      2   37        1.0      Travel_Rarely       1373   \n",
       "3      3   33        0.0  Travel_Frequently       1392   \n",
       "4      4   27        0.0      Travel_Rarely        591   \n",
       "\n",
       "               Department  DistanceFromHome  Education EducationField  \\\n",
       "0                   Sales                 1          2  Life Sciences   \n",
       "1  Research & Development                 8          1  Life Sciences   \n",
       "2  Research & Development                 2          2          Other   \n",
       "3  Research & Development                 3          4  Life Sciences   \n",
       "4  Research & Development                 2          1        Medical   \n",
       "\n",
       "   EmployeeNumber  ...  PerformanceRating RelationshipSatisfaction  \\\n",
       "0               1  ...                  3                        1   \n",
       "1               2  ...                  4                        4   \n",
       "2               4  ...                  3                        2   \n",
       "3               5  ...                  3                        3   \n",
       "4               7  ...                  3                        4   \n",
       "\n",
       "   TotalWorkingYears  TrainingTimesLastYear  WorkLifeBalance YearsAtCompany  \\\n",
       "0                  8                      0                1              6   \n",
       "1                 10                      3                3             10   \n",
       "2                  7                      3                3              0   \n",
       "3                  8                      3                3              8   \n",
       "4                  6                      3                3              2   \n",
       "\n",
       "   YearsInCurrentRole YearsSinceLastPromotion  YearsWithCurrManager  \\\n",
       "0                   4                       0                     5   \n",
       "1                   7                       1                     7   \n",
       "2                   0                       0                     0   \n",
       "3                   7                       3                     0   \n",
       "4                   2                       2                     2   \n",
       "\n",
       "   train_test  \n",
       "0           1  \n",
       "1           1  \n",
       "2           1  \n",
       "3           1  \n",
       "4           1  \n",
       "\n",
       "[5 rows x 33 columns]"
      ]
     },
     "execution_count": 41,
     "metadata": {},
     "output_type": "execute_result"
    }
   ],
   "source": [
    "# Drop useless features - StandardHours,EmployeeCount,Over18,EmployeeNumber,StockOptionLevel\n",
    "data.drop(columns=['StandardHours','EmployeeCount','Over18','StockOptionLevel'],inplace=True)\n",
    "data.head()"
   ]
  },
  {
   "cell_type": "code",
   "execution_count": 42,
   "id": "860bd67b",
   "metadata": {
    "execution": {
     "iopub.execute_input": "2023-05-11T20:18:14.905311Z",
     "iopub.status.busy": "2023-05-11T20:18:14.904867Z",
     "iopub.status.idle": "2023-05-11T20:18:14.911661Z",
     "shell.execute_reply": "2023-05-11T20:18:14.910663Z"
    },
    "papermill": {
     "duration": 0.055893,
     "end_time": "2023-05-11T20:18:14.913982",
     "exception": false,
     "start_time": "2023-05-11T20:18:14.858089",
     "status": "completed"
    },
    "tags": []
   },
   "outputs": [
    {
     "data": {
      "text/plain": [
       "(1470, 33)"
      ]
     },
     "execution_count": 42,
     "metadata": {},
     "output_type": "execute_result"
    }
   ],
   "source": [
    "data.shape"
   ]
  },
  {
   "cell_type": "markdown",
   "id": "bebeecd3",
   "metadata": {
    "papermill": {
     "duration": 0.045237,
     "end_time": "2023-05-11T20:18:15.004912",
     "exception": false,
     "start_time": "2023-05-11T20:18:14.959675",
     "status": "completed"
    },
    "tags": []
   },
   "source": [
    "## Convert the categorical features to numerical"
   ]
  },
  {
   "cell_type": "markdown",
   "id": "3551c392",
   "metadata": {
    "papermill": {
     "duration": 0.044674,
     "end_time": "2023-05-11T20:18:15.094282",
     "exception": false,
     "start_time": "2023-05-11T20:18:15.049608",
     "status": "completed"
    },
    "tags": []
   },
   "source": [
    "### dividing data into features and labels\n"
   ]
  },
  {
   "cell_type": "code",
   "execution_count": 43,
   "id": "a1b6d101",
   "metadata": {
    "execution": {
     "iopub.execute_input": "2023-05-11T20:18:15.193557Z",
     "iopub.status.busy": "2023-05-11T20:18:15.192746Z",
     "iopub.status.idle": "2023-05-11T20:18:15.218991Z",
     "shell.execute_reply": "2023-05-11T20:18:15.217470Z"
    },
    "papermill": {
     "duration": 0.079796,
     "end_time": "2023-05-11T20:18:15.221885",
     "exception": false,
     "start_time": "2023-05-11T20:18:15.142089",
     "status": "completed"
    },
    "tags": []
   },
   "outputs": [
    {
     "data": {
      "text/html": [
       "<div>\n",
       "<style scoped>\n",
       "    .dataframe tbody tr th:only-of-type {\n",
       "        vertical-align: middle;\n",
       "    }\n",
       "\n",
       "    .dataframe tbody tr th {\n",
       "        vertical-align: top;\n",
       "    }\n",
       "\n",
       "    .dataframe thead th {\n",
       "        text-align: right;\n",
       "    }\n",
       "</style>\n",
       "<table border=\"1\" class=\"dataframe\">\n",
       "  <thead>\n",
       "    <tr style=\"text-align: right;\">\n",
       "      <th></th>\n",
       "      <th>index</th>\n",
       "      <th>Age</th>\n",
       "      <th>BusinessTravel</th>\n",
       "      <th>DailyRate</th>\n",
       "      <th>Department</th>\n",
       "      <th>DistanceFromHome</th>\n",
       "      <th>Education</th>\n",
       "      <th>EducationField</th>\n",
       "      <th>EmployeeNumber</th>\n",
       "      <th>EnvironmentSatisfaction</th>\n",
       "      <th>...</th>\n",
       "      <th>PerformanceRating</th>\n",
       "      <th>RelationshipSatisfaction</th>\n",
       "      <th>TotalWorkingYears</th>\n",
       "      <th>TrainingTimesLastYear</th>\n",
       "      <th>WorkLifeBalance</th>\n",
       "      <th>YearsAtCompany</th>\n",
       "      <th>YearsInCurrentRole</th>\n",
       "      <th>YearsSinceLastPromotion</th>\n",
       "      <th>YearsWithCurrManager</th>\n",
       "      <th>train_test</th>\n",
       "    </tr>\n",
       "  </thead>\n",
       "  <tbody>\n",
       "    <tr>\n",
       "      <th>0</th>\n",
       "      <td>0</td>\n",
       "      <td>41</td>\n",
       "      <td>Travel_Rarely</td>\n",
       "      <td>1102</td>\n",
       "      <td>Sales</td>\n",
       "      <td>1</td>\n",
       "      <td>2</td>\n",
       "      <td>Life Sciences</td>\n",
       "      <td>1</td>\n",
       "      <td>2</td>\n",
       "      <td>...</td>\n",
       "      <td>3</td>\n",
       "      <td>1</td>\n",
       "      <td>8</td>\n",
       "      <td>0</td>\n",
       "      <td>1</td>\n",
       "      <td>6</td>\n",
       "      <td>4</td>\n",
       "      <td>0</td>\n",
       "      <td>5</td>\n",
       "      <td>1</td>\n",
       "    </tr>\n",
       "    <tr>\n",
       "      <th>1</th>\n",
       "      <td>1</td>\n",
       "      <td>49</td>\n",
       "      <td>Travel_Frequently</td>\n",
       "      <td>279</td>\n",
       "      <td>Research &amp; Development</td>\n",
       "      <td>8</td>\n",
       "      <td>1</td>\n",
       "      <td>Life Sciences</td>\n",
       "      <td>2</td>\n",
       "      <td>3</td>\n",
       "      <td>...</td>\n",
       "      <td>4</td>\n",
       "      <td>4</td>\n",
       "      <td>10</td>\n",
       "      <td>3</td>\n",
       "      <td>3</td>\n",
       "      <td>10</td>\n",
       "      <td>7</td>\n",
       "      <td>1</td>\n",
       "      <td>7</td>\n",
       "      <td>1</td>\n",
       "    </tr>\n",
       "    <tr>\n",
       "      <th>2</th>\n",
       "      <td>2</td>\n",
       "      <td>37</td>\n",
       "      <td>Travel_Rarely</td>\n",
       "      <td>1373</td>\n",
       "      <td>Research &amp; Development</td>\n",
       "      <td>2</td>\n",
       "      <td>2</td>\n",
       "      <td>Other</td>\n",
       "      <td>4</td>\n",
       "      <td>4</td>\n",
       "      <td>...</td>\n",
       "      <td>3</td>\n",
       "      <td>2</td>\n",
       "      <td>7</td>\n",
       "      <td>3</td>\n",
       "      <td>3</td>\n",
       "      <td>0</td>\n",
       "      <td>0</td>\n",
       "      <td>0</td>\n",
       "      <td>0</td>\n",
       "      <td>1</td>\n",
       "    </tr>\n",
       "    <tr>\n",
       "      <th>3</th>\n",
       "      <td>3</td>\n",
       "      <td>33</td>\n",
       "      <td>Travel_Frequently</td>\n",
       "      <td>1392</td>\n",
       "      <td>Research &amp; Development</td>\n",
       "      <td>3</td>\n",
       "      <td>4</td>\n",
       "      <td>Life Sciences</td>\n",
       "      <td>5</td>\n",
       "      <td>4</td>\n",
       "      <td>...</td>\n",
       "      <td>3</td>\n",
       "      <td>3</td>\n",
       "      <td>8</td>\n",
       "      <td>3</td>\n",
       "      <td>3</td>\n",
       "      <td>8</td>\n",
       "      <td>7</td>\n",
       "      <td>3</td>\n",
       "      <td>0</td>\n",
       "      <td>1</td>\n",
       "    </tr>\n",
       "    <tr>\n",
       "      <th>4</th>\n",
       "      <td>4</td>\n",
       "      <td>27</td>\n",
       "      <td>Travel_Rarely</td>\n",
       "      <td>591</td>\n",
       "      <td>Research &amp; Development</td>\n",
       "      <td>2</td>\n",
       "      <td>1</td>\n",
       "      <td>Medical</td>\n",
       "      <td>7</td>\n",
       "      <td>1</td>\n",
       "      <td>...</td>\n",
       "      <td>3</td>\n",
       "      <td>4</td>\n",
       "      <td>6</td>\n",
       "      <td>3</td>\n",
       "      <td>3</td>\n",
       "      <td>2</td>\n",
       "      <td>2</td>\n",
       "      <td>2</td>\n",
       "      <td>2</td>\n",
       "      <td>1</td>\n",
       "    </tr>\n",
       "  </tbody>\n",
       "</table>\n",
       "<p>5 rows × 32 columns</p>\n",
       "</div>"
      ],
      "text/plain": [
       "   index  Age     BusinessTravel  DailyRate              Department  \\\n",
       "0      0   41      Travel_Rarely       1102                   Sales   \n",
       "1      1   49  Travel_Frequently        279  Research & Development   \n",
       "2      2   37      Travel_Rarely       1373  Research & Development   \n",
       "3      3   33  Travel_Frequently       1392  Research & Development   \n",
       "4      4   27      Travel_Rarely        591  Research & Development   \n",
       "\n",
       "   DistanceFromHome  Education EducationField  EmployeeNumber  \\\n",
       "0                 1          2  Life Sciences               1   \n",
       "1                 8          1  Life Sciences               2   \n",
       "2                 2          2          Other               4   \n",
       "3                 3          4  Life Sciences               5   \n",
       "4                 2          1        Medical               7   \n",
       "\n",
       "   EnvironmentSatisfaction  ... PerformanceRating  RelationshipSatisfaction  \\\n",
       "0                        2  ...                 3                         1   \n",
       "1                        3  ...                 4                         4   \n",
       "2                        4  ...                 3                         2   \n",
       "3                        4  ...                 3                         3   \n",
       "4                        1  ...                 3                         4   \n",
       "\n",
       "   TotalWorkingYears  TrainingTimesLastYear WorkLifeBalance  YearsAtCompany  \\\n",
       "0                  8                      0               1               6   \n",
       "1                 10                      3               3              10   \n",
       "2                  7                      3               3               0   \n",
       "3                  8                      3               3               8   \n",
       "4                  6                      3               3               2   \n",
       "\n",
       "  YearsInCurrentRole  YearsSinceLastPromotion  YearsWithCurrManager  \\\n",
       "0                  4                        0                     5   \n",
       "1                  7                        1                     7   \n",
       "2                  0                        0                     0   \n",
       "3                  7                        3                     0   \n",
       "4                  2                        2                     2   \n",
       "\n",
       "   train_test  \n",
       "0           1  \n",
       "1           1  \n",
       "2           1  \n",
       "3           1  \n",
       "4           1  \n",
       "\n",
       "[5 rows x 32 columns]"
      ]
     },
     "execution_count": 43,
     "metadata": {},
     "output_type": "execute_result"
    }
   ],
   "source": [
    "features = data.drop([\"Attrition\"], axis = 1)\n",
    "labels = data.filter([\"Attrition\",\"train_test\"], axis = 1)\n",
    "features.head()"
   ]
  },
  {
   "cell_type": "markdown",
   "id": "f32f9e9a",
   "metadata": {
    "papermill": {
     "duration": 0.044975,
     "end_time": "2023-05-11T20:18:15.312828",
     "exception": false,
     "start_time": "2023-05-11T20:18:15.267853",
     "status": "completed"
    },
    "tags": []
   },
   "source": [
    "### Extract categorical features"
   ]
  },
  {
   "cell_type": "code",
   "execution_count": 44,
   "id": "8ed2ddfc",
   "metadata": {
    "execution": {
     "iopub.execute_input": "2023-05-11T20:18:15.431427Z",
     "iopub.status.busy": "2023-05-11T20:18:15.431031Z",
     "iopub.status.idle": "2023-05-11T20:18:15.439059Z",
     "shell.execute_reply": "2023-05-11T20:18:15.438089Z"
    },
    "papermill": {
     "duration": 0.070678,
     "end_time": "2023-05-11T20:18:15.441220",
     "exception": false,
     "start_time": "2023-05-11T20:18:15.370542",
     "status": "completed"
    },
    "tags": []
   },
   "outputs": [
    {
     "data": {
      "text/plain": [
       "Index(['BusinessTravel', 'Department', 'EducationField', 'Gender', 'JobRole',\n",
       "       'MaritalStatus', 'OverTime'],\n",
       "      dtype='object')"
      ]
     },
     "execution_count": 44,
     "metadata": {},
     "output_type": "execute_result"
    }
   ],
   "source": [
    "categorical = features.select_dtypes(include = \"object\")\n",
    "categorical.columns"
   ]
  },
  {
   "cell_type": "code",
   "execution_count": 45,
   "id": "c994811c",
   "metadata": {
    "execution": {
     "iopub.execute_input": "2023-05-11T20:18:15.535382Z",
     "iopub.status.busy": "2023-05-11T20:18:15.534566Z",
     "iopub.status.idle": "2023-05-11T20:18:15.541263Z",
     "shell.execute_reply": "2023-05-11T20:18:15.540358Z"
    },
    "papermill": {
     "duration": 0.057153,
     "end_time": "2023-05-11T20:18:15.543543",
     "exception": false,
     "start_time": "2023-05-11T20:18:15.486390",
     "status": "completed"
    },
    "tags": []
   },
   "outputs": [
    {
     "data": {
      "text/plain": [
       "7"
      ]
     },
     "execution_count": 45,
     "metadata": {},
     "output_type": "execute_result"
    }
   ],
   "source": [
    "len(categorical.columns)"
   ]
  },
  {
   "cell_type": "markdown",
   "id": "0c4fdf2a",
   "metadata": {
    "papermill": {
     "duration": 0.044776,
     "end_time": "2023-05-11T20:18:15.634203",
     "exception": false,
     "start_time": "2023-05-11T20:18:15.589427",
     "status": "completed"
    },
    "tags": []
   },
   "source": [
    "### Extract numerical features"
   ]
  },
  {
   "cell_type": "code",
   "execution_count": 46,
   "id": "259432af",
   "metadata": {
    "execution": {
     "iopub.execute_input": "2023-05-11T20:18:15.728902Z",
     "iopub.status.busy": "2023-05-11T20:18:15.728453Z",
     "iopub.status.idle": "2023-05-11T20:18:15.736550Z",
     "shell.execute_reply": "2023-05-11T20:18:15.735606Z"
    },
    "papermill": {
     "duration": 0.058895,
     "end_time": "2023-05-11T20:18:15.738960",
     "exception": false,
     "start_time": "2023-05-11T20:18:15.680065",
     "status": "completed"
    },
    "tags": []
   },
   "outputs": [
    {
     "data": {
      "text/plain": [
       "Index(['index', 'Age', 'DailyRate', 'DistanceFromHome', 'Education',\n",
       "       'EmployeeNumber', 'EnvironmentSatisfaction', 'HourlyRate',\n",
       "       'JobInvolvement', 'JobLevel', 'JobSatisfaction', 'MonthlyIncome',\n",
       "       'MonthlyRate', 'NumCompaniesWorked', 'PercentSalaryHike',\n",
       "       'PerformanceRating', 'RelationshipSatisfaction', 'TotalWorkingYears',\n",
       "       'TrainingTimesLastYear', 'WorkLifeBalance', 'YearsAtCompany',\n",
       "       'YearsInCurrentRole', 'YearsSinceLastPromotion', 'YearsWithCurrManager',\n",
       "       'train_test'],\n",
       "      dtype='object')"
      ]
     },
     "execution_count": 46,
     "metadata": {},
     "output_type": "execute_result"
    }
   ],
   "source": [
    "numerical = features.select_dtypes(include = [\"float\", \"int64\"])\n",
    "numerical.columns"
   ]
  },
  {
   "cell_type": "code",
   "execution_count": 47,
   "id": "58bf39a8",
   "metadata": {
    "execution": {
     "iopub.execute_input": "2023-05-11T20:18:15.834930Z",
     "iopub.status.busy": "2023-05-11T20:18:15.834046Z",
     "iopub.status.idle": "2023-05-11T20:18:15.841293Z",
     "shell.execute_reply": "2023-05-11T20:18:15.840345Z"
    },
    "papermill": {
     "duration": 0.057491,
     "end_time": "2023-05-11T20:18:15.843679",
     "exception": false,
     "start_time": "2023-05-11T20:18:15.786188",
     "status": "completed"
    },
    "tags": []
   },
   "outputs": [
    {
     "data": {
      "text/plain": [
       "25"
      ]
     },
     "execution_count": 47,
     "metadata": {},
     "output_type": "execute_result"
    }
   ],
   "source": [
    "len(numerical.columns)"
   ]
  },
  {
   "cell_type": "markdown",
   "id": "c9c77bfb",
   "metadata": {
    "papermill": {
     "duration": 0.046061,
     "end_time": "2023-05-11T20:18:15.935730",
     "exception": false,
     "start_time": "2023-05-11T20:18:15.889669",
     "status": "completed"
    },
    "tags": []
   },
   "source": [
    "### Convert categorical features to numerical"
   ]
  },
  {
   "cell_type": "code",
   "execution_count": 48,
   "id": "f263a8df",
   "metadata": {
    "execution": {
     "iopub.execute_input": "2023-05-11T20:18:16.031755Z",
     "iopub.status.busy": "2023-05-11T20:18:16.031292Z",
     "iopub.status.idle": "2023-05-11T20:18:16.059821Z",
     "shell.execute_reply": "2023-05-11T20:18:16.058694Z"
    },
    "papermill": {
     "duration": 0.079643,
     "end_time": "2023-05-11T20:18:16.062456",
     "exception": false,
     "start_time": "2023-05-11T20:18:15.982813",
     "status": "completed"
    },
    "tags": []
   },
   "outputs": [
    {
     "data": {
      "text/html": [
       "<div>\n",
       "<style scoped>\n",
       "    .dataframe tbody tr th:only-of-type {\n",
       "        vertical-align: middle;\n",
       "    }\n",
       "\n",
       "    .dataframe tbody tr th {\n",
       "        vertical-align: top;\n",
       "    }\n",
       "\n",
       "    .dataframe thead th {\n",
       "        text-align: right;\n",
       "    }\n",
       "</style>\n",
       "<table border=\"1\" class=\"dataframe\">\n",
       "  <thead>\n",
       "    <tr style=\"text-align: right;\">\n",
       "      <th></th>\n",
       "      <th>BusinessTravel_Travel_Frequently</th>\n",
       "      <th>BusinessTravel_Travel_Rarely</th>\n",
       "      <th>Department_Research &amp; Development</th>\n",
       "      <th>Department_Sales</th>\n",
       "      <th>EducationField_Life Sciences</th>\n",
       "      <th>EducationField_Marketing</th>\n",
       "      <th>EducationField_Medical</th>\n",
       "      <th>EducationField_Other</th>\n",
       "      <th>EducationField_Technical Degree</th>\n",
       "      <th>Gender_Male</th>\n",
       "      <th>...</th>\n",
       "      <th>JobRole_Laboratory Technician</th>\n",
       "      <th>JobRole_Manager</th>\n",
       "      <th>JobRole_Manufacturing Director</th>\n",
       "      <th>JobRole_Research Director</th>\n",
       "      <th>JobRole_Research Scientist</th>\n",
       "      <th>JobRole_Sales Executive</th>\n",
       "      <th>JobRole_Sales Representative</th>\n",
       "      <th>MaritalStatus_Married</th>\n",
       "      <th>MaritalStatus_Single</th>\n",
       "      <th>OverTime_Yes</th>\n",
       "    </tr>\n",
       "  </thead>\n",
       "  <tbody>\n",
       "    <tr>\n",
       "      <th>0</th>\n",
       "      <td>0</td>\n",
       "      <td>1</td>\n",
       "      <td>0</td>\n",
       "      <td>1</td>\n",
       "      <td>1</td>\n",
       "      <td>0</td>\n",
       "      <td>0</td>\n",
       "      <td>0</td>\n",
       "      <td>0</td>\n",
       "      <td>0</td>\n",
       "      <td>...</td>\n",
       "      <td>0</td>\n",
       "      <td>0</td>\n",
       "      <td>0</td>\n",
       "      <td>0</td>\n",
       "      <td>0</td>\n",
       "      <td>1</td>\n",
       "      <td>0</td>\n",
       "      <td>0</td>\n",
       "      <td>1</td>\n",
       "      <td>1</td>\n",
       "    </tr>\n",
       "    <tr>\n",
       "      <th>1</th>\n",
       "      <td>1</td>\n",
       "      <td>0</td>\n",
       "      <td>1</td>\n",
       "      <td>0</td>\n",
       "      <td>1</td>\n",
       "      <td>0</td>\n",
       "      <td>0</td>\n",
       "      <td>0</td>\n",
       "      <td>0</td>\n",
       "      <td>1</td>\n",
       "      <td>...</td>\n",
       "      <td>0</td>\n",
       "      <td>0</td>\n",
       "      <td>0</td>\n",
       "      <td>0</td>\n",
       "      <td>1</td>\n",
       "      <td>0</td>\n",
       "      <td>0</td>\n",
       "      <td>1</td>\n",
       "      <td>0</td>\n",
       "      <td>0</td>\n",
       "    </tr>\n",
       "    <tr>\n",
       "      <th>2</th>\n",
       "      <td>0</td>\n",
       "      <td>1</td>\n",
       "      <td>1</td>\n",
       "      <td>0</td>\n",
       "      <td>0</td>\n",
       "      <td>0</td>\n",
       "      <td>0</td>\n",
       "      <td>1</td>\n",
       "      <td>0</td>\n",
       "      <td>1</td>\n",
       "      <td>...</td>\n",
       "      <td>1</td>\n",
       "      <td>0</td>\n",
       "      <td>0</td>\n",
       "      <td>0</td>\n",
       "      <td>0</td>\n",
       "      <td>0</td>\n",
       "      <td>0</td>\n",
       "      <td>0</td>\n",
       "      <td>1</td>\n",
       "      <td>1</td>\n",
       "    </tr>\n",
       "    <tr>\n",
       "      <th>3</th>\n",
       "      <td>1</td>\n",
       "      <td>0</td>\n",
       "      <td>1</td>\n",
       "      <td>0</td>\n",
       "      <td>1</td>\n",
       "      <td>0</td>\n",
       "      <td>0</td>\n",
       "      <td>0</td>\n",
       "      <td>0</td>\n",
       "      <td>0</td>\n",
       "      <td>...</td>\n",
       "      <td>0</td>\n",
       "      <td>0</td>\n",
       "      <td>0</td>\n",
       "      <td>0</td>\n",
       "      <td>1</td>\n",
       "      <td>0</td>\n",
       "      <td>0</td>\n",
       "      <td>1</td>\n",
       "      <td>0</td>\n",
       "      <td>1</td>\n",
       "    </tr>\n",
       "    <tr>\n",
       "      <th>4</th>\n",
       "      <td>0</td>\n",
       "      <td>1</td>\n",
       "      <td>1</td>\n",
       "      <td>0</td>\n",
       "      <td>0</td>\n",
       "      <td>0</td>\n",
       "      <td>1</td>\n",
       "      <td>0</td>\n",
       "      <td>0</td>\n",
       "      <td>1</td>\n",
       "      <td>...</td>\n",
       "      <td>1</td>\n",
       "      <td>0</td>\n",
       "      <td>0</td>\n",
       "      <td>0</td>\n",
       "      <td>0</td>\n",
       "      <td>0</td>\n",
       "      <td>0</td>\n",
       "      <td>1</td>\n",
       "      <td>0</td>\n",
       "      <td>0</td>\n",
       "    </tr>\n",
       "  </tbody>\n",
       "</table>\n",
       "<p>5 rows × 21 columns</p>\n",
       "</div>"
      ],
      "text/plain": [
       "   BusinessTravel_Travel_Frequently  BusinessTravel_Travel_Rarely  \\\n",
       "0                                 0                             1   \n",
       "1                                 1                             0   \n",
       "2                                 0                             1   \n",
       "3                                 1                             0   \n",
       "4                                 0                             1   \n",
       "\n",
       "   Department_Research & Development  Department_Sales  \\\n",
       "0                                  0                 1   \n",
       "1                                  1                 0   \n",
       "2                                  1                 0   \n",
       "3                                  1                 0   \n",
       "4                                  1                 0   \n",
       "\n",
       "   EducationField_Life Sciences  EducationField_Marketing  \\\n",
       "0                             1                         0   \n",
       "1                             1                         0   \n",
       "2                             0                         0   \n",
       "3                             1                         0   \n",
       "4                             0                         0   \n",
       "\n",
       "   EducationField_Medical  EducationField_Other  \\\n",
       "0                       0                     0   \n",
       "1                       0                     0   \n",
       "2                       0                     1   \n",
       "3                       0                     0   \n",
       "4                       1                     0   \n",
       "\n",
       "   EducationField_Technical Degree  Gender_Male  ...  \\\n",
       "0                                0            0  ...   \n",
       "1                                0            1  ...   \n",
       "2                                0            1  ...   \n",
       "3                                0            0  ...   \n",
       "4                                0            1  ...   \n",
       "\n",
       "   JobRole_Laboratory Technician  JobRole_Manager  \\\n",
       "0                              0                0   \n",
       "1                              0                0   \n",
       "2                              1                0   \n",
       "3                              0                0   \n",
       "4                              1                0   \n",
       "\n",
       "   JobRole_Manufacturing Director  JobRole_Research Director  \\\n",
       "0                               0                          0   \n",
       "1                               0                          0   \n",
       "2                               0                          0   \n",
       "3                               0                          0   \n",
       "4                               0                          0   \n",
       "\n",
       "   JobRole_Research Scientist  JobRole_Sales Executive  \\\n",
       "0                           0                        1   \n",
       "1                           1                        0   \n",
       "2                           0                        0   \n",
       "3                           1                        0   \n",
       "4                           0                        0   \n",
       "\n",
       "   JobRole_Sales Representative  MaritalStatus_Married  MaritalStatus_Single  \\\n",
       "0                             0                      0                     1   \n",
       "1                             0                      1                     0   \n",
       "2                             0                      0                     1   \n",
       "3                             0                      1                     0   \n",
       "4                             0                      1                     0   \n",
       "\n",
       "   OverTime_Yes  \n",
       "0             1  \n",
       "1             0  \n",
       "2             1  \n",
       "3             1  \n",
       "4             0  \n",
       "\n",
       "[5 rows x 21 columns]"
      ]
     },
     "execution_count": 48,
     "metadata": {},
     "output_type": "execute_result"
    }
   ],
   "source": [
    "cat_numerical = pd.get_dummies(categorical,drop_first=True)\n",
    "cat_numerical.head()"
   ]
  },
  {
   "cell_type": "markdown",
   "id": "ca63ed66",
   "metadata": {
    "papermill": {
     "duration": 0.046897,
     "end_time": "2023-05-11T20:18:16.157735",
     "exception": false,
     "start_time": "2023-05-11T20:18:16.110838",
     "status": "completed"
    },
    "tags": []
   },
   "source": [
    "### Concat categorical and numerical features"
   ]
  },
  {
   "cell_type": "code",
   "execution_count": 49,
   "id": "de2a2927",
   "metadata": {
    "execution": {
     "iopub.execute_input": "2023-05-11T20:18:16.253535Z",
     "iopub.status.busy": "2023-05-11T20:18:16.252688Z",
     "iopub.status.idle": "2023-05-11T20:18:16.274595Z",
     "shell.execute_reply": "2023-05-11T20:18:16.273426Z"
    },
    "papermill": {
     "duration": 0.072322,
     "end_time": "2023-05-11T20:18:16.277132",
     "exception": false,
     "start_time": "2023-05-11T20:18:16.204810",
     "status": "completed"
    },
    "tags": []
   },
   "outputs": [
    {
     "data": {
      "text/html": [
       "<div>\n",
       "<style scoped>\n",
       "    .dataframe tbody tr th:only-of-type {\n",
       "        vertical-align: middle;\n",
       "    }\n",
       "\n",
       "    .dataframe tbody tr th {\n",
       "        vertical-align: top;\n",
       "    }\n",
       "\n",
       "    .dataframe thead th {\n",
       "        text-align: right;\n",
       "    }\n",
       "</style>\n",
       "<table border=\"1\" class=\"dataframe\">\n",
       "  <thead>\n",
       "    <tr style=\"text-align: right;\">\n",
       "      <th></th>\n",
       "      <th>index</th>\n",
       "      <th>Age</th>\n",
       "      <th>DailyRate</th>\n",
       "      <th>DistanceFromHome</th>\n",
       "      <th>Education</th>\n",
       "      <th>EmployeeNumber</th>\n",
       "      <th>EnvironmentSatisfaction</th>\n",
       "      <th>HourlyRate</th>\n",
       "      <th>JobInvolvement</th>\n",
       "      <th>JobLevel</th>\n",
       "      <th>...</th>\n",
       "      <th>JobRole_Laboratory Technician</th>\n",
       "      <th>JobRole_Manager</th>\n",
       "      <th>JobRole_Manufacturing Director</th>\n",
       "      <th>JobRole_Research Director</th>\n",
       "      <th>JobRole_Research Scientist</th>\n",
       "      <th>JobRole_Sales Executive</th>\n",
       "      <th>JobRole_Sales Representative</th>\n",
       "      <th>MaritalStatus_Married</th>\n",
       "      <th>MaritalStatus_Single</th>\n",
       "      <th>OverTime_Yes</th>\n",
       "    </tr>\n",
       "  </thead>\n",
       "  <tbody>\n",
       "    <tr>\n",
       "      <th>0</th>\n",
       "      <td>0</td>\n",
       "      <td>41</td>\n",
       "      <td>1102</td>\n",
       "      <td>1</td>\n",
       "      <td>2</td>\n",
       "      <td>1</td>\n",
       "      <td>2</td>\n",
       "      <td>94</td>\n",
       "      <td>3</td>\n",
       "      <td>2</td>\n",
       "      <td>...</td>\n",
       "      <td>0</td>\n",
       "      <td>0</td>\n",
       "      <td>0</td>\n",
       "      <td>0</td>\n",
       "      <td>0</td>\n",
       "      <td>1</td>\n",
       "      <td>0</td>\n",
       "      <td>0</td>\n",
       "      <td>1</td>\n",
       "      <td>1</td>\n",
       "    </tr>\n",
       "    <tr>\n",
       "      <th>1</th>\n",
       "      <td>1</td>\n",
       "      <td>49</td>\n",
       "      <td>279</td>\n",
       "      <td>8</td>\n",
       "      <td>1</td>\n",
       "      <td>2</td>\n",
       "      <td>3</td>\n",
       "      <td>61</td>\n",
       "      <td>2</td>\n",
       "      <td>2</td>\n",
       "      <td>...</td>\n",
       "      <td>0</td>\n",
       "      <td>0</td>\n",
       "      <td>0</td>\n",
       "      <td>0</td>\n",
       "      <td>1</td>\n",
       "      <td>0</td>\n",
       "      <td>0</td>\n",
       "      <td>1</td>\n",
       "      <td>0</td>\n",
       "      <td>0</td>\n",
       "    </tr>\n",
       "    <tr>\n",
       "      <th>2</th>\n",
       "      <td>2</td>\n",
       "      <td>37</td>\n",
       "      <td>1373</td>\n",
       "      <td>2</td>\n",
       "      <td>2</td>\n",
       "      <td>4</td>\n",
       "      <td>4</td>\n",
       "      <td>92</td>\n",
       "      <td>2</td>\n",
       "      <td>1</td>\n",
       "      <td>...</td>\n",
       "      <td>1</td>\n",
       "      <td>0</td>\n",
       "      <td>0</td>\n",
       "      <td>0</td>\n",
       "      <td>0</td>\n",
       "      <td>0</td>\n",
       "      <td>0</td>\n",
       "      <td>0</td>\n",
       "      <td>1</td>\n",
       "      <td>1</td>\n",
       "    </tr>\n",
       "    <tr>\n",
       "      <th>3</th>\n",
       "      <td>3</td>\n",
       "      <td>33</td>\n",
       "      <td>1392</td>\n",
       "      <td>3</td>\n",
       "      <td>4</td>\n",
       "      <td>5</td>\n",
       "      <td>4</td>\n",
       "      <td>56</td>\n",
       "      <td>3</td>\n",
       "      <td>1</td>\n",
       "      <td>...</td>\n",
       "      <td>0</td>\n",
       "      <td>0</td>\n",
       "      <td>0</td>\n",
       "      <td>0</td>\n",
       "      <td>1</td>\n",
       "      <td>0</td>\n",
       "      <td>0</td>\n",
       "      <td>1</td>\n",
       "      <td>0</td>\n",
       "      <td>1</td>\n",
       "    </tr>\n",
       "    <tr>\n",
       "      <th>4</th>\n",
       "      <td>4</td>\n",
       "      <td>27</td>\n",
       "      <td>591</td>\n",
       "      <td>2</td>\n",
       "      <td>1</td>\n",
       "      <td>7</td>\n",
       "      <td>1</td>\n",
       "      <td>40</td>\n",
       "      <td>3</td>\n",
       "      <td>1</td>\n",
       "      <td>...</td>\n",
       "      <td>1</td>\n",
       "      <td>0</td>\n",
       "      <td>0</td>\n",
       "      <td>0</td>\n",
       "      <td>0</td>\n",
       "      <td>0</td>\n",
       "      <td>0</td>\n",
       "      <td>1</td>\n",
       "      <td>0</td>\n",
       "      <td>0</td>\n",
       "    </tr>\n",
       "  </tbody>\n",
       "</table>\n",
       "<p>5 rows × 46 columns</p>\n",
       "</div>"
      ],
      "text/plain": [
       "   index  Age  DailyRate  DistanceFromHome  Education  EmployeeNumber  \\\n",
       "0      0   41       1102                 1          2               1   \n",
       "1      1   49        279                 8          1               2   \n",
       "2      2   37       1373                 2          2               4   \n",
       "3      3   33       1392                 3          4               5   \n",
       "4      4   27        591                 2          1               7   \n",
       "\n",
       "   EnvironmentSatisfaction  HourlyRate  JobInvolvement  JobLevel  ...  \\\n",
       "0                        2          94               3         2  ...   \n",
       "1                        3          61               2         2  ...   \n",
       "2                        4          92               2         1  ...   \n",
       "3                        4          56               3         1  ...   \n",
       "4                        1          40               3         1  ...   \n",
       "\n",
       "   JobRole_Laboratory Technician  JobRole_Manager  \\\n",
       "0                              0                0   \n",
       "1                              0                0   \n",
       "2                              1                0   \n",
       "3                              0                0   \n",
       "4                              1                0   \n",
       "\n",
       "   JobRole_Manufacturing Director  JobRole_Research Director  \\\n",
       "0                               0                          0   \n",
       "1                               0                          0   \n",
       "2                               0                          0   \n",
       "3                               0                          0   \n",
       "4                               0                          0   \n",
       "\n",
       "   JobRole_Research Scientist  JobRole_Sales Executive  \\\n",
       "0                           0                        1   \n",
       "1                           1                        0   \n",
       "2                           0                        0   \n",
       "3                           1                        0   \n",
       "4                           0                        0   \n",
       "\n",
       "   JobRole_Sales Representative  MaritalStatus_Married  MaritalStatus_Single  \\\n",
       "0                             0                      0                     1   \n",
       "1                             0                      1                     0   \n",
       "2                             0                      0                     1   \n",
       "3                             0                      1                     0   \n",
       "4                             0                      1                     0   \n",
       "\n",
       "   OverTime_Yes  \n",
       "0             1  \n",
       "1             0  \n",
       "2             1  \n",
       "3             1  \n",
       "4             0  \n",
       "\n",
       "[5 rows x 46 columns]"
      ]
     },
     "execution_count": 49,
     "metadata": {},
     "output_type": "execute_result"
    }
   ],
   "source": [
    "features = pd.concat([numerical, cat_numerical], axis = 1)\n",
    "features.head()"
   ]
  },
  {
   "cell_type": "code",
   "execution_count": 50,
   "id": "8cbcba84",
   "metadata": {
    "execution": {
     "iopub.execute_input": "2023-05-11T20:18:16.373003Z",
     "iopub.status.busy": "2023-05-11T20:18:16.372219Z",
     "iopub.status.idle": "2023-05-11T20:18:16.384790Z",
     "shell.execute_reply": "2023-05-11T20:18:16.383537Z"
    },
    "papermill": {
     "duration": 0.063658,
     "end_time": "2023-05-11T20:18:16.387293",
     "exception": false,
     "start_time": "2023-05-11T20:18:16.323635",
     "status": "completed"
    },
    "tags": []
   },
   "outputs": [
    {
     "data": {
      "text/html": [
       "<div>\n",
       "<style scoped>\n",
       "    .dataframe tbody tr th:only-of-type {\n",
       "        vertical-align: middle;\n",
       "    }\n",
       "\n",
       "    .dataframe tbody tr th {\n",
       "        vertical-align: top;\n",
       "    }\n",
       "\n",
       "    .dataframe thead th {\n",
       "        text-align: right;\n",
       "    }\n",
       "</style>\n",
       "<table border=\"1\" class=\"dataframe\">\n",
       "  <thead>\n",
       "    <tr style=\"text-align: right;\">\n",
       "      <th></th>\n",
       "      <th>Attrition</th>\n",
       "      <th>train_test</th>\n",
       "    </tr>\n",
       "  </thead>\n",
       "  <tbody>\n",
       "    <tr>\n",
       "      <th>0</th>\n",
       "      <td>1.0</td>\n",
       "      <td>1</td>\n",
       "    </tr>\n",
       "    <tr>\n",
       "      <th>1</th>\n",
       "      <td>0.0</td>\n",
       "      <td>1</td>\n",
       "    </tr>\n",
       "    <tr>\n",
       "      <th>2</th>\n",
       "      <td>1.0</td>\n",
       "      <td>1</td>\n",
       "    </tr>\n",
       "    <tr>\n",
       "      <th>3</th>\n",
       "      <td>0.0</td>\n",
       "      <td>1</td>\n",
       "    </tr>\n",
       "    <tr>\n",
       "      <th>4</th>\n",
       "      <td>0.0</td>\n",
       "      <td>1</td>\n",
       "    </tr>\n",
       "  </tbody>\n",
       "</table>\n",
       "</div>"
      ],
      "text/plain": [
       "   Attrition  train_test\n",
       "0        1.0           1\n",
       "1        0.0           1\n",
       "2        1.0           1\n",
       "3        0.0           1\n",
       "4        0.0           1"
      ]
     },
     "execution_count": 50,
     "metadata": {},
     "output_type": "execute_result"
    }
   ],
   "source": [
    "labels.head()"
   ]
  },
  {
   "cell_type": "markdown",
   "id": "0153d6e5",
   "metadata": {
    "papermill": {
     "duration": 0.048419,
     "end_time": "2023-05-11T20:18:16.484983",
     "exception": false,
     "start_time": "2023-05-11T20:18:16.436564",
     "status": "completed"
    },
    "tags": []
   },
   "source": [
    "### Standarize and normalize the data"
   ]
  },
  {
   "cell_type": "markdown",
   "id": "0c7576fb",
   "metadata": {
    "papermill": {
     "duration": 0.047042,
     "end_time": "2023-05-11T20:18:16.579696",
     "exception": false,
     "start_time": "2023-05-11T20:18:16.532654",
     "status": "completed"
    },
    "tags": []
   },
   "source": [
    "First we should split the data into train and test datasets then we standarize and normalize it."
   ]
  },
  {
   "cell_type": "markdown",
   "id": "da648751",
   "metadata": {
    "papermill": {
     "duration": 0.050321,
     "end_time": "2023-05-11T20:18:16.677742",
     "exception": false,
     "start_time": "2023-05-11T20:18:16.627421",
     "status": "completed"
    },
    "tags": []
   },
   "source": [
    "#### Splitting the data into Training, and Testing sets"
   ]
  },
  {
   "cell_type": "code",
   "execution_count": 51,
   "id": "15c05411",
   "metadata": {
    "execution": {
     "iopub.execute_input": "2023-05-11T20:18:16.775436Z",
     "iopub.status.busy": "2023-05-11T20:18:16.774557Z",
     "iopub.status.idle": "2023-05-11T20:18:16.786193Z",
     "shell.execute_reply": "2023-05-11T20:18:16.785267Z"
    },
    "papermill": {
     "duration": 0.062901,
     "end_time": "2023-05-11T20:18:16.788805",
     "exception": false,
     "start_time": "2023-05-11T20:18:16.725904",
     "status": "completed"
    },
    "tags": []
   },
   "outputs": [],
   "source": [
    "X_train = features[features.train_test == 1].drop(['train_test'], axis = 1)\n",
    "X_test = features[features.train_test == 0].drop(['train_test'], axis = 1)\n",
    "\n",
    "y_train = labels[labels.train_test == 1].Attrition\n",
    "y_test = labels[labels.train_test == 0].Attrition\n"
   ]
  },
  {
   "cell_type": "code",
   "execution_count": 52,
   "id": "e10f4a59",
   "metadata": {
    "execution": {
     "iopub.execute_input": "2023-05-11T20:18:16.883321Z",
     "iopub.status.busy": "2023-05-11T20:18:16.882905Z",
     "iopub.status.idle": "2023-05-11T20:18:16.889719Z",
     "shell.execute_reply": "2023-05-11T20:18:16.888444Z"
    },
    "papermill": {
     "duration": 0.057403,
     "end_time": "2023-05-11T20:18:16.892414",
     "exception": false,
     "start_time": "2023-05-11T20:18:16.835011",
     "status": "completed"
    },
    "tags": []
   },
   "outputs": [
    {
     "name": "stdout",
     "output_type": "stream",
     "text": [
      "X_train shape is (1058, 45)\n",
      "X_test shape is (412, 45)\n",
      "y_train shape is (1058,)\n"
     ]
    }
   ],
   "source": [
    "print(f'X_train shape is {X_train.shape}')\n",
    "print(f'X_test shape is {X_test.shape}')\n",
    "print(f'y_train shape is {y_train.shape}')"
   ]
  },
  {
   "cell_type": "markdown",
   "id": "a6eb595b",
   "metadata": {
    "papermill": {
     "duration": 0.046549,
     "end_time": "2023-05-11T20:18:16.987777",
     "exception": false,
     "start_time": "2023-05-11T20:18:16.941228",
     "status": "completed"
    },
    "tags": []
   },
   "source": [
    "#### Standarize data using StandardScalar and then Normalize it"
   ]
  },
  {
   "cell_type": "code",
   "execution_count": 53,
   "id": "be3aa77b",
   "metadata": {
    "execution": {
     "iopub.execute_input": "2023-05-11T20:18:17.085574Z",
     "iopub.status.busy": "2023-05-11T20:18:17.084822Z",
     "iopub.status.idle": "2023-05-11T20:18:17.100787Z",
     "shell.execute_reply": "2023-05-11T20:18:17.099816Z"
    },
    "papermill": {
     "duration": 0.06889,
     "end_time": "2023-05-11T20:18:17.103410",
     "exception": false,
     "start_time": "2023-05-11T20:18:17.034520",
     "status": "completed"
    },
    "tags": []
   },
   "outputs": [],
   "source": [
    "# Standardize data\n",
    "scaler = StandardScaler() \n",
    "X_train = scaler.fit_transform(X_train)\n",
    "X_test = scaler.transform(X_test)\n",
    "  \n",
    "# Normalizing the Data\n",
    "X_train = normalize(X_train)\n",
    "X_test = normalize(X_test)"
   ]
  },
  {
   "cell_type": "code",
   "execution_count": 54,
   "id": "07b3fe15",
   "metadata": {
    "execution": {
     "iopub.execute_input": "2023-05-11T20:18:17.199472Z",
     "iopub.status.busy": "2023-05-11T20:18:17.198257Z",
     "iopub.status.idle": "2023-05-11T20:18:17.226221Z",
     "shell.execute_reply": "2023-05-11T20:18:17.225052Z"
    },
    "papermill": {
     "duration": 0.078986,
     "end_time": "2023-05-11T20:18:17.228988",
     "exception": false,
     "start_time": "2023-05-11T20:18:17.150002",
     "status": "completed"
    },
    "tags": []
   },
   "outputs": [
    {
     "data": {
      "text/html": [
       "<div>\n",
       "<style scoped>\n",
       "    .dataframe tbody tr th:only-of-type {\n",
       "        vertical-align: middle;\n",
       "    }\n",
       "\n",
       "    .dataframe tbody tr th {\n",
       "        vertical-align: top;\n",
       "    }\n",
       "\n",
       "    .dataframe thead th {\n",
       "        text-align: right;\n",
       "    }\n",
       "</style>\n",
       "<table border=\"1\" class=\"dataframe\">\n",
       "  <thead>\n",
       "    <tr style=\"text-align: right;\">\n",
       "      <th></th>\n",
       "      <th>0</th>\n",
       "      <th>1</th>\n",
       "      <th>2</th>\n",
       "      <th>3</th>\n",
       "      <th>4</th>\n",
       "      <th>5</th>\n",
       "      <th>6</th>\n",
       "      <th>7</th>\n",
       "      <th>8</th>\n",
       "      <th>9</th>\n",
       "      <th>...</th>\n",
       "      <th>35</th>\n",
       "      <th>36</th>\n",
       "      <th>37</th>\n",
       "      <th>38</th>\n",
       "      <th>39</th>\n",
       "      <th>40</th>\n",
       "      <th>41</th>\n",
       "      <th>42</th>\n",
       "      <th>43</th>\n",
       "      <th>44</th>\n",
       "    </tr>\n",
       "  </thead>\n",
       "  <tbody>\n",
       "    <tr>\n",
       "      <th>0</th>\n",
       "      <td>-0.243185</td>\n",
       "      <td>0.058931</td>\n",
       "      <td>0.100667</td>\n",
       "      <td>-0.139512</td>\n",
       "      <td>-0.119824</td>\n",
       "      <td>-0.238157</td>\n",
       "      <td>-0.091680</td>\n",
       "      <td>0.196161</td>\n",
       "      <td>0.052424</td>\n",
       "      <td>-0.011225</td>\n",
       "      <td>...</td>\n",
       "      <td>-0.065329</td>\n",
       "      <td>-0.039922</td>\n",
       "      <td>-0.047140</td>\n",
       "      <td>-0.035063</td>\n",
       "      <td>-0.070765</td>\n",
       "      <td>0.265175</td>\n",
       "      <td>-0.033845</td>\n",
       "      <td>-0.124209</td>\n",
       "      <td>0.199029</td>\n",
       "      <td>0.219804</td>\n",
       "    </tr>\n",
       "    <tr>\n",
       "      <th>1</th>\n",
       "      <td>-0.249965</td>\n",
       "      <td>0.183783</td>\n",
       "      <td>-0.188065</td>\n",
       "      <td>-0.017617</td>\n",
       "      <td>-0.263781</td>\n",
       "      <td>-0.244926</td>\n",
       "      <td>0.038066</td>\n",
       "      <td>-0.033082</td>\n",
       "      <td>-0.151476</td>\n",
       "      <td>-0.011560</td>\n",
       "      <td>...</td>\n",
       "      <td>-0.067278</td>\n",
       "      <td>-0.041113</td>\n",
       "      <td>-0.048546</td>\n",
       "      <td>-0.036109</td>\n",
       "      <td>0.287420</td>\n",
       "      <td>-0.076702</td>\n",
       "      <td>-0.034855</td>\n",
       "      <td>0.163752</td>\n",
       "      <td>-0.102193</td>\n",
       "      <td>-0.092534</td>\n",
       "    </tr>\n",
       "    <tr>\n",
       "      <th>2</th>\n",
       "      <td>-0.229044</td>\n",
       "      <td>-0.000788</td>\n",
       "      <td>0.183364</td>\n",
       "      <td>-0.115366</td>\n",
       "      <td>-0.113285</td>\n",
       "      <td>-0.224236</td>\n",
       "      <td>0.156570</td>\n",
       "      <td>0.172376</td>\n",
       "      <td>-0.139061</td>\n",
       "      <td>-0.127575</td>\n",
       "      <td>...</td>\n",
       "      <td>0.285822</td>\n",
       "      <td>-0.037743</td>\n",
       "      <td>-0.044567</td>\n",
       "      <td>-0.033150</td>\n",
       "      <td>-0.066904</td>\n",
       "      <td>-0.070416</td>\n",
       "      <td>-0.031998</td>\n",
       "      <td>-0.117431</td>\n",
       "      <td>0.188168</td>\n",
       "      <td>0.207810</td>\n",
       "    </tr>\n",
       "    <tr>\n",
       "      <th>3</th>\n",
       "      <td>-0.275287</td>\n",
       "      <td>-0.068989</td>\n",
       "      <td>0.228249</td>\n",
       "      <td>-0.119014</td>\n",
       "      <td>0.173967</td>\n",
       "      <td>-0.269651</td>\n",
       "      <td>0.188539</td>\n",
       "      <td>-0.075950</td>\n",
       "      <td>0.059683</td>\n",
       "      <td>-0.153624</td>\n",
       "      <td>...</td>\n",
       "      <td>-0.074375</td>\n",
       "      <td>-0.045450</td>\n",
       "      <td>-0.053667</td>\n",
       "      <td>-0.039918</td>\n",
       "      <td>0.317740</td>\n",
       "      <td>-0.084793</td>\n",
       "      <td>-0.038532</td>\n",
       "      <td>0.181026</td>\n",
       "      <td>-0.112974</td>\n",
       "      <td>0.250241</td>\n",
       "    </tr>\n",
       "    <tr>\n",
       "      <th>4</th>\n",
       "      <td>-0.267840</td>\n",
       "      <td>-0.166739</td>\n",
       "      <td>-0.083483</td>\n",
       "      <td>-0.135422</td>\n",
       "      <td>-0.284260</td>\n",
       "      <td>-0.262133</td>\n",
       "      <td>-0.244511</td>\n",
       "      <td>-0.196872</td>\n",
       "      <td>0.058179</td>\n",
       "      <td>-0.149753</td>\n",
       "      <td>...</td>\n",
       "      <td>0.335510</td>\n",
       "      <td>-0.044304</td>\n",
       "      <td>-0.052315</td>\n",
       "      <td>-0.038913</td>\n",
       "      <td>-0.078535</td>\n",
       "      <td>-0.082657</td>\n",
       "      <td>-0.037561</td>\n",
       "      <td>0.176465</td>\n",
       "      <td>-0.110127</td>\n",
       "      <td>-0.099718</td>\n",
       "    </tr>\n",
       "  </tbody>\n",
       "</table>\n",
       "<p>5 rows × 45 columns</p>\n",
       "</div>"
      ],
      "text/plain": [
       "         0         1         2         3         4         5         6   \\\n",
       "0 -0.243185  0.058931  0.100667 -0.139512 -0.119824 -0.238157 -0.091680   \n",
       "1 -0.249965  0.183783 -0.188065 -0.017617 -0.263781 -0.244926  0.038066   \n",
       "2 -0.229044 -0.000788  0.183364 -0.115366 -0.113285 -0.224236  0.156570   \n",
       "3 -0.275287 -0.068989  0.228249 -0.119014  0.173967 -0.269651  0.188539   \n",
       "4 -0.267840 -0.166739 -0.083483 -0.135422 -0.284260 -0.262133 -0.244511   \n",
       "\n",
       "         7         8         9   ...        35        36        37        38  \\\n",
       "0  0.196161  0.052424 -0.011225  ... -0.065329 -0.039922 -0.047140 -0.035063   \n",
       "1 -0.033082 -0.151476 -0.011560  ... -0.067278 -0.041113 -0.048546 -0.036109   \n",
       "2  0.172376 -0.139061 -0.127575  ...  0.285822 -0.037743 -0.044567 -0.033150   \n",
       "3 -0.075950  0.059683 -0.153624  ... -0.074375 -0.045450 -0.053667 -0.039918   \n",
       "4 -0.196872  0.058179 -0.149753  ...  0.335510 -0.044304 -0.052315 -0.038913   \n",
       "\n",
       "         39        40        41        42        43        44  \n",
       "0 -0.070765  0.265175 -0.033845 -0.124209  0.199029  0.219804  \n",
       "1  0.287420 -0.076702 -0.034855  0.163752 -0.102193 -0.092534  \n",
       "2 -0.066904 -0.070416 -0.031998 -0.117431  0.188168  0.207810  \n",
       "3  0.317740 -0.084793 -0.038532  0.181026 -0.112974  0.250241  \n",
       "4 -0.078535 -0.082657 -0.037561  0.176465 -0.110127 -0.099718  \n",
       "\n",
       "[5 rows x 45 columns]"
      ]
     },
     "execution_count": 54,
     "metadata": {},
     "output_type": "execute_result"
    }
   ],
   "source": [
    "X_train = pd.DataFrame(X_train)\n",
    "X_train = X_train.reset_index(drop=True)\n",
    "X_train.head()"
   ]
  },
  {
   "cell_type": "code",
   "execution_count": 55,
   "id": "dbca8e88",
   "metadata": {
    "execution": {
     "iopub.execute_input": "2023-05-11T20:18:17.327471Z",
     "iopub.status.busy": "2023-05-11T20:18:17.327078Z",
     "iopub.status.idle": "2023-05-11T20:18:17.354645Z",
     "shell.execute_reply": "2023-05-11T20:18:17.353487Z"
    },
    "papermill": {
     "duration": 0.07999,
     "end_time": "2023-05-11T20:18:17.357363",
     "exception": false,
     "start_time": "2023-05-11T20:18:17.277373",
     "status": "completed"
    },
    "tags": []
   },
   "outputs": [
    {
     "data": {
      "text/html": [
       "<div>\n",
       "<style scoped>\n",
       "    .dataframe tbody tr th:only-of-type {\n",
       "        vertical-align: middle;\n",
       "    }\n",
       "\n",
       "    .dataframe tbody tr th {\n",
       "        vertical-align: top;\n",
       "    }\n",
       "\n",
       "    .dataframe thead th {\n",
       "        text-align: right;\n",
       "    }\n",
       "</style>\n",
       "<table border=\"1\" class=\"dataframe\">\n",
       "  <thead>\n",
       "    <tr style=\"text-align: right;\">\n",
       "      <th></th>\n",
       "      <th>0</th>\n",
       "      <th>1</th>\n",
       "      <th>2</th>\n",
       "      <th>3</th>\n",
       "      <th>4</th>\n",
       "      <th>5</th>\n",
       "      <th>6</th>\n",
       "      <th>7</th>\n",
       "      <th>8</th>\n",
       "      <th>9</th>\n",
       "      <th>...</th>\n",
       "      <th>35</th>\n",
       "      <th>36</th>\n",
       "      <th>37</th>\n",
       "      <th>38</th>\n",
       "      <th>39</th>\n",
       "      <th>40</th>\n",
       "      <th>41</th>\n",
       "      <th>42</th>\n",
       "      <th>43</th>\n",
       "      <th>44</th>\n",
       "    </tr>\n",
       "  </thead>\n",
       "  <tbody>\n",
       "    <tr>\n",
       "      <th>0</th>\n",
       "      <td>-0.217037</td>\n",
       "      <td>-0.040747</td>\n",
       "      <td>-0.006003</td>\n",
       "      <td>0.234433</td>\n",
       "      <td>0.136377</td>\n",
       "      <td>0.220256</td>\n",
       "      <td>-0.196633</td>\n",
       "      <td>-0.158322</td>\n",
       "      <td>-0.131273</td>\n",
       "      <td>-0.010018</td>\n",
       "      <td>...</td>\n",
       "      <td>-0.058304</td>\n",
       "      <td>-0.035629</td>\n",
       "      <td>-0.042071</td>\n",
       "      <td>-0.031293</td>\n",
       "      <td>-0.063157</td>\n",
       "      <td>0.236662</td>\n",
       "      <td>-0.030206</td>\n",
       "      <td>-0.110853</td>\n",
       "      <td>0.177629</td>\n",
       "      <td>0.196170</td>\n",
       "    </tr>\n",
       "    <tr>\n",
       "      <th>1</th>\n",
       "      <td>-0.241911</td>\n",
       "      <td>-0.030612</td>\n",
       "      <td>-0.051302</td>\n",
       "      <td>-0.034477</td>\n",
       "      <td>-0.255282</td>\n",
       "      <td>0.246939</td>\n",
       "      <td>0.165052</td>\n",
       "      <td>0.071402</td>\n",
       "      <td>0.052248</td>\n",
       "      <td>-0.134487</td>\n",
       "      <td>...</td>\n",
       "      <td>-0.065110</td>\n",
       "      <td>-0.039788</td>\n",
       "      <td>-0.046982</td>\n",
       "      <td>-0.034946</td>\n",
       "      <td>-0.070528</td>\n",
       "      <td>-0.074231</td>\n",
       "      <td>0.581587</td>\n",
       "      <td>0.158476</td>\n",
       "      <td>-0.098900</td>\n",
       "      <td>-0.089553</td>\n",
       "    </tr>\n",
       "    <tr>\n",
       "      <th>2</th>\n",
       "      <td>-0.255014</td>\n",
       "      <td>-0.205333</td>\n",
       "      <td>-0.155271</td>\n",
       "      <td>0.000400</td>\n",
       "      <td>0.017360</td>\n",
       "      <td>0.261495</td>\n",
       "      <td>-0.096505</td>\n",
       "      <td>0.170076</td>\n",
       "      <td>0.055183</td>\n",
       "      <td>-0.142040</td>\n",
       "      <td>...</td>\n",
       "      <td>0.318230</td>\n",
       "      <td>-0.042023</td>\n",
       "      <td>-0.049621</td>\n",
       "      <td>-0.036909</td>\n",
       "      <td>-0.074490</td>\n",
       "      <td>-0.078400</td>\n",
       "      <td>-0.035627</td>\n",
       "      <td>-0.130745</td>\n",
       "      <td>0.209504</td>\n",
       "      <td>0.231372</td>\n",
       "    </tr>\n",
       "    <tr>\n",
       "      <th>3</th>\n",
       "      <td>-0.237484</td>\n",
       "      <td>-0.191582</td>\n",
       "      <td>0.006916</td>\n",
       "      <td>0.069070</td>\n",
       "      <td>-0.117683</td>\n",
       "      <td>0.244303</td>\n",
       "      <td>0.162648</td>\n",
       "      <td>0.083951</td>\n",
       "      <td>0.051487</td>\n",
       "      <td>-0.132528</td>\n",
       "      <td>...</td>\n",
       "      <td>-0.064162</td>\n",
       "      <td>-0.039208</td>\n",
       "      <td>-0.046298</td>\n",
       "      <td>-0.034437</td>\n",
       "      <td>-0.069501</td>\n",
       "      <td>-0.073149</td>\n",
       "      <td>0.573116</td>\n",
       "      <td>0.156168</td>\n",
       "      <td>-0.097460</td>\n",
       "      <td>-0.088248</td>\n",
       "    </tr>\n",
       "    <tr>\n",
       "      <th>4</th>\n",
       "      <td>-0.251027</td>\n",
       "      <td>0.107917</td>\n",
       "      <td>0.137285</td>\n",
       "      <td>-0.126921</td>\n",
       "      <td>-0.266416</td>\n",
       "      <td>0.259065</td>\n",
       "      <td>-0.095358</td>\n",
       "      <td>0.146469</td>\n",
       "      <td>0.054527</td>\n",
       "      <td>0.117001</td>\n",
       "      <td>...</td>\n",
       "      <td>-0.067950</td>\n",
       "      <td>-0.041523</td>\n",
       "      <td>0.435780</td>\n",
       "      <td>-0.036470</td>\n",
       "      <td>-0.073605</td>\n",
       "      <td>-0.077468</td>\n",
       "      <td>-0.035203</td>\n",
       "      <td>-0.129192</td>\n",
       "      <td>0.207014</td>\n",
       "      <td>0.228623</td>\n",
       "    </tr>\n",
       "  </tbody>\n",
       "</table>\n",
       "<p>5 rows × 45 columns</p>\n",
       "</div>"
      ],
      "text/plain": [
       "         0         1         2         3         4         5         6   \\\n",
       "0 -0.217037 -0.040747 -0.006003  0.234433  0.136377  0.220256 -0.196633   \n",
       "1 -0.241911 -0.030612 -0.051302 -0.034477 -0.255282  0.246939  0.165052   \n",
       "2 -0.255014 -0.205333 -0.155271  0.000400  0.017360  0.261495 -0.096505   \n",
       "3 -0.237484 -0.191582  0.006916  0.069070 -0.117683  0.244303  0.162648   \n",
       "4 -0.251027  0.107917  0.137285 -0.126921 -0.266416  0.259065 -0.095358   \n",
       "\n",
       "         7         8         9   ...        35        36        37        38  \\\n",
       "0 -0.158322 -0.131273 -0.010018  ... -0.058304 -0.035629 -0.042071 -0.031293   \n",
       "1  0.071402  0.052248 -0.134487  ... -0.065110 -0.039788 -0.046982 -0.034946   \n",
       "2  0.170076  0.055183 -0.142040  ...  0.318230 -0.042023 -0.049621 -0.036909   \n",
       "3  0.083951  0.051487 -0.132528  ... -0.064162 -0.039208 -0.046298 -0.034437   \n",
       "4  0.146469  0.054527  0.117001  ... -0.067950 -0.041523  0.435780 -0.036470   \n",
       "\n",
       "         39        40        41        42        43        44  \n",
       "0 -0.063157  0.236662 -0.030206 -0.110853  0.177629  0.196170  \n",
       "1 -0.070528 -0.074231  0.581587  0.158476 -0.098900 -0.089553  \n",
       "2 -0.074490 -0.078400 -0.035627 -0.130745  0.209504  0.231372  \n",
       "3 -0.069501 -0.073149  0.573116  0.156168 -0.097460 -0.088248  \n",
       "4 -0.073605 -0.077468 -0.035203 -0.129192  0.207014  0.228623  \n",
       "\n",
       "[5 rows x 45 columns]"
      ]
     },
     "execution_count": 55,
     "metadata": {},
     "output_type": "execute_result"
    }
   ],
   "source": [
    "X_test = pd.DataFrame(X_test)\n",
    "X_test = X_test.reset_index(drop=True)\n",
    "X_test.head()"
   ]
  },
  {
   "cell_type": "markdown",
   "id": "6963fc99",
   "metadata": {
    "papermill": {
     "duration": 0.047154,
     "end_time": "2023-05-11T20:18:17.451701",
     "exception": false,
     "start_time": "2023-05-11T20:18:17.404547",
     "status": "completed"
    },
    "tags": []
   },
   "source": [
    "# Model Training"
   ]
  },
  {
   "cell_type": "markdown",
   "id": "47847ff4",
   "metadata": {
    "papermill": {
     "duration": 0.047028,
     "end_time": "2023-05-11T20:18:17.546492",
     "exception": false,
     "start_time": "2023-05-11T20:18:17.499464",
     "status": "completed"
    },
    "tags": []
   },
   "source": [
    "#### Using SVM model for predicting"
   ]
  },
  {
   "cell_type": "code",
   "execution_count": 56,
   "id": "832c4d1a",
   "metadata": {
    "execution": {
     "iopub.execute_input": "2023-05-11T20:18:17.643489Z",
     "iopub.status.busy": "2023-05-11T20:18:17.643080Z",
     "iopub.status.idle": "2023-05-11T20:18:17.694004Z",
     "shell.execute_reply": "2023-05-11T20:18:17.692292Z"
    },
    "papermill": {
     "duration": 0.102843,
     "end_time": "2023-05-11T20:18:17.697026",
     "exception": false,
     "start_time": "2023-05-11T20:18:17.594183",
     "status": "completed"
    },
    "tags": []
   },
   "outputs": [
    {
     "name": "stdout",
     "output_type": "stream",
     "text": [
      "Accuracy: 0.8537735849056604\n",
      "Precision: 0.8571428571428571\n",
      "Recall: 0.16666666666666666\n",
      "F1 Score: 0.27906976744186046\n"
     ]
    }
   ],
   "source": [
    "from sklearn import svm\n",
    "from sklearn.model_selection import train_test_split\n",
    "from sklearn.metrics import accuracy_score, precision_score, recall_score, f1_score\n",
    "\n",
    "# Step 1: Prepare your data\n",
    "# Assuming you have your input features in X and corresponding labels in y\n",
    "\n",
    "# Step 2: Split data into training and testing sets\n",
    "X_train, X_test, y_train, y_test = train_test_split(X_train, y_train, test_size=0.2, random_state=42)\n",
    "\n",
    "# Step 3: Train the SVM model\n",
    "svm_model = svm.SVC(kernel='linear', C=1.0)  # Use a linear kernel and set C parameter\n",
    "svm_model.fit(X_train, y_train)\n",
    "\n",
    "# Step 4: Make predictions on the test set\n",
    "y_pred = svm_model.predict(X_test)\n",
    "\n",
    "# Step 5: Evaluate the model\n",
    "accuracy = accuracy_score(y_test, y_pred)\n",
    "precision = precision_score(y_test, y_pred)\n",
    "recall = recall_score(y_test, y_pred)\n",
    "f1 = f1_score(y_test, y_pred)\n",
    "\n",
    "# Print the evaluation metrics\n",
    "print(\"Accuracy:\", accuracy)\n",
    "print(\"Precision:\", precision)\n",
    "print(\"Recall:\", recall)\n",
    "print(\"F1 Score:\", f1)\n"
   ]
  },
  {
   "cell_type": "markdown",
   "id": "708df5ef",
   "metadata": {
    "papermill": {
     "duration": 0.04804,
     "end_time": "2023-05-11T20:18:17.795525",
     "exception": false,
     "start_time": "2023-05-11T20:18:17.747485",
     "status": "completed"
    },
    "tags": []
   },
   "source": [
    "## Test Submission"
   ]
  },
  {
   "cell_type": "code",
   "execution_count": 57,
   "id": "efaac66b",
   "metadata": {
    "execution": {
     "iopub.execute_input": "2023-05-11T20:18:17.893983Z",
     "iopub.status.busy": "2023-05-11T20:18:17.893279Z",
     "iopub.status.idle": "2023-05-11T20:18:17.908862Z",
     "shell.execute_reply": "2023-05-11T20:18:17.907549Z"
    },
    "papermill": {
     "duration": 0.067873,
     "end_time": "2023-05-11T20:18:17.911566",
     "exception": false,
     "start_time": "2023-05-11T20:18:17.843693",
     "status": "completed"
    },
    "tags": []
   },
   "outputs": [
    {
     "data": {
      "text/plain": [
       "array([1., 0., 0., 0., 0., 0., 0., 0., 0., 0., 0., 0., 0., 0., 0., 0., 0.,\n",
       "       0., 0., 0., 0., 0., 0., 0., 0., 0., 0., 0., 0., 0., 0., 0., 0., 0.,\n",
       "       0., 0., 0., 0., 0., 0., 0., 0., 1., 0., 0., 0., 0., 0., 0., 0., 0.,\n",
       "       0., 0., 0., 0., 0., 0., 0., 0., 1., 0., 0., 0., 0., 0., 0., 0., 0.,\n",
       "       0., 0., 0., 0., 0., 0., 1., 0., 0., 0., 0., 0., 0., 0., 0., 0., 0.,\n",
       "       0., 0., 0., 0., 0., 0., 0., 0., 0., 1., 0., 0., 0., 0., 0., 0., 0.,\n",
       "       0., 0., 0., 0., 0., 0., 0., 0., 0., 0., 0., 0., 0., 0., 0., 0., 0.,\n",
       "       0., 0., 0., 0., 0., 0., 0., 0., 0., 0., 0., 0., 0., 0., 0., 0., 0.,\n",
       "       0., 0., 0., 0., 0., 0., 0., 0., 0., 0., 0., 0., 0., 0., 0., 0., 0.,\n",
       "       0., 0., 0., 0., 0., 0., 0., 0., 0., 0., 0., 0., 0., 0., 0., 0., 0.,\n",
       "       0., 0., 0., 1., 0., 0., 0., 0., 0., 1., 0., 0., 0., 0., 0., 0., 0.,\n",
       "       0., 0., 0., 0., 0., 0., 0., 0., 0., 0., 0., 0., 0., 0., 0., 0., 0.,\n",
       "       0., 0., 0., 0., 0., 0., 0., 0.])"
      ]
     },
     "execution_count": 57,
     "metadata": {},
     "output_type": "execute_result"
    }
   ],
   "source": [
    "y_pred = svm_model.predict(X_test)\n",
    "y_pred"
   ]
  },
  {
   "cell_type": "code",
   "execution_count": 58,
   "id": "39e20669",
   "metadata": {
    "execution": {
     "iopub.execute_input": "2023-05-11T20:18:18.012431Z",
     "iopub.status.busy": "2023-05-11T20:18:18.011660Z",
     "iopub.status.idle": "2023-05-11T20:18:18.016698Z",
     "shell.execute_reply": "2023-05-11T20:18:18.015808Z"
    },
    "papermill": {
     "duration": 0.058642,
     "end_time": "2023-05-11T20:18:18.018969",
     "exception": false,
     "start_time": "2023-05-11T20:18:17.960327",
     "status": "completed"
    },
    "tags": []
   },
   "outputs": [],
   "source": [
    "submission = pd.DataFrame({'Attrition': y_pred})"
   ]
  },
  {
   "cell_type": "code",
   "execution_count": 59,
   "id": "a09a2f8d",
   "metadata": {
    "execution": {
     "iopub.execute_input": "2023-05-11T20:18:18.116354Z",
     "iopub.status.busy": "2023-05-11T20:18:18.115925Z",
     "iopub.status.idle": "2023-05-11T20:18:18.127707Z",
     "shell.execute_reply": "2023-05-11T20:18:18.126214Z"
    },
    "papermill": {
     "duration": 0.063116,
     "end_time": "2023-05-11T20:18:18.130130",
     "exception": false,
     "start_time": "2023-05-11T20:18:18.067014",
     "status": "completed"
    },
    "tags": []
   },
   "outputs": [
    {
     "data": {
      "text/html": [
       "<div>\n",
       "<style scoped>\n",
       "    .dataframe tbody tr th:only-of-type {\n",
       "        vertical-align: middle;\n",
       "    }\n",
       "\n",
       "    .dataframe tbody tr th {\n",
       "        vertical-align: top;\n",
       "    }\n",
       "\n",
       "    .dataframe thead th {\n",
       "        text-align: right;\n",
       "    }\n",
       "</style>\n",
       "<table border=\"1\" class=\"dataframe\">\n",
       "  <thead>\n",
       "    <tr style=\"text-align: right;\">\n",
       "      <th></th>\n",
       "      <th>Attrition</th>\n",
       "    </tr>\n",
       "  </thead>\n",
       "  <tbody>\n",
       "    <tr>\n",
       "      <th>0</th>\n",
       "      <td>1.0</td>\n",
       "    </tr>\n",
       "    <tr>\n",
       "      <th>1</th>\n",
       "      <td>0.0</td>\n",
       "    </tr>\n",
       "    <tr>\n",
       "      <th>2</th>\n",
       "      <td>0.0</td>\n",
       "    </tr>\n",
       "    <tr>\n",
       "      <th>3</th>\n",
       "      <td>0.0</td>\n",
       "    </tr>\n",
       "    <tr>\n",
       "      <th>4</th>\n",
       "      <td>0.0</td>\n",
       "    </tr>\n",
       "  </tbody>\n",
       "</table>\n",
       "</div>"
      ],
      "text/plain": [
       "   Attrition\n",
       "0        1.0\n",
       "1        0.0\n",
       "2        0.0\n",
       "3        0.0\n",
       "4        0.0"
      ]
     },
     "execution_count": 59,
     "metadata": {},
     "output_type": "execute_result"
    }
   ],
   "source": [
    "submission.head()"
   ]
  },
  {
   "cell_type": "code",
   "execution_count": 60,
   "id": "47003443",
   "metadata": {
    "execution": {
     "iopub.execute_input": "2023-05-11T20:18:18.228080Z",
     "iopub.status.busy": "2023-05-11T20:18:18.227302Z",
     "iopub.status.idle": "2023-05-11T20:18:18.238834Z",
     "shell.execute_reply": "2023-05-11T20:18:18.237544Z"
    },
    "papermill": {
     "duration": 0.063218,
     "end_time": "2023-05-11T20:18:18.241289",
     "exception": false,
     "start_time": "2023-05-11T20:18:18.178071",
     "status": "completed"
    },
    "tags": []
   },
   "outputs": [
    {
     "name": "stdout",
     "output_type": "stream",
     "text": [
      "<class 'pandas.core.frame.DataFrame'>\n",
      "RangeIndex: 212 entries, 0 to 211\n",
      "Data columns (total 1 columns):\n",
      " #   Column     Non-Null Count  Dtype  \n",
      "---  ------     --------------  -----  \n",
      " 0   Attrition  212 non-null    float64\n",
      "dtypes: float64(1)\n",
      "memory usage: 1.8 KB\n"
     ]
    }
   ],
   "source": [
    "submission.info()"
   ]
  },
  {
   "cell_type": "code",
   "execution_count": 61,
   "id": "10898790",
   "metadata": {
    "execution": {
     "iopub.execute_input": "2023-05-11T20:18:18.339869Z",
     "iopub.status.busy": "2023-05-11T20:18:18.338665Z",
     "iopub.status.idle": "2023-05-11T20:18:18.344965Z",
     "shell.execute_reply": "2023-05-11T20:18:18.343858Z"
    },
    "papermill": {
     "duration": 0.058267,
     "end_time": "2023-05-11T20:18:18.347351",
     "exception": false,
     "start_time": "2023-05-11T20:18:18.289084",
     "status": "completed"
    },
    "tags": []
   },
   "outputs": [],
   "source": [
    "submission['Attrition'] = y_pred\n",
    "submission['Attrition'] = submission['Attrition'].astype('int')"
   ]
  },
  {
   "cell_type": "code",
   "execution_count": 62,
   "id": "b93531f4",
   "metadata": {
    "execution": {
     "iopub.execute_input": "2023-05-11T20:18:18.447283Z",
     "iopub.status.busy": "2023-05-11T20:18:18.446535Z",
     "iopub.status.idle": "2023-05-11T20:18:18.455107Z",
     "shell.execute_reply": "2023-05-11T20:18:18.454232Z"
    },
    "papermill": {
     "duration": 0.061428,
     "end_time": "2023-05-11T20:18:18.457250",
     "exception": false,
     "start_time": "2023-05-11T20:18:18.395822",
     "status": "completed"
    },
    "tags": []
   },
   "outputs": [
    {
     "data": {
      "text/html": [
       "<div>\n",
       "<style scoped>\n",
       "    .dataframe tbody tr th:only-of-type {\n",
       "        vertical-align: middle;\n",
       "    }\n",
       "\n",
       "    .dataframe tbody tr th {\n",
       "        vertical-align: top;\n",
       "    }\n",
       "\n",
       "    .dataframe thead th {\n",
       "        text-align: right;\n",
       "    }\n",
       "</style>\n",
       "<table border=\"1\" class=\"dataframe\">\n",
       "  <thead>\n",
       "    <tr style=\"text-align: right;\">\n",
       "      <th></th>\n",
       "      <th>Attrition</th>\n",
       "    </tr>\n",
       "  </thead>\n",
       "  <tbody>\n",
       "    <tr>\n",
       "      <th>0</th>\n",
       "      <td>1</td>\n",
       "    </tr>\n",
       "    <tr>\n",
       "      <th>1</th>\n",
       "      <td>0</td>\n",
       "    </tr>\n",
       "    <tr>\n",
       "      <th>2</th>\n",
       "      <td>0</td>\n",
       "    </tr>\n",
       "    <tr>\n",
       "      <th>3</th>\n",
       "      <td>0</td>\n",
       "    </tr>\n",
       "    <tr>\n",
       "      <th>4</th>\n",
       "      <td>0</td>\n",
       "    </tr>\n",
       "  </tbody>\n",
       "</table>\n",
       "</div>"
      ],
      "text/plain": [
       "   Attrition\n",
       "0          1\n",
       "1          0\n",
       "2          0\n",
       "3          0\n",
       "4          0"
      ]
     },
     "execution_count": 62,
     "metadata": {},
     "output_type": "execute_result"
    }
   ],
   "source": [
    "submission.head()"
   ]
  },
  {
   "cell_type": "code",
   "execution_count": 63,
   "id": "a0c176c5",
   "metadata": {
    "execution": {
     "iopub.execute_input": "2023-05-11T20:18:18.556361Z",
     "iopub.status.busy": "2023-05-11T20:18:18.555535Z",
     "iopub.status.idle": "2023-05-11T20:18:18.567312Z",
     "shell.execute_reply": "2023-05-11T20:18:18.566011Z"
    },
    "papermill": {
     "duration": 0.064952,
     "end_time": "2023-05-11T20:18:18.570362",
     "exception": false,
     "start_time": "2023-05-11T20:18:18.505410",
     "status": "completed"
    },
    "tags": []
   },
   "outputs": [],
   "source": [
    "submission.to_csv('submission.csv', index=False)"
   ]
  },
  {
   "cell_type": "code",
   "execution_count": null,
   "id": "f5c31557",
   "metadata": {
    "papermill": {
     "duration": 0.048451,
     "end_time": "2023-05-11T20:18:18.667486",
     "exception": false,
     "start_time": "2023-05-11T20:18:18.619035",
     "status": "completed"
    },
    "tags": []
   },
   "outputs": [],
   "source": []
  }
 ],
 "metadata": {
  "kernelspec": {
   "display_name": "Python 3",
   "language": "python",
   "name": "python3"
  },
  "language_info": {
   "codemirror_mode": {
    "name": "ipython",
    "version": 3
   },
   "file_extension": ".py",
   "mimetype": "text/x-python",
   "name": "python",
   "nbconvert_exporter": "python",
   "pygments_lexer": "ipython3",
   "version": "3.10.10"
  },
  "papermill": {
   "default_parameters": {},
   "duration": 36.236647,
   "end_time": "2023-05-11T20:18:20.040724",
   "environment_variables": {},
   "exception": null,
   "input_path": "__notebook__.ipynb",
   "output_path": "__notebook__.ipynb",
   "parameters": {},
   "start_time": "2023-05-11T20:17:43.804077",
   "version": "2.4.0"
  }
 },
 "nbformat": 4,
 "nbformat_minor": 5
}
