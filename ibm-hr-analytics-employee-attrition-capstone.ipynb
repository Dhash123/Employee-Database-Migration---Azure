{
 "cells": [
  {
   "cell_type": "markdown",
   "id": "5c69e1a8",
   "metadata": {
    "papermill": {
     "duration": 0.005342,
     "end_time": "2023-02-04T10:53:54.779042",
     "exception": false,
     "start_time": "2023-02-04T10:53:54.773700",
     "status": "completed"
    },
    "tags": []
   },
   "source": [
    "# <span> Table of Contents </span>\n",
    "\n",
    "* [1. Summary](#summary)\n",
    "* [2. Prepare](#prepare)\n",
    "    * [2.1 Loading Libraries](#installing_the_necessary_libraries)\n",
    "    * [2.2 Loading Dataset](#loading_dataset)\n",
    "    * [2.3 Exploring Dataset](#explore_dataset)\n",
    "* [3. Data Visualization](#data_viz)\n",
    "    * [3.1 Age Distribution](#age_distribution)\n",
    "    * [3.2 Explore Attrition by Age](#explore_attrition_by_age)\n",
    "    * [3.3 Explore Data for Left Employees](#explore_data_for_left_employees)\n",
    "    * [3.4 Distribution of Employees by the Education Field](#distribution_of_employees_by_the_education_field)\n",
    "    * [3.5 Distribution of Marital Status](#distribution_of_marital_status)"
   ]
  },
  {
   "cell_type": "markdown",
   "id": "afdeca72",
   "metadata": {
    "execution": {
     "iopub.execute_input": "2023-01-28T10:16:28.194189Z",
     "iopub.status.busy": "2023-01-28T10:16:28.193755Z",
     "iopub.status.idle": "2023-01-28T10:16:28.203745Z",
     "shell.execute_reply": "2023-01-28T10:16:28.201742Z",
     "shell.execute_reply.started": "2023-01-28T10:16:28.194153Z"
    },
    "papermill": {
     "duration": 0.003764,
     "end_time": "2023-02-04T10:53:54.787114",
     "exception": false,
     "start_time": "2023-02-04T10:53:54.783350",
     "status": "completed"
    },
    "tags": []
   },
   "source": [
    "# <span> 1. Summary</span> <a class=\"anchor\" id=\"summary\"></a>\n",
    "IBM is an American MNC operating in around 170 countries with major business vertical as computing, software, and hardware. Attrition is a major risk to service-providing organizations where trained and experienced people are the assets of the company. The organization would like to identify the factors which influence the attrition of employees.\n",
    "\n",
    "# <span> 2. Prepare</span> <a class=\"anchor\" id=\"prepare\"></a>\n",
    "The data used is stored in Kaggle under the IBM Employee Dataset. The dataset contains information about their education, department, and more.\n",
    "\n",
    "## <span> 2.1 Loading the necessary libraries for analysis</span> <a class=\"anchor\" id=\"installing_the_necessary_libraries\"></a>"
   ]
  },
  {
   "cell_type": "code",
   "execution_count": 1,
   "id": "2e1a8d57",
   "metadata": {
    "execution": {
     "iopub.execute_input": "2023-02-04T10:53:54.796909Z",
     "iopub.status.busy": "2023-02-04T10:53:54.796434Z",
     "iopub.status.idle": "2023-02-04T10:53:55.848817Z",
     "shell.execute_reply": "2023-02-04T10:53:55.847892Z"
    },
    "papermill": {
     "duration": 1.0605,
     "end_time": "2023-02-04T10:53:55.851595",
     "exception": false,
     "start_time": "2023-02-04T10:53:54.791095",
     "status": "completed"
    },
    "tags": []
   },
   "outputs": [],
   "source": [
    "import pandas as pd\n",
    "import numpy as np\n",
    "\n",
    "#Data Viz\n",
    "import matplotlib.pyplot as plt\n",
    "from matplotlib import style\n",
    "import seaborn as sns"
   ]
  },
  {
   "cell_type": "markdown",
   "id": "04f240c5",
   "metadata": {
    "execution": {
     "iopub.execute_input": "2023-01-28T10:06:41.945196Z",
     "iopub.status.busy": "2023-01-28T10:06:41.944793Z",
     "iopub.status.idle": "2023-01-28T10:06:41.950111Z",
     "shell.execute_reply": "2023-01-28T10:06:41.948533Z",
     "shell.execute_reply.started": "2023-01-28T10:06:41.945164Z"
    },
    "papermill": {
     "duration": 0.00374,
     "end_time": "2023-02-04T10:53:55.859763",
     "exception": false,
     "start_time": "2023-02-04T10:53:55.856023",
     "status": "completed"
    },
    "tags": []
   },
   "source": [
    "## <span> 2.2 Loading the dataset</span> <a class=\"anchor\" id=\"loading_dataset\"></a>"
   ]
  },
  {
   "cell_type": "code",
   "execution_count": 2,
   "id": "35dd8971",
   "metadata": {
    "execution": {
     "iopub.execute_input": "2023-02-04T10:53:55.869566Z",
     "iopub.status.busy": "2023-02-04T10:53:55.869207Z",
     "iopub.status.idle": "2023-02-04T10:53:55.894525Z",
     "shell.execute_reply": "2023-02-04T10:53:55.893556Z"
    },
    "papermill": {
     "duration": 0.033393,
     "end_time": "2023-02-04T10:53:55.897110",
     "exception": false,
     "start_time": "2023-02-04T10:53:55.863717",
     "status": "completed"
    },
    "tags": []
   },
   "outputs": [],
   "source": [
    "attrition_dataset = pd.read_csv('/kaggle/input/employee/train.csv')"
   ]
  },
  {
   "cell_type": "markdown",
   "id": "a94c2128",
   "metadata": {
    "papermill": {
     "duration": 0.0039,
     "end_time": "2023-02-04T10:53:55.905234",
     "exception": false,
     "start_time": "2023-02-04T10:53:55.901334",
     "status": "completed"
    },
    "tags": []
   },
   "source": [
    "## <span> 2.3 Exploring the dataset</span> <a class=\"anchor\" id=\"explore_dataset\"></a>"
   ]
  },
  {
   "cell_type": "code",
   "execution_count": 3,
   "id": "53704920",
   "metadata": {
    "execution": {
     "iopub.execute_input": "2023-02-04T10:53:55.914873Z",
     "iopub.status.busy": "2023-02-04T10:53:55.914520Z",
     "iopub.status.idle": "2023-02-04T10:53:55.945007Z",
     "shell.execute_reply": "2023-02-04T10:53:55.943936Z"
    },
    "papermill": {
     "duration": 0.038711,
     "end_time": "2023-02-04T10:53:55.947855",
     "exception": false,
     "start_time": "2023-02-04T10:53:55.909144",
     "status": "completed"
    },
    "tags": []
   },
   "outputs": [
    {
     "data": {
      "text/html": [
       "<div>\n",
       "<style scoped>\n",
       "    .dataframe tbody tr th:only-of-type {\n",
       "        vertical-align: middle;\n",
       "    }\n",
       "\n",
       "    .dataframe tbody tr th {\n",
       "        vertical-align: top;\n",
       "    }\n",
       "\n",
       "    .dataframe thead th {\n",
       "        text-align: right;\n",
       "    }\n",
       "</style>\n",
       "<table border=\"1\" class=\"dataframe\">\n",
       "  <thead>\n",
       "    <tr style=\"text-align: right;\">\n",
       "      <th></th>\n",
       "      <th>Age</th>\n",
       "      <th>Attrition</th>\n",
       "      <th>BusinessTravel</th>\n",
       "      <th>DailyRate</th>\n",
       "      <th>Department</th>\n",
       "      <th>DistanceFromHome</th>\n",
       "      <th>Education</th>\n",
       "      <th>EducationField</th>\n",
       "      <th>EmployeeCount</th>\n",
       "      <th>EmployeeNumber</th>\n",
       "      <th>...</th>\n",
       "      <th>RelationshipSatisfaction</th>\n",
       "      <th>StandardHours</th>\n",
       "      <th>StockOptionLevel</th>\n",
       "      <th>TotalWorkingYears</th>\n",
       "      <th>TrainingTimesLastYear</th>\n",
       "      <th>WorkLifeBalance</th>\n",
       "      <th>YearsAtCompany</th>\n",
       "      <th>YearsInCurrentRole</th>\n",
       "      <th>YearsSinceLastPromotion</th>\n",
       "      <th>YearsWithCurrManager</th>\n",
       "    </tr>\n",
       "  </thead>\n",
       "  <tbody>\n",
       "    <tr>\n",
       "      <th>0</th>\n",
       "      <td>41</td>\n",
       "      <td>1</td>\n",
       "      <td>Travel_Rarely</td>\n",
       "      <td>1102</td>\n",
       "      <td>Sales</td>\n",
       "      <td>1</td>\n",
       "      <td>2</td>\n",
       "      <td>Life Sciences</td>\n",
       "      <td>1</td>\n",
       "      <td>1</td>\n",
       "      <td>...</td>\n",
       "      <td>1</td>\n",
       "      <td>80</td>\n",
       "      <td>0</td>\n",
       "      <td>8</td>\n",
       "      <td>0</td>\n",
       "      <td>1</td>\n",
       "      <td>6</td>\n",
       "      <td>4</td>\n",
       "      <td>0</td>\n",
       "      <td>5</td>\n",
       "    </tr>\n",
       "    <tr>\n",
       "      <th>1</th>\n",
       "      <td>49</td>\n",
       "      <td>0</td>\n",
       "      <td>Travel_Frequently</td>\n",
       "      <td>279</td>\n",
       "      <td>Research &amp; Development</td>\n",
       "      <td>8</td>\n",
       "      <td>1</td>\n",
       "      <td>Life Sciences</td>\n",
       "      <td>1</td>\n",
       "      <td>2</td>\n",
       "      <td>...</td>\n",
       "      <td>4</td>\n",
       "      <td>80</td>\n",
       "      <td>1</td>\n",
       "      <td>10</td>\n",
       "      <td>3</td>\n",
       "      <td>3</td>\n",
       "      <td>10</td>\n",
       "      <td>7</td>\n",
       "      <td>1</td>\n",
       "      <td>7</td>\n",
       "    </tr>\n",
       "    <tr>\n",
       "      <th>2</th>\n",
       "      <td>37</td>\n",
       "      <td>1</td>\n",
       "      <td>Travel_Rarely</td>\n",
       "      <td>1373</td>\n",
       "      <td>Research &amp; Development</td>\n",
       "      <td>2</td>\n",
       "      <td>2</td>\n",
       "      <td>Other</td>\n",
       "      <td>1</td>\n",
       "      <td>4</td>\n",
       "      <td>...</td>\n",
       "      <td>2</td>\n",
       "      <td>80</td>\n",
       "      <td>0</td>\n",
       "      <td>7</td>\n",
       "      <td>3</td>\n",
       "      <td>3</td>\n",
       "      <td>0</td>\n",
       "      <td>0</td>\n",
       "      <td>0</td>\n",
       "      <td>0</td>\n",
       "    </tr>\n",
       "    <tr>\n",
       "      <th>3</th>\n",
       "      <td>33</td>\n",
       "      <td>0</td>\n",
       "      <td>Travel_Frequently</td>\n",
       "      <td>1392</td>\n",
       "      <td>Research &amp; Development</td>\n",
       "      <td>3</td>\n",
       "      <td>4</td>\n",
       "      <td>Life Sciences</td>\n",
       "      <td>1</td>\n",
       "      <td>5</td>\n",
       "      <td>...</td>\n",
       "      <td>3</td>\n",
       "      <td>80</td>\n",
       "      <td>0</td>\n",
       "      <td>8</td>\n",
       "      <td>3</td>\n",
       "      <td>3</td>\n",
       "      <td>8</td>\n",
       "      <td>7</td>\n",
       "      <td>3</td>\n",
       "      <td>0</td>\n",
       "    </tr>\n",
       "    <tr>\n",
       "      <th>4</th>\n",
       "      <td>27</td>\n",
       "      <td>0</td>\n",
       "      <td>Travel_Rarely</td>\n",
       "      <td>591</td>\n",
       "      <td>Research &amp; Development</td>\n",
       "      <td>2</td>\n",
       "      <td>1</td>\n",
       "      <td>Medical</td>\n",
       "      <td>1</td>\n",
       "      <td>7</td>\n",
       "      <td>...</td>\n",
       "      <td>4</td>\n",
       "      <td>80</td>\n",
       "      <td>1</td>\n",
       "      <td>6</td>\n",
       "      <td>3</td>\n",
       "      <td>3</td>\n",
       "      <td>2</td>\n",
       "      <td>2</td>\n",
       "      <td>2</td>\n",
       "      <td>2</td>\n",
       "    </tr>\n",
       "  </tbody>\n",
       "</table>\n",
       "<p>5 rows × 35 columns</p>\n",
       "</div>"
      ],
      "text/plain": [
       "   Age  Attrition     BusinessTravel  DailyRate              Department  \\\n",
       "0   41          1      Travel_Rarely       1102                   Sales   \n",
       "1   49          0  Travel_Frequently        279  Research & Development   \n",
       "2   37          1      Travel_Rarely       1373  Research & Development   \n",
       "3   33          0  Travel_Frequently       1392  Research & Development   \n",
       "4   27          0      Travel_Rarely        591  Research & Development   \n",
       "\n",
       "   DistanceFromHome  Education EducationField  EmployeeCount  EmployeeNumber  \\\n",
       "0                 1          2  Life Sciences              1               1   \n",
       "1                 8          1  Life Sciences              1               2   \n",
       "2                 2          2          Other              1               4   \n",
       "3                 3          4  Life Sciences              1               5   \n",
       "4                 2          1        Medical              1               7   \n",
       "\n",
       "   ...  RelationshipSatisfaction StandardHours  StockOptionLevel  \\\n",
       "0  ...                         1            80                 0   \n",
       "1  ...                         4            80                 1   \n",
       "2  ...                         2            80                 0   \n",
       "3  ...                         3            80                 0   \n",
       "4  ...                         4            80                 1   \n",
       "\n",
       "   TotalWorkingYears  TrainingTimesLastYear WorkLifeBalance  YearsAtCompany  \\\n",
       "0                  8                      0               1               6   \n",
       "1                 10                      3               3              10   \n",
       "2                  7                      3               3               0   \n",
       "3                  8                      3               3               8   \n",
       "4                  6                      3               3               2   \n",
       "\n",
       "  YearsInCurrentRole  YearsSinceLastPromotion  YearsWithCurrManager  \n",
       "0                  4                        0                     5  \n",
       "1                  7                        1                     7  \n",
       "2                  0                        0                     0  \n",
       "3                  7                        3                     0  \n",
       "4                  2                        2                     2  \n",
       "\n",
       "[5 rows x 35 columns]"
      ]
     },
     "execution_count": 3,
     "metadata": {},
     "output_type": "execute_result"
    }
   ],
   "source": [
    "attrition_dataset.head()"
   ]
  },
  {
   "cell_type": "markdown",
   "id": "36c6ec56",
   "metadata": {
    "papermill": {
     "duration": 0.004175,
     "end_time": "2023-02-04T10:53:55.956685",
     "exception": false,
     "start_time": "2023-02-04T10:53:55.952510",
     "status": "completed"
    },
    "tags": []
   },
   "source": [
    " # <span> 3. Data Visualization</span> <a class=\"anchor\" id=\"data_viz\"></a>\n",
    " ## <span> 3.1 Age Distribution</span> <a class=\"anchor\" id=\"age_distribution\"></a>"
   ]
  },
  {
   "cell_type": "code",
   "execution_count": 4,
   "id": "2ed9697e",
   "metadata": {
    "execution": {
     "iopub.execute_input": "2023-02-04T10:53:55.967315Z",
     "iopub.status.busy": "2023-02-04T10:53:55.966916Z",
     "iopub.status.idle": "2023-02-04T10:53:56.259052Z",
     "shell.execute_reply": "2023-02-04T10:53:56.258042Z"
    },
    "papermill": {
     "duration": 0.300735,
     "end_time": "2023-02-04T10:53:56.261693",
     "exception": false,
     "start_time": "2023-02-04T10:53:55.960958",
     "status": "completed"
    },
    "tags": []
   },
   "outputs": [
    {
     "data": {
      "image/png": "[encoded data removed]",
      "text/plain": [
       "<Figure size 720x720 with 1 Axes>"
      ]
     },
     "metadata": {
      "needs_background": "light"
     },
     "output_type": "display_data"
    }
   ],
   "source": [
    "plt.figure(figsize=(10,10))\n",
    "plt.hist(attrition_dataset['Age'],bins=70)\n",
    "plt.title(\"Age Distribution of Employees\")\n",
    "plt.xlabel(\"Age of Employees\")\n",
    "plt.ylabel(\"No of Employees\")\n",
    "plt.show()"
   ]
  },
  {
   "cell_type": "markdown",
   "id": "cf0acefb",
   "metadata": {
    "papermill": {
     "duration": 0.004617,
     "end_time": "2023-02-04T10:53:56.271338",
     "exception": false,
     "start_time": "2023-02-04T10:53:56.266721",
     "status": "completed"
    },
    "tags": []
   },
   "source": [
    "## <span> 3.2 Explore Attrition by Age</span> <a class=\"anchor\" id=\"explore_attrition_by_age\"></a>"
   ]
  },
  {
   "cell_type": "code",
   "execution_count": 5,
   "id": "642d2d82",
   "metadata": {
    "execution": {
     "iopub.execute_input": "2023-02-04T10:53:56.282137Z",
     "iopub.status.busy": "2023-02-04T10:53:56.281743Z",
     "iopub.status.idle": "2023-02-04T10:53:58.438079Z",
     "shell.execute_reply": "2023-02-04T10:53:58.436931Z"
    },
    "papermill": {
     "duration": 2.164583,
     "end_time": "2023-02-04T10:53:58.440528",
     "exception": false,
     "start_time": "2023-02-04T10:53:56.275945",
     "status": "completed"
    },
    "tags": []
   },
   "outputs": [
    {
     "data": {
      "image/png": "[encoded data removed]",
      "text/plain": [
       "<Figure size 360x360 with 1 Axes>"
      ]
     },
     "metadata": {
      "needs_background": "light"
     },
     "output_type": "display_data"
    }
   ],
   "source": [
    "plt.figure(figsize=(5,5))\n",
    "plt.bar(attrition_dataset.Attrition,attrition_dataset.Age, alpha=.55)\n",
    "plt.title(\"Attrition by Age\")\n",
    "plt.ylabel(\"Age of the Employees\")\n",
    "plt.show()"
   ]
  },
  {
   "cell_type": "markdown",
   "id": "aca9f1a9",
   "metadata": {
    "papermill": {
     "duration": 0.004752,
     "end_time": "2023-02-04T10:53:58.450213",
     "exception": false,
     "start_time": "2023-02-04T10:53:58.445461",
     "status": "completed"
    },
    "tags": []
   },
   "source": [
    "## <span> 3.3 Explore Data for Left Employees</span> <a class=\"anchor\" id=\"explore_data_for_left_employees\"></a>"
   ]
  },
  {
   "cell_type": "code",
   "execution_count": 6,
   "id": "8bd073e8",
   "metadata": {
    "execution": {
     "iopub.execute_input": "2023-02-04T10:53:58.462061Z",
     "iopub.status.busy": "2023-02-04T10:53:58.460913Z",
     "iopub.status.idle": "2023-02-04T10:53:58.611077Z",
     "shell.execute_reply": "2023-02-04T10:53:58.609543Z"
    },
    "papermill": {
     "duration": 0.160986,
     "end_time": "2023-02-04T10:53:58.615869",
     "exception": false,
     "start_time": "2023-02-04T10:53:58.454883",
     "status": "completed"
    },
    "tags": []
   },
   "outputs": [
    {
     "data": {
      "image/png": "[encoded data removed]",
      "text/plain": [
       "<Figure size 576x576 with 1 Axes>"
      ]
     },
     "metadata": {
      "needs_background": "light"
     },
     "output_type": "display_data"
    }
   ],
   "source": [
    "plt.figure(figsize=(8,8))\n",
    "attrition_dataset.Attrition.value_counts().plot(kind='barh', color='r', alpha = 0.6)\n",
    "plt.title(\"Employees Attrition Distribution\")\n",
    "plt.ylabel(\"Attrition Level\")\n",
    "plt.show()"
   ]
  },
  {
   "cell_type": "markdown",
   "id": "173bfc00",
   "metadata": {
    "papermill": {
     "duration": 0.006456,
     "end_time": "2023-02-04T10:53:58.635299",
     "exception": false,
     "start_time": "2023-02-04T10:53:58.628843",
     "status": "completed"
    },
    "tags": []
   },
   "source": [
    "## <span> 3.4 Distribution of Employees by the Education Field</span> <a class=\"anchor\" id=\"distribution_of_employees_by_the_education_field\"></a>"
   ]
  },
  {
   "cell_type": "code",
   "execution_count": 7,
   "id": "70f5e4f8",
   "metadata": {
    "execution": {
     "iopub.execute_input": "2023-02-04T10:53:58.647896Z",
     "iopub.status.busy": "2023-02-04T10:53:58.646826Z",
     "iopub.status.idle": "2023-02-04T10:53:58.855197Z",
     "shell.execute_reply": "2023-02-04T10:53:58.854112Z"
    },
    "papermill": {
     "duration": 0.217115,
     "end_time": "2023-02-04T10:53:58.857708",
     "exception": false,
     "start_time": "2023-02-04T10:53:58.640593",
     "status": "completed"
    },
    "tags": []
   },
   "outputs": [
    {
     "data": {
      "image/png": "[encoded data removed]",
      "text/plain": [
       "<Figure size 576x576 with 1 Axes>"
      ]
     },
     "metadata": {
      "needs_background": "light"
     },
     "output_type": "display_data"
    }
   ],
   "source": [
    "plt.figure(figsize=(8,8))\n",
    "attrition_dataset.EducationField.value_counts().plot(kind='barh', color='r', alpha = 0.6)\n",
    "plt.title(\"Employees Education Distribution\")\n",
    "plt.ylabel(\"Education Fields\")\n",
    "plt.show()"
   ]
  },
  {
   "cell_type": "markdown",
   "id": "4d23f084",
   "metadata": {
    "papermill": {
     "duration": 0.005122,
     "end_time": "2023-02-04T10:53:58.868477",
     "exception": false,
     "start_time": "2023-02-04T10:53:58.863355",
     "status": "completed"
    },
    "tags": []
   },
   "source": [
    "## <span> 3.5 Distribution of Marital Status</span> <a class=\"anchor\" id=\"distribution_of_marital_status\"></a>"
   ]
  },
  {
   "cell_type": "code",
   "execution_count": 8,
   "id": "859c7aa8",
   "metadata": {
    "execution": {
     "iopub.execute_input": "2023-02-04T10:53:58.880551Z",
     "iopub.status.busy": "2023-02-04T10:53:58.880211Z",
     "iopub.status.idle": "2023-02-04T10:53:59.065075Z",
     "shell.execute_reply": "2023-02-04T10:53:59.064028Z"
    },
    "papermill": {
     "duration": 0.193569,
     "end_time": "2023-02-04T10:53:59.067354",
     "exception": false,
     "start_time": "2023-02-04T10:53:58.873785",
     "status": "completed"
    },
    "tags": []
   },
   "outputs": [
    {
     "data": {
      "image/png": "[encoded data removed]",
      "text/plain": [
       "<Figure size 576x576 with 1 Axes>"
      ]
     },
     "metadata": {
      "needs_background": "light"
     },
     "output_type": "display_data"
    }
   ],
   "source": [
    "plt.figure(figsize=(8,8))\n",
    "attrition_dataset.MaritalStatus.value_counts().plot(kind='barh', color='r', alpha = 0.6)\n",
    "plt.title(\"Marital Status\")\n",
    "plt.show()"
   ]
  }
 ],
 "metadata": {
  "kernelspec": {
   "display_name": "Python 3",
   "language": "python",
   "name": "python3"
  },
  "language_info": {
   "codemirror_mode": {
    "name": "ipython",
    "version": 3
   },
   "file_extension": ".py",
   "mimetype": "text/x-python",
   "name": "python",
   "nbconvert_exporter": "python",
   "pygments_lexer": "ipython3",
   "version": "3.7.12"
  },
  "papermill": {
   "default_parameters": {},
   "duration": 13.251493,
   "end_time": "2023-02-04T10:53:59.794781",
   "environment_variables": {},
   "exception": null,
   "input_path": "__notebook__.ipynb",
   "output_path": "__notebook__.ipynb",
   "parameters": {},
   "start_time": "2023-02-04T10:53:46.543288",
   "version": "2.3.4"
  }
 },
 "nbformat": 4,
 "nbformat_minor": 5
}
